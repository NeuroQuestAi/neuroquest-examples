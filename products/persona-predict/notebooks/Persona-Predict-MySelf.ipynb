{
 "cells": [
  {
   "cell_type": "markdown",
   "id": "05be025f-1d6d-41eb-aa04-14081277fa0f",
   "metadata": {},
   "source": [
    "# Analyzing Personality MySelf 🌊\n",
    "\n",
    "Using the **Persona-Predict** 🧠 service to create an analysis based on the author's text ✍️ and analyze the 🗣 personality traits generated. For more information about the service visit: [docs.neuroquest.ai/persona-predict](https://docs.neuroquest.ai/persona-predict/)\n",
    "\n",
    "If the graphics are not rendered 🚫, use the address:\n",
    "\n",
    "  - [View in NBViewer](https://nbviewer.org/github/NeuroQuestAi/neuroquest-examples/blob/main/products/persona-predict/notebooks/Persona-Predict-MySelf.ipynb?flush_cache=true)"
   ]
  },
  {
   "cell_type": "code",
   "execution_count": 1,
   "id": "50578723-bc28-4121-a8d9-dd7f8a153ad0",
   "metadata": {},
   "outputs": [],
   "source": [
    "import os\n",
    "\n",
    "import pandas as pd\n",
    "from faker import Faker\n",
    "from IPython.display import JSON, HTML, display\n",
    "\n",
    "import utility as U"
   ]
  },
  {
   "cell_type": "code",
   "execution_count": 2,
   "id": "d55dac21-035c-4db4-a7c6-4585abda5e50",
   "metadata": {},
   "outputs": [],
   "source": [
    "NQ_USER = os.getenv(\"NQ_USER\")\n",
    "NQ_PASSWORD = os.getenv(\"NQ_PASSWORD\")"
   ]
  },
  {
   "cell_type": "markdown",
   "id": "73c5b1e8-c15e-4770-9517-11b0e660598a",
   "metadata": {},
   "source": [
    "## Create the Personality Analysis 📊\n",
    "\n",
    "- Sends the text to the **Persona-Predict** Service, if the analysis already exists it is read from the file."
   ]
  },
  {
   "cell_type": "code",
   "execution_count": 3,
   "id": "c4e537c0-f06d-47fe-b6da-269b3f0d8eee",
   "metadata": {},
   "outputs": [
    {
     "name": "stdout",
     "output_type": "stream",
     "text": [
      "Reading the saved analysis...\n"
     ]
    }
   ],
   "source": [
    "if not os.path.exists(\"predict-result.json\"):\n",
    "    print(\"Sending the text for analysis...\")\n",
    "    analysis = U.predict_create(\n",
    "        token=U.login(user=NQ_USER, password=NQ_PASSWORD).get(\"data\").get(\"token\"),\n",
    "        data={\n",
    "            \"name\": Faker().name(),\n",
    "            \"essay\": U.get_my_txt_essay(lang=\"en\"),\n",
    "        },\n",
    "        save_result=True,\n",
    "    )\n",
    "else:\n",
    "    print(\"Reading the saved analysis...\")\n",
    "    analysis = U.get_predict_result_in_file()"
   ]
  },
  {
   "cell_type": "code",
   "execution_count": 4,
   "id": "8edee6a6-9eeb-449b-a7dd-093d0f9067ef",
   "metadata": {},
   "outputs": [
    {
     "data": {
      "application/json": {
       "code": 201,
       "data": {
        "document_id": "4TPjoxxFcFlprPb4vNbl",
        "owner": {
         "email": "ederbsd@gmail.com",
         "user_id": "MJumNgU0iud90UsEtohNeh6g0ju1"
        },
        "person": {
         "analysis": {
          "essay": {
           "analyzed_text": "Since my early days in a small town in the south, my life has been an incredible journey, full of challenges and achievements. I was born into a welcoming environment, but from an early age, I felt that the world had much more to offer. With determination and an unwavering will to grow, I decided to seek new opportunities in São Paulo. The move to the bustling metropolis was a cultural shock, but soon I found myself immersed in a dynamic environment full of possibilities. The thirst for learning drove me to pursue quality education, constantly seeking to enhance my skills and knowledge. The early years were challenging, but every obstacle was an opportunity to grow and evolve. I entered the corporate world with unwavering determination. I worked hard, taking on increasing and challenging responsibilities. Each position was a chance to learn and contribute to the growth of the organizations I worked for. Over time, my reputation as a dedicated and innovative leader began to solidify. The path to the CEO position was not easy. There were moments of doubt, but I always believed in my potential and the ability to make a difference. Leadership is not just about reaching the top but inspiring and guiding others along the way. I learned the importance of resilience, empathy, and making assertive decisions. Today, as the CEO of a large company, I look back with gratitude for all the experiences that shaped my journey. Every challenge overcome, every tough decision, and every victory contributed to my personal and professional growth. I am committed to continuing to lead with integrity, vision, and passion, always seeking innovation and excellence. My story is a testament that, regardless of where you start, with hard work, perseverance, and determination, it is possible to reach the highest heights. The journey is far from over, and I am excited about the challenges and achievements the future holds.",
           "detected_language": "en",
           "sentiment_analysis": {
            "result": 99.75,
            "sentiment": "Positive"
           },
           "word_count": 318
          },
          "personalities": [
           {
            "agreeableness": {
             "acronym": "A",
             "name": "Agreeableness",
             "result": 5.386083602905273,
             "score": "low",
             "traits": [
              {
               "name": "Trust",
               "result": 4.707536697387695,
               "score": "low",
               "trait": 1
              },
              {
               "name": "Morality",
               "result": 42.488990783691406,
               "score": "low",
               "trait": 2
              },
              {
               "name": "Altruism",
               "result": 32.29794692993164,
               "score": "low",
               "trait": 3
              },
              {
               "name": "Cooperation",
               "result": 1.8517127703651455,
               "score": "low",
               "trait": 4
              },
              {
               "name": "Modesty",
               "result": 18.846118927001953,
               "score": "low",
               "trait": 5
              },
              {
               "name": "Sympathy",
               "result": 39.399620056152344,
               "score": "low",
               "trait": 6
              }
             ]
            },
            "conscientiousness": {
             "acronym": "C",
             "name": "Conscientiousness",
             "result": 33.859703063964844,
             "score": "low",
             "traits": [
              {
               "name": "Self-Efficacy",
               "result": 55.03750991821289,
               "score": "high",
               "trait": 1
              },
              {
               "name": "Orderliness",
               "result": 12.346892356872559,
               "score": "low",
               "trait": 2
              },
              {
               "name": "Dutifulness",
               "result": 34.511260986328125,
               "score": "low",
               "trait": 3
              },
              {
               "name": "Achievement-Striving",
               "result": 80.02249908447266,
               "score": "high",
               "trait": 4
              },
              {
               "name": "Self-Discipline",
               "result": 35.548072814941406,
               "score": "low",
               "trait": 5
              },
              {
               "name": "Cautiousness",
               "result": 27.753183364868164,
               "score": "low",
               "trait": 6
              }
             ]
            },
            "extraversion": {
             "acronym": "E",
             "name": "Extraversion",
             "result": 53.82899856567383,
             "score": "average",
             "traits": [
              {
               "name": "Friendliness",
               "result": 3.2207894325256348,
               "score": "low",
               "trait": 1
              },
              {
               "name": "Gregariousness",
               "result": 27.475488662719727,
               "score": "low",
               "trait": 2
              },
              {
               "name": "Assertiveness",
               "result": 96.12525239275645,
               "score": "high",
               "trait": 3
              },
              {
               "name": "Activity Level",
               "result": 79.07062530517578,
               "score": "high",
               "trait": 4
              },
              {
               "name": "Excitement Seeking",
               "result": 95.73973083496094,
               "score": "high",
               "trait": 5
              },
              {
               "name": "Cheerfulness",
               "result": 43.14783477783203,
               "score": "low",
               "trait": 6
              }
             ]
            },
            "neuroticism": {
             "acronym": "N",
             "name": "Neuroticism",
             "result": 48.02248001098633,
             "score": "average",
             "traits": [
              {
               "name": "Anxiety",
               "result": 58.3227653503418,
               "score": "high",
               "trait": 1
              },
              {
               "name": "Anger",
               "result": 54.17798614501953,
               "score": "average",
               "trait": 2
              },
              {
               "name": "Depression",
               "result": 52.08964920043945,
               "score": "average",
               "trait": 3
              },
              {
               "name": "Self-Consciousness",
               "result": 16.535886764526367,
               "score": "low",
               "trait": 4
              },
              {
               "name": "Immoderation",
               "result": 63.61724853515625,
               "score": "high",
               "trait": 5
              },
              {
               "name": "Vulnerability",
               "result": 33.75421142578125,
               "score": "low",
               "trait": 6
              }
             ]
            },
            "openness": {
             "acronym": "O",
             "name": "Openness",
             "result": 97.49926419274583,
             "score": "high",
             "traits": [
              {
               "name": "Imagination",
               "result": 96.92322157161632,
               "score": "high",
               "trait": 1
              },
              {
               "name": "Artistic Interests",
               "result": 84.92561340332031,
               "score": "high",
               "trait": 2
              },
              {
               "name": "Emotionality",
               "result": 94.06466674804688,
               "score": "high",
               "trait": 3
              },
              {
               "name": "Adventurousness",
               "result": 85.48937225341797,
               "score": "high",
               "trait": 4
              },
              {
               "name": "Intellect",
               "result": 99.44671409915635,
               "score": "high",
               "trait": 5
              },
              {
               "name": "Liberalism",
               "result": 50.243019104003906,
               "score": "average",
               "trait": 6
              }
             ]
            }
           }
          ],
          "warnings": [
           "For a more accurate analysis, it is better for the text to contain more words than 318."
          ]
         },
         "name": "Tammy Owen"
        },
        "predict_id": "023e5401-0809-4136-bcab-64c8dfc739bc",
        "provider": {
         "api": {
          "version": "v1.0.0"
         },
         "date": "2024-02-11 14:09:20 UTC",
         "model": {
          "name": "Claudia",
          "theory": "Big 5 Personality Traits",
          "version": "v1.0.0"
         },
         "name": "NeuroQuest AI",
         "product": "Persona-Predict"
        }
       },
       "status": "success"
      },
      "text/plain": [
       "<IPython.core.display.JSON object>"
      ]
     },
     "execution_count": 4,
     "metadata": {
      "application/json": {
       "expanded": true,
       "root": "root"
      }
     },
     "output_type": "execute_result"
    }
   ],
   "source": [
    "JSON(analysis, expanded=True)"
   ]
  },
  {
   "cell_type": "markdown",
   "id": "d9b59936-e191-4b76-bd6b-7035446d27e0",
   "metadata": {},
   "source": [
    "## 1. Big-Five Scores 🎭"
   ]
  },
  {
   "cell_type": "code",
   "execution_count": 5,
   "id": "1722938c-9193-4224-bcab-172da3177b4c",
   "metadata": {},
   "outputs": [
    {
     "data": {
      "text/html": [
       "<div>\n",
       "<style scoped>\n",
       "    .dataframe tbody tr th:only-of-type {\n",
       "        vertical-align: middle;\n",
       "    }\n",
       "\n",
       "    .dataframe tbody tr th {\n",
       "        vertical-align: top;\n",
       "    }\n",
       "\n",
       "    .dataframe thead th {\n",
       "        text-align: right;\n",
       "    }\n",
       "</style>\n",
       "<table border=\"1\" class=\"dataframe\">\n",
       "  <thead>\n",
       "    <tr style=\"text-align: right;\">\n",
       "      <th></th>\n",
       "      <th>O</th>\n",
       "      <th>C</th>\n",
       "      <th>E</th>\n",
       "      <th>A</th>\n",
       "      <th>N</th>\n",
       "    </tr>\n",
       "  </thead>\n",
       "  <tbody>\n",
       "    <tr>\n",
       "      <th>0</th>\n",
       "      <td>97.499264</td>\n",
       "      <td>33.859703</td>\n",
       "      <td>53.828999</td>\n",
       "      <td>5.386084</td>\n",
       "      <td>48.02248</td>\n",
       "    </tr>\n",
       "  </tbody>\n",
       "</table>\n",
       "</div>"
      ],
      "text/plain": [
       "           O          C          E         A         N\n",
       "0  97.499264  33.859703  53.828999  5.386084  48.02248"
      ]
     },
     "execution_count": 5,
     "metadata": {},
     "output_type": "execute_result"
    }
   ],
   "source": [
    "score_big_five = list(\n",
    "    map(\n",
    "        U.get_big_five,\n",
    "        analysis.get(\"data\").get(\"person\").get(\"analysis\").get(\"personalities\"),\n",
    "    )\n",
    ")\n",
    "pd.DataFrame(score_big_five)"
   ]
  },
  {
   "cell_type": "code",
   "execution_count": 6,
   "id": "8f56fc31-72ab-4be5-b4c0-2beb279de449",
   "metadata": {},
   "outputs": [
    {
     "data": {
      "text/html": [
       "<center><img src='plots/big_five_plot_bar.png'/></center>"
      ],
      "text/plain": [
       "<IPython.core.display.HTML object>"
      ]
     },
     "metadata": {},
     "output_type": "display_data"
    }
   ],
   "source": [
    "display(HTML(U.plot_big_five_bar(score_big_five=score_big_five)))"
   ]
  },
  {
   "cell_type": "code",
   "execution_count": 7,
   "id": "88faf87a-d41e-4149-9252-4c80ce1b1b91",
   "metadata": {},
   "outputs": [
    {
     "data": {
      "text/html": [
       "<center><img src='plots/big_five_plot_radar.png'/></center>"
      ],
      "text/plain": [
       "<IPython.core.display.HTML object>"
      ]
     },
     "metadata": {},
     "output_type": "display_data"
    }
   ],
   "source": [
    "display(HTML(U.plot_big_five_radar(score_big_five=score_big_five)))"
   ]
  },
  {
   "cell_type": "markdown",
   "id": "6dbab8a7-b01b-4468-818e-75d5455cf6e3",
   "metadata": {},
   "source": [
    "## 2. Big-Five Openness & Facets 🧑‍🎨"
   ]
  },
  {
   "cell_type": "code",
   "execution_count": 8,
   "id": "b40366b6-5fa3-4999-b800-5a2422a32f5f",
   "metadata": {},
   "outputs": [
    {
     "data": {
      "text/html": [
       "<div>\n",
       "<style scoped>\n",
       "    .dataframe tbody tr th:only-of-type {\n",
       "        vertical-align: middle;\n",
       "    }\n",
       "\n",
       "    .dataframe tbody tr th {\n",
       "        vertical-align: top;\n",
       "    }\n",
       "\n",
       "    .dataframe thead th {\n",
       "        text-align: right;\n",
       "    }\n",
       "</style>\n",
       "<table border=\"1\" class=\"dataframe\">\n",
       "  <thead>\n",
       "    <tr style=\"text-align: right;\">\n",
       "      <th></th>\n",
       "      <th>name</th>\n",
       "      <th>result</th>\n",
       "    </tr>\n",
       "  </thead>\n",
       "  <tbody>\n",
       "    <tr>\n",
       "      <th>0</th>\n",
       "      <td>Imagination</td>\n",
       "      <td>96.923222</td>\n",
       "    </tr>\n",
       "    <tr>\n",
       "      <th>1</th>\n",
       "      <td>Artistic Interests</td>\n",
       "      <td>84.925613</td>\n",
       "    </tr>\n",
       "    <tr>\n",
       "      <th>2</th>\n",
       "      <td>Emotionality</td>\n",
       "      <td>94.064667</td>\n",
       "    </tr>\n",
       "    <tr>\n",
       "      <th>3</th>\n",
       "      <td>Adventurousness</td>\n",
       "      <td>85.489372</td>\n",
       "    </tr>\n",
       "    <tr>\n",
       "      <th>4</th>\n",
       "      <td>Intellect</td>\n",
       "      <td>99.446714</td>\n",
       "    </tr>\n",
       "    <tr>\n",
       "      <th>5</th>\n",
       "      <td>Liberalism</td>\n",
       "      <td>50.243019</td>\n",
       "    </tr>\n",
       "  </tbody>\n",
       "</table>\n",
       "</div>"
      ],
      "text/plain": [
       "                 name     result\n",
       "0         Imagination  96.923222\n",
       "1  Artistic Interests  84.925613\n",
       "2        Emotionality  94.064667\n",
       "3     Adventurousness  85.489372\n",
       "4           Intellect  99.446714\n",
       "5          Liberalism  50.243019"
      ]
     },
     "execution_count": 8,
     "metadata": {},
     "output_type": "execute_result"
    }
   ],
   "source": [
    "score_openness_facets = (\n",
    "    analysis.get(\"data\")\n",
    "    .get(\"person\")\n",
    "    .get(\"analysis\")\n",
    "    .get(\"personalities\")[0]\n",
    "    .get(\"openness\")\n",
    "    .get(\"traits\")\n",
    ")\n",
    "pd.DataFrame(score_openness_facets, columns=[\"name\", \"result\"])"
   ]
  },
  {
   "cell_type": "code",
   "execution_count": 9,
   "id": "ea493798-cc05-43c8-8614-9d1a38719597",
   "metadata": {},
   "outputs": [
    {
     "data": {
      "text/html": [
       "<center><img src='plots/big_five_openness_facets_plot_bar.png'/></center>"
      ],
      "text/plain": [
       "<IPython.core.display.HTML object>"
      ]
     },
     "metadata": {},
     "output_type": "display_data"
    }
   ],
   "source": [
    "display(\n",
    "    HTML(\n",
    "        U.plot_big_five_openness_facets_bar(score_openness_facets=score_openness_facets)\n",
    "    )\n",
    ")"
   ]
  },
  {
   "cell_type": "markdown",
   "id": "056b9001-d1ae-41e9-98ce-fcee62674f2e",
   "metadata": {},
   "source": [
    "## 2. Big-Five Conscientiousness & Facets 🧑‍🔬 "
   ]
  },
  {
   "cell_type": "code",
   "execution_count": 10,
   "id": "25f0f372-13ad-45cd-b518-ceb800fe5fa2",
   "metadata": {},
   "outputs": [
    {
     "data": {
      "text/html": [
       "<div>\n",
       "<style scoped>\n",
       "    .dataframe tbody tr th:only-of-type {\n",
       "        vertical-align: middle;\n",
       "    }\n",
       "\n",
       "    .dataframe tbody tr th {\n",
       "        vertical-align: top;\n",
       "    }\n",
       "\n",
       "    .dataframe thead th {\n",
       "        text-align: right;\n",
       "    }\n",
       "</style>\n",
       "<table border=\"1\" class=\"dataframe\">\n",
       "  <thead>\n",
       "    <tr style=\"text-align: right;\">\n",
       "      <th></th>\n",
       "      <th>name</th>\n",
       "      <th>result</th>\n",
       "    </tr>\n",
       "  </thead>\n",
       "  <tbody>\n",
       "    <tr>\n",
       "      <th>0</th>\n",
       "      <td>Self-Efficacy</td>\n",
       "      <td>55.037510</td>\n",
       "    </tr>\n",
       "    <tr>\n",
       "      <th>1</th>\n",
       "      <td>Orderliness</td>\n",
       "      <td>12.346892</td>\n",
       "    </tr>\n",
       "    <tr>\n",
       "      <th>2</th>\n",
       "      <td>Dutifulness</td>\n",
       "      <td>34.511261</td>\n",
       "    </tr>\n",
       "    <tr>\n",
       "      <th>3</th>\n",
       "      <td>Achievement-Striving</td>\n",
       "      <td>80.022499</td>\n",
       "    </tr>\n",
       "    <tr>\n",
       "      <th>4</th>\n",
       "      <td>Self-Discipline</td>\n",
       "      <td>35.548073</td>\n",
       "    </tr>\n",
       "    <tr>\n",
       "      <th>5</th>\n",
       "      <td>Cautiousness</td>\n",
       "      <td>27.753183</td>\n",
       "    </tr>\n",
       "  </tbody>\n",
       "</table>\n",
       "</div>"
      ],
      "text/plain": [
       "                   name     result\n",
       "0         Self-Efficacy  55.037510\n",
       "1           Orderliness  12.346892\n",
       "2           Dutifulness  34.511261\n",
       "3  Achievement-Striving  80.022499\n",
       "4       Self-Discipline  35.548073\n",
       "5          Cautiousness  27.753183"
      ]
     },
     "execution_count": 10,
     "metadata": {},
     "output_type": "execute_result"
    }
   ],
   "source": [
    "score_conscientiousness_facets = (\n",
    "    analysis.get(\"data\")\n",
    "    .get(\"person\")\n",
    "    .get(\"analysis\")\n",
    "    .get(\"personalities\")[0]\n",
    "    .get(\"conscientiousness\")\n",
    "    .get(\"traits\")\n",
    ")\n",
    "pd.DataFrame(score_conscientiousness_facets, columns=[\"name\", \"result\"])"
   ]
  },
  {
   "cell_type": "code",
   "execution_count": 11,
   "id": "857bc9d1-74d2-406a-b6c5-5272c0f6ad9b",
   "metadata": {},
   "outputs": [
    {
     "data": {
      "text/html": [
       "<center><img src='plots/big_five_conscientiousness_facets_plot_bar.png'/></center>"
      ],
      "text/plain": [
       "<IPython.core.display.HTML object>"
      ]
     },
     "metadata": {},
     "output_type": "display_data"
    }
   ],
   "source": [
    "display(\n",
    "    HTML(\n",
    "        U.plot_big_five_conscientiousness_facets_bar(\n",
    "            score_conscientiousness_facets=score_conscientiousness_facets\n",
    "        )\n",
    "    )\n",
    ")"
   ]
  },
  {
   "cell_type": "markdown",
   "id": "ed6aa80a-aba1-4f2d-b3b7-973e32d1027f",
   "metadata": {},
   "source": [
    "## 3. Big-Five Extraversion & Facets 🕺💃"
   ]
  },
  {
   "cell_type": "code",
   "execution_count": 12,
   "id": "67459c82-7643-42e9-a18e-7aeb4c7d1a62",
   "metadata": {},
   "outputs": [
    {
     "data": {
      "text/html": [
       "<div>\n",
       "<style scoped>\n",
       "    .dataframe tbody tr th:only-of-type {\n",
       "        vertical-align: middle;\n",
       "    }\n",
       "\n",
       "    .dataframe tbody tr th {\n",
       "        vertical-align: top;\n",
       "    }\n",
       "\n",
       "    .dataframe thead th {\n",
       "        text-align: right;\n",
       "    }\n",
       "</style>\n",
       "<table border=\"1\" class=\"dataframe\">\n",
       "  <thead>\n",
       "    <tr style=\"text-align: right;\">\n",
       "      <th></th>\n",
       "      <th>name</th>\n",
       "      <th>result</th>\n",
       "    </tr>\n",
       "  </thead>\n",
       "  <tbody>\n",
       "    <tr>\n",
       "      <th>0</th>\n",
       "      <td>Friendliness</td>\n",
       "      <td>3.220789</td>\n",
       "    </tr>\n",
       "    <tr>\n",
       "      <th>1</th>\n",
       "      <td>Gregariousness</td>\n",
       "      <td>27.475489</td>\n",
       "    </tr>\n",
       "    <tr>\n",
       "      <th>2</th>\n",
       "      <td>Assertiveness</td>\n",
       "      <td>96.125252</td>\n",
       "    </tr>\n",
       "    <tr>\n",
       "      <th>3</th>\n",
       "      <td>Activity Level</td>\n",
       "      <td>79.070625</td>\n",
       "    </tr>\n",
       "    <tr>\n",
       "      <th>4</th>\n",
       "      <td>Excitement Seeking</td>\n",
       "      <td>95.739731</td>\n",
       "    </tr>\n",
       "    <tr>\n",
       "      <th>5</th>\n",
       "      <td>Cheerfulness</td>\n",
       "      <td>43.147835</td>\n",
       "    </tr>\n",
       "  </tbody>\n",
       "</table>\n",
       "</div>"
      ],
      "text/plain": [
       "                 name     result\n",
       "0        Friendliness   3.220789\n",
       "1      Gregariousness  27.475489\n",
       "2       Assertiveness  96.125252\n",
       "3      Activity Level  79.070625\n",
       "4  Excitement Seeking  95.739731\n",
       "5        Cheerfulness  43.147835"
      ]
     },
     "execution_count": 12,
     "metadata": {},
     "output_type": "execute_result"
    }
   ],
   "source": [
    "score_extraversion_facets = (\n",
    "    analysis.get(\"data\")\n",
    "    .get(\"person\")\n",
    "    .get(\"analysis\")\n",
    "    .get(\"personalities\")[0]\n",
    "    .get(\"extraversion\")\n",
    "    .get(\"traits\")\n",
    ")\n",
    "pd.DataFrame(score_extraversion_facets, columns=[\"name\", \"result\"])"
   ]
  },
  {
   "cell_type": "code",
   "execution_count": 13,
   "id": "05a5979e-62d5-4dca-9319-a44ee41d7856",
   "metadata": {},
   "outputs": [
    {
     "data": {
      "text/html": [
       "<center><img src='plots/big_five_extraversion_facets_plot_bar.png'/></center>"
      ],
      "text/plain": [
       "<IPython.core.display.HTML object>"
      ]
     },
     "metadata": {},
     "output_type": "display_data"
    }
   ],
   "source": [
    "display(\n",
    "    HTML(\n",
    "        U.plot_big_five_extraversion_facets_bar(\n",
    "            score_extraversion_facets=score_extraversion_facets\n",
    "        )\n",
    "    )\n",
    ")"
   ]
  },
  {
   "cell_type": "markdown",
   "id": "04257ede-733b-4d5d-9eae-247680087aaf",
   "metadata": {},
   "source": [
    "## 4. Big-Five Agreeableness & Facets 🙋🧡"
   ]
  },
  {
   "cell_type": "code",
   "execution_count": 14,
   "id": "4ce8b7db-11bc-4273-85aa-311639472770",
   "metadata": {},
   "outputs": [
    {
     "data": {
      "text/html": [
       "<div>\n",
       "<style scoped>\n",
       "    .dataframe tbody tr th:only-of-type {\n",
       "        vertical-align: middle;\n",
       "    }\n",
       "\n",
       "    .dataframe tbody tr th {\n",
       "        vertical-align: top;\n",
       "    }\n",
       "\n",
       "    .dataframe thead th {\n",
       "        text-align: right;\n",
       "    }\n",
       "</style>\n",
       "<table border=\"1\" class=\"dataframe\">\n",
       "  <thead>\n",
       "    <tr style=\"text-align: right;\">\n",
       "      <th></th>\n",
       "      <th>name</th>\n",
       "      <th>result</th>\n",
       "    </tr>\n",
       "  </thead>\n",
       "  <tbody>\n",
       "    <tr>\n",
       "      <th>0</th>\n",
       "      <td>Trust</td>\n",
       "      <td>4.707537</td>\n",
       "    </tr>\n",
       "    <tr>\n",
       "      <th>1</th>\n",
       "      <td>Morality</td>\n",
       "      <td>42.488991</td>\n",
       "    </tr>\n",
       "    <tr>\n",
       "      <th>2</th>\n",
       "      <td>Altruism</td>\n",
       "      <td>32.297947</td>\n",
       "    </tr>\n",
       "    <tr>\n",
       "      <th>3</th>\n",
       "      <td>Cooperation</td>\n",
       "      <td>1.851713</td>\n",
       "    </tr>\n",
       "    <tr>\n",
       "      <th>4</th>\n",
       "      <td>Modesty</td>\n",
       "      <td>18.846119</td>\n",
       "    </tr>\n",
       "    <tr>\n",
       "      <th>5</th>\n",
       "      <td>Sympathy</td>\n",
       "      <td>39.399620</td>\n",
       "    </tr>\n",
       "  </tbody>\n",
       "</table>\n",
       "</div>"
      ],
      "text/plain": [
       "          name     result\n",
       "0        Trust   4.707537\n",
       "1     Morality  42.488991\n",
       "2     Altruism  32.297947\n",
       "3  Cooperation   1.851713\n",
       "4      Modesty  18.846119\n",
       "5     Sympathy  39.399620"
      ]
     },
     "execution_count": 14,
     "metadata": {},
     "output_type": "execute_result"
    }
   ],
   "source": [
    "score_agreeableness_facets = (\n",
    "    analysis.get(\"data\")\n",
    "    .get(\"person\")\n",
    "    .get(\"analysis\")\n",
    "    .get(\"personalities\")[0]\n",
    "    .get(\"agreeableness\")\n",
    "    .get(\"traits\")\n",
    ")\n",
    "pd.DataFrame(score_agreeableness_facets, columns=[\"name\", \"result\"])"
   ]
  },
  {
   "cell_type": "code",
   "execution_count": 15,
   "id": "303bb1b4-5a39-49b3-826d-d14010e57dc4",
   "metadata": {},
   "outputs": [
    {
     "data": {
      "text/html": [
       "<center><img src='plots/big_five_agreeableness_facets_plot_bar.png'/></center>"
      ],
      "text/plain": [
       "<IPython.core.display.HTML object>"
      ]
     },
     "metadata": {},
     "output_type": "display_data"
    }
   ],
   "source": [
    "display(\n",
    "    HTML(\n",
    "        U.plot_big_five_agreeableness_facets_bar(\n",
    "            score_agreeableness_facets=score_agreeableness_facets\n",
    "        )\n",
    "    )\n",
    ")"
   ]
  },
  {
   "cell_type": "markdown",
   "id": "7e991860-96ab-47f5-b61a-abea14fa60dd",
   "metadata": {},
   "source": [
    "## 5. Big-Five Neuroticism & Facets 🙅💢"
   ]
  },
  {
   "cell_type": "code",
   "execution_count": 16,
   "id": "dba0e2f2-cac5-4b0b-872b-dc182268175a",
   "metadata": {},
   "outputs": [
    {
     "data": {
      "text/html": [
       "<div>\n",
       "<style scoped>\n",
       "    .dataframe tbody tr th:only-of-type {\n",
       "        vertical-align: middle;\n",
       "    }\n",
       "\n",
       "    .dataframe tbody tr th {\n",
       "        vertical-align: top;\n",
       "    }\n",
       "\n",
       "    .dataframe thead th {\n",
       "        text-align: right;\n",
       "    }\n",
       "</style>\n",
       "<table border=\"1\" class=\"dataframe\">\n",
       "  <thead>\n",
       "    <tr style=\"text-align: right;\">\n",
       "      <th></th>\n",
       "      <th>name</th>\n",
       "      <th>result</th>\n",
       "    </tr>\n",
       "  </thead>\n",
       "  <tbody>\n",
       "    <tr>\n",
       "      <th>0</th>\n",
       "      <td>Anxiety</td>\n",
       "      <td>58.322765</td>\n",
       "    </tr>\n",
       "    <tr>\n",
       "      <th>1</th>\n",
       "      <td>Anger</td>\n",
       "      <td>54.177986</td>\n",
       "    </tr>\n",
       "    <tr>\n",
       "      <th>2</th>\n",
       "      <td>Depression</td>\n",
       "      <td>52.089649</td>\n",
       "    </tr>\n",
       "    <tr>\n",
       "      <th>3</th>\n",
       "      <td>Self-Consciousness</td>\n",
       "      <td>16.535887</td>\n",
       "    </tr>\n",
       "    <tr>\n",
       "      <th>4</th>\n",
       "      <td>Immoderation</td>\n",
       "      <td>63.617249</td>\n",
       "    </tr>\n",
       "    <tr>\n",
       "      <th>5</th>\n",
       "      <td>Vulnerability</td>\n",
       "      <td>33.754211</td>\n",
       "    </tr>\n",
       "  </tbody>\n",
       "</table>\n",
       "</div>"
      ],
      "text/plain": [
       "                 name     result\n",
       "0             Anxiety  58.322765\n",
       "1               Anger  54.177986\n",
       "2          Depression  52.089649\n",
       "3  Self-Consciousness  16.535887\n",
       "4        Immoderation  63.617249\n",
       "5       Vulnerability  33.754211"
      ]
     },
     "execution_count": 16,
     "metadata": {},
     "output_type": "execute_result"
    }
   ],
   "source": [
    "score_neuroticism_facets = (\n",
    "    analysis.get(\"data\")\n",
    "    .get(\"person\")\n",
    "    .get(\"analysis\")\n",
    "    .get(\"personalities\")[0]\n",
    "    .get(\"neuroticism\")\n",
    "    .get(\"traits\")\n",
    ")\n",
    "pd.DataFrame(score_neuroticism_facets, columns=[\"name\", \"result\"])"
   ]
  },
  {
   "cell_type": "code",
   "execution_count": 17,
   "id": "b6e9279a-ffc2-4df0-a7ad-c29908db2f9f",
   "metadata": {},
   "outputs": [
    {
     "data": {
      "text/html": [
       "<center><img src='plots/big_five_neuroticism_facets_plot_bar.png'/></center>"
      ],
      "text/plain": [
       "<IPython.core.display.HTML object>"
      ]
     },
     "metadata": {},
     "output_type": "display_data"
    }
   ],
   "source": [
    "display(\n",
    "    HTML(\n",
    "        U.plot_big_five_neuroticism_facets_bar(\n",
    "            score_neuroticism_facets=score_neuroticism_facets\n",
    "        )\n",
    "    )\n",
    ")"
   ]
  }
 ],
 "metadata": {
  "kernelspec": {
   "display_name": "Python 3 (ipykernel)",
   "language": "python",
   "name": "python3"
  },
  "language_info": {
   "codemirror_mode": {
    "name": "ipython",
    "version": 3
   },
   "file_extension": ".py",
   "mimetype": "text/x-python",
   "name": "python",
   "nbconvert_exporter": "python",
   "pygments_lexer": "ipython3",
   "version": "3.11.5"
  }
 },
 "nbformat": 4,
 "nbformat_minor": 5
}
