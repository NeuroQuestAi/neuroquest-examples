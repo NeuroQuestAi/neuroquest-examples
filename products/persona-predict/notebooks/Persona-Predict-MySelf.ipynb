{
 "cells": [
  {
   "cell_type": "markdown",
   "id": "05be025f-1d6d-41eb-aa04-14081277fa0f",
   "metadata": {},
   "source": [
    "# Analyzing Personality MySelf 🌊\n",
    "\n",
    "Using the **Persona-Predict** 🧠 service to create an analysis based on the author's text ✍️ and analyze the 🗣 personality traits generated. For more information about the service visit: [docs.neuroquest.ai/persona-predict](https://docs.neuroquest.ai/persona-predict/)\n",
    "\n",
    "If the graphics are not rendered 🚫, use the address:\n",
    "\n",
    "  - [View in NBViewer](https://nbviewer.org/github/NeuroQuestAi/neuroquest-examples/blob/main/products/persona-predict/notebooks/Persona-Predict-MySelf.ipynb?flush_cache=true)"
   ]
  },
  {
   "cell_type": "code",
   "execution_count": 1,
   "id": "50578723-bc28-4121-a8d9-dd7f8a153ad0",
   "metadata": {},
   "outputs": [],
   "source": [
    "import os\n",
    "\n",
    "import pandas as pd\n",
    "from faker import Faker\n",
    "from IPython.display import JSON, HTML, display\n",
    "\n",
    "import utility as U"
   ]
  },
  {
   "cell_type": "code",
   "execution_count": 2,
   "id": "d55dac21-035c-4db4-a7c6-4585abda5e50",
   "metadata": {},
   "outputs": [],
   "source": [
    "NQ_USER = os.getenv(\"NQ_USER\")\n",
    "NQ_PASSWORD = os.getenv(\"NQ_PASSWORD\")"
   ]
  },
  {
   "cell_type": "markdown",
   "id": "73c5b1e8-c15e-4770-9517-11b0e660598a",
   "metadata": {},
   "source": [
    "## Create the Personality Analysis 📊\n",
    "\n",
    "- Sends the text to the **Persona-Predict** Service, if the analysis already exists it is read from the file."
   ]
  },
  {
   "cell_type": "code",
   "execution_count": 3,
   "id": "c4e537c0-f06d-47fe-b6da-269b3f0d8eee",
   "metadata": {},
   "outputs": [
    {
     "name": "stdout",
     "output_type": "stream",
     "text": [
      "Reading the saved analysis...\n"
     ]
    }
   ],
   "source": [
    "if not os.path.exists(\"predict-result.json\"):\n",
    "    print(\"Sending the text for analysis...\")\n",
    "    analysis = U.predict_create(\n",
    "        token=U.login(user=NQ_USER, password=NQ_PASSWORD).get(\"data\").get(\"token\"),\n",
    "        data={\n",
    "            \"name\": Faker().name(),\n",
    "            \"essay\": U.get_my_txt_essay(lang=\"en\"),\n",
    "        },\n",
    "        save_result=True,\n",
    "    )\n",
    "else:\n",
    "    print(\"Reading the saved analysis...\")\n",
    "    analysis = U.get_predict_result_in_file()"
   ]
  },
  {
   "cell_type": "code",
   "execution_count": 4,
   "id": "8edee6a6-9eeb-449b-a7dd-093d0f9067ef",
   "metadata": {},
   "outputs": [
    {
     "data": {
      "application/json": {
       "code": 201,
       "data": {
        "document_id": "m08v0pZ34jC64IqDSM18",
        "owner": {
         "email": "ederbsd@gmail.com",
         "user_id": "MJumNgU0iud90UsEtohNeh6g0ju1"
        },
        "person": {
         "analysis": {
          "essay": {
           "analyzed_text": "Since my early days in a small town in the south, my life has been an incredible journey, full of challenges and achievements. I was born into a welcoming environment, but from an early age, I felt that the world had much more to offer. With determination and an unwavering will to grow, I decided to seek new opportunities in São Paulo. The move to the bustling metropolis was a cultural shock, but soon I found myself immersed in a dynamic environment full of possibilities. The thirst for learning drove me to pursue quality education, constantly seeking to enhance my skills and knowledge. The early years were challenging, but every obstacle was an opportunity to grow and evolve. I entered the corporate world with unwavering determination. I worked hard, taking on increasing and challenging responsibilities. Each position was a chance to learn and contribute to the growth of the organizations I worked for. Over time, my reputation as a dedicated and innovative leader began to solidify. The path to the CEO position was not easy. There were moments of doubt, but I always believed in my potential and the ability to make a difference. Leadership is not just about reaching the top but inspiring and guiding others along the way. I learned the importance of resilience, empathy, and making assertive decisions. Today, as the CEO of a large company, I look back with gratitude for all the experiences that shaped my journey. Every challenge overcome, every tough decision, and every victory contributed to my personal and professional growth. I am committed to continuing to lead with integrity, vision, and passion, always seeking innovation and excellence. My story is a testament that, regardless of where you start, with hard work, perseverance, and determination, it is possible to reach the highest heights. The journey is far from over, and I am excited about the challenges and achievements the future holds.",
           "detected_language": "en",
           "sentiment_analysis": {
            "result": 99.75,
            "sentiment": "Positive"
           },
           "word_count": 318
          },
          "personalities": [
           {
            "agreeableness": {
             "acronym": "A",
             "name": "Agreeableness",
             "result": 17.68186378479004,
             "score": "low",
             "traits": [
              {
               "name": "Trust",
               "result": 5.831173896789551,
               "score": "low",
               "trait": 1
              },
              {
               "name": "Morality",
               "result": 51.7708740234375,
               "score": "average",
               "trait": 2
              },
              {
               "name": "Altruism",
               "result": 49.93729019165039,
               "score": "average",
               "trait": 3
              },
              {
               "name": "Cooperation",
               "result": 11.719517707824707,
               "score": "low",
               "trait": 4
              },
              {
               "name": "Modesty",
               "result": 19.916152954101562,
               "score": "low",
               "trait": 5
              },
              {
               "name": "Sympathy",
               "result": 44.94591522216797,
               "score": "low",
               "trait": 6
              }
             ]
            },
            "conscientiousness": {
             "acronym": "C",
             "name": "Conscientiousness",
             "result": 26.969680786132812,
             "score": "low",
             "traits": [
              {
               "name": "Self-Efficacy",
               "result": 41.66792297363281,
               "score": "low",
               "trait": 1
              },
              {
               "name": "Orderliness",
               "result": 25.499086380004883,
               "score": "low",
               "trait": 2
              },
              {
               "name": "Dutifulness",
               "result": 40.58146667480469,
               "score": "low",
               "trait": 3
              },
              {
               "name": "Achievement-Striving",
               "result": 58.740596771240234,
               "score": "high",
               "trait": 4
              },
              {
               "name": "Self-Discipline",
               "result": 42.51301193237305,
               "score": "low",
               "trait": 5
              },
              {
               "name": "Cautiousness",
               "result": 17.60568618774414,
               "score": "low",
               "trait": 6
              }
             ]
            },
            "extraversion": {
             "acronym": "E",
             "name": "Extraversion",
             "result": 84.92156219482422,
             "score": "high",
             "traits": [
              {
               "name": "Friendliness",
               "result": 22.053617477416992,
               "score": "low",
               "trait": 1
              },
              {
               "name": "Gregariousness",
               "result": 75.00811767578125,
               "score": "high",
               "trait": 2
              },
              {
               "name": "Assertiveness",
               "result": 99.83642596642116,
               "score": "high",
               "trait": 3
              },
              {
               "name": "Activity Level",
               "result": 76.67704010009766,
               "score": "high",
               "trait": 4
              },
              {
               "name": "Excitement Seeking",
               "result": 97.40206090651279,
               "score": "high",
               "trait": 5
              },
              {
               "name": "Cheerfulness",
               "result": 74.99945831298828,
               "score": "high",
               "trait": 6
              }
             ]
            },
            "neuroticism": {
             "acronym": "N",
             "name": "Neuroticism",
             "result": 39.71227264404297,
             "score": "low",
             "traits": [
              {
               "name": "Anxiety",
               "result": 48.151458740234375,
               "score": "average",
               "trait": 1
              },
              {
               "name": "Anger",
               "result": 55.578773498535156,
               "score": "high",
               "trait": 2
              },
              {
               "name": "Depression",
               "result": 41.407047271728516,
               "score": "low",
               "trait": 3
              },
              {
               "name": "Self-Consciousness",
               "result": 13.98859977722168,
               "score": "low",
               "trait": 4
              },
              {
               "name": "Immoderation",
               "result": 54.78725814819336,
               "score": "average",
               "trait": 5
              },
              {
               "name": "Vulnerability",
               "result": 36.00147247314453,
               "score": "low",
               "trait": 6
              }
             ]
            },
            "openness": {
             "acronym": "O",
             "name": "Openness",
             "result": 95.82474517822266,
             "score": "high",
             "traits": [
              {
               "name": "Imagination",
               "result": 98.82553992439585,
               "score": "high",
               "trait": 1
              },
              {
               "name": "Artistic Interests",
               "result": 70.47296142578125,
               "score": "high",
               "trait": 2
              },
              {
               "name": "Emotionality",
               "result": 55.197349548339844,
               "score": "high",
               "trait": 3
              },
              {
               "name": "Adventurousness",
               "result": 85.09397888183594,
               "score": "high",
               "trait": 4
              },
              {
               "name": "Intellect",
               "result": 74.78498077392578,
               "score": "high",
               "trait": 5
              },
              {
               "name": "Liberalism",
               "result": 35.3503532409668,
               "score": "low",
               "trait": 6
              }
             ]
            }
           }
          ],
          "warnings": [
           "For a more accurate analysis, it is better for the text to contain more words than 318."
          ]
         },
         "name": "Nicole Miles"
        },
        "predict_id": "00b1ad86-de12-4068-a145-c1a846382f20",
        "provider": {
         "api": {
          "version": "v1.0.0"
         },
         "date": "2024-02-11 19:43:32 UTC",
         "model": {
          "name": "Claudia",
          "theory": "Big 5 Personality Traits",
          "version": "v1.0.0"
         },
         "name": "NeuroQuest AI",
         "product": "Persona-Predict"
        }
       },
       "status": "success"
      },
      "text/plain": [
       "<IPython.core.display.JSON object>"
      ]
     },
     "execution_count": 4,
     "metadata": {
      "application/json": {
       "expanded": true,
       "root": "root"
      }
     },
     "output_type": "execute_result"
    }
   ],
   "source": [
    "JSON(analysis, expanded=True)"
   ]
  },
  {
   "cell_type": "markdown",
   "id": "d9b59936-e191-4b76-bd6b-7035446d27e0",
   "metadata": {},
   "source": [
    "## 1. Big-Five Scores 🎭"
   ]
  },
  {
   "cell_type": "code",
   "execution_count": 5,
   "id": "1722938c-9193-4224-bcab-172da3177b4c",
   "metadata": {},
   "outputs": [
    {
     "data": {
      "text/html": [
       "<div>\n",
       "<style scoped>\n",
       "    .dataframe tbody tr th:only-of-type {\n",
       "        vertical-align: middle;\n",
       "    }\n",
       "\n",
       "    .dataframe tbody tr th {\n",
       "        vertical-align: top;\n",
       "    }\n",
       "\n",
       "    .dataframe thead th {\n",
       "        text-align: right;\n",
       "    }\n",
       "</style>\n",
       "<table border=\"1\" class=\"dataframe\">\n",
       "  <thead>\n",
       "    <tr style=\"text-align: right;\">\n",
       "      <th></th>\n",
       "      <th>O</th>\n",
       "      <th>C</th>\n",
       "      <th>E</th>\n",
       "      <th>A</th>\n",
       "      <th>N</th>\n",
       "    </tr>\n",
       "  </thead>\n",
       "  <tbody>\n",
       "    <tr>\n",
       "      <th>0</th>\n",
       "      <td>95.824745</td>\n",
       "      <td>26.969681</td>\n",
       "      <td>84.921562</td>\n",
       "      <td>17.681864</td>\n",
       "      <td>39.712273</td>\n",
       "    </tr>\n",
       "  </tbody>\n",
       "</table>\n",
       "</div>"
      ],
      "text/plain": [
       "           O          C          E          A          N\n",
       "0  95.824745  26.969681  84.921562  17.681864  39.712273"
      ]
     },
     "execution_count": 5,
     "metadata": {},
     "output_type": "execute_result"
    }
   ],
   "source": [
    "score_big_five = list(\n",
    "    map(\n",
    "        U.get_big_five,\n",
    "        analysis.get(\"data\").get(\"person\").get(\"analysis\").get(\"personalities\"),\n",
    "    )\n",
    ")\n",
    "pd.DataFrame(score_big_five)"
   ]
  },
  {
   "cell_type": "code",
   "execution_count": 6,
   "id": "8f56fc31-72ab-4be5-b4c0-2beb279de449",
   "metadata": {},
   "outputs": [
    {
     "data": {
      "text/html": [
       "<center><img src='plots/big_five_plot_bar.png'/></center>"
      ],
      "text/plain": [
       "<IPython.core.display.HTML object>"
      ]
     },
     "metadata": {},
     "output_type": "display_data"
    }
   ],
   "source": [
    "display(HTML(U.plot_big_five_bar(score_big_five=score_big_five)))"
   ]
  },
  {
   "cell_type": "code",
   "execution_count": 7,
   "id": "88faf87a-d41e-4149-9252-4c80ce1b1b91",
   "metadata": {},
   "outputs": [
    {
     "data": {
      "text/html": [
       "<center><img src='plots/big_five_plot_radar.png'/></center>"
      ],
      "text/plain": [
       "<IPython.core.display.HTML object>"
      ]
     },
     "metadata": {},
     "output_type": "display_data"
    }
   ],
   "source": [
    "display(HTML(U.plot_big_five_radar(score_big_five=score_big_five)))"
   ]
  },
  {
   "cell_type": "markdown",
   "id": "6dbab8a7-b01b-4468-818e-75d5455cf6e3",
   "metadata": {},
   "source": [
    "## 2. Big-Five Openness & Facets 🧑‍🎨"
   ]
  },
  {
   "cell_type": "code",
   "execution_count": 8,
   "id": "b40366b6-5fa3-4999-b800-5a2422a32f5f",
   "metadata": {},
   "outputs": [
    {
     "data": {
      "text/html": [
       "<div>\n",
       "<style scoped>\n",
       "    .dataframe tbody tr th:only-of-type {\n",
       "        vertical-align: middle;\n",
       "    }\n",
       "\n",
       "    .dataframe tbody tr th {\n",
       "        vertical-align: top;\n",
       "    }\n",
       "\n",
       "    .dataframe thead th {\n",
       "        text-align: right;\n",
       "    }\n",
       "</style>\n",
       "<table border=\"1\" class=\"dataframe\">\n",
       "  <thead>\n",
       "    <tr style=\"text-align: right;\">\n",
       "      <th></th>\n",
       "      <th>name</th>\n",
       "      <th>result</th>\n",
       "    </tr>\n",
       "  </thead>\n",
       "  <tbody>\n",
       "    <tr>\n",
       "      <th>0</th>\n",
       "      <td>Imagination</td>\n",
       "      <td>98.825540</td>\n",
       "    </tr>\n",
       "    <tr>\n",
       "      <th>1</th>\n",
       "      <td>Artistic Interests</td>\n",
       "      <td>70.472961</td>\n",
       "    </tr>\n",
       "    <tr>\n",
       "      <th>2</th>\n",
       "      <td>Emotionality</td>\n",
       "      <td>55.197350</td>\n",
       "    </tr>\n",
       "    <tr>\n",
       "      <th>3</th>\n",
       "      <td>Adventurousness</td>\n",
       "      <td>85.093979</td>\n",
       "    </tr>\n",
       "    <tr>\n",
       "      <th>4</th>\n",
       "      <td>Intellect</td>\n",
       "      <td>74.784981</td>\n",
       "    </tr>\n",
       "    <tr>\n",
       "      <th>5</th>\n",
       "      <td>Liberalism</td>\n",
       "      <td>35.350353</td>\n",
       "    </tr>\n",
       "  </tbody>\n",
       "</table>\n",
       "</div>"
      ],
      "text/plain": [
       "                 name     result\n",
       "0         Imagination  98.825540\n",
       "1  Artistic Interests  70.472961\n",
       "2        Emotionality  55.197350\n",
       "3     Adventurousness  85.093979\n",
       "4           Intellect  74.784981\n",
       "5          Liberalism  35.350353"
      ]
     },
     "execution_count": 8,
     "metadata": {},
     "output_type": "execute_result"
    }
   ],
   "source": [
    "score_openness_facets = (\n",
    "    analysis.get(\"data\")\n",
    "    .get(\"person\")\n",
    "    .get(\"analysis\")\n",
    "    .get(\"personalities\")[0]\n",
    "    .get(\"openness\")\n",
    "    .get(\"traits\")\n",
    ")\n",
    "pd.DataFrame(score_openness_facets, columns=[\"name\", \"result\"])"
   ]
  },
  {
   "cell_type": "code",
   "execution_count": 9,
   "id": "ea493798-cc05-43c8-8614-9d1a38719597",
   "metadata": {},
   "outputs": [
    {
     "data": {
      "text/html": [
       "<center><img src='plots/big_five_openness_facets_plot_bar.png'/></center>"
      ],
      "text/plain": [
       "<IPython.core.display.HTML object>"
      ]
     },
     "metadata": {},
     "output_type": "display_data"
    }
   ],
   "source": [
    "display(\n",
    "    HTML(\n",
    "        U.plot_big_five_openness_facets_bar(score_openness_facets=score_openness_facets)\n",
    "    )\n",
    ")"
   ]
  },
  {
   "cell_type": "markdown",
   "id": "056b9001-d1ae-41e9-98ce-fcee62674f2e",
   "metadata": {},
   "source": [
    "## 2. Big-Five Conscientiousness & Facets 🧑‍🔬 "
   ]
  },
  {
   "cell_type": "code",
   "execution_count": 10,
   "id": "25f0f372-13ad-45cd-b518-ceb800fe5fa2",
   "metadata": {},
   "outputs": [
    {
     "data": {
      "text/html": [
       "<div>\n",
       "<style scoped>\n",
       "    .dataframe tbody tr th:only-of-type {\n",
       "        vertical-align: middle;\n",
       "    }\n",
       "\n",
       "    .dataframe tbody tr th {\n",
       "        vertical-align: top;\n",
       "    }\n",
       "\n",
       "    .dataframe thead th {\n",
       "        text-align: right;\n",
       "    }\n",
       "</style>\n",
       "<table border=\"1\" class=\"dataframe\">\n",
       "  <thead>\n",
       "    <tr style=\"text-align: right;\">\n",
       "      <th></th>\n",
       "      <th>name</th>\n",
       "      <th>result</th>\n",
       "    </tr>\n",
       "  </thead>\n",
       "  <tbody>\n",
       "    <tr>\n",
       "      <th>0</th>\n",
       "      <td>Self-Efficacy</td>\n",
       "      <td>41.667923</td>\n",
       "    </tr>\n",
       "    <tr>\n",
       "      <th>1</th>\n",
       "      <td>Orderliness</td>\n",
       "      <td>25.499086</td>\n",
       "    </tr>\n",
       "    <tr>\n",
       "      <th>2</th>\n",
       "      <td>Dutifulness</td>\n",
       "      <td>40.581467</td>\n",
       "    </tr>\n",
       "    <tr>\n",
       "      <th>3</th>\n",
       "      <td>Achievement-Striving</td>\n",
       "      <td>58.740597</td>\n",
       "    </tr>\n",
       "    <tr>\n",
       "      <th>4</th>\n",
       "      <td>Self-Discipline</td>\n",
       "      <td>42.513012</td>\n",
       "    </tr>\n",
       "    <tr>\n",
       "      <th>5</th>\n",
       "      <td>Cautiousness</td>\n",
       "      <td>17.605686</td>\n",
       "    </tr>\n",
       "  </tbody>\n",
       "</table>\n",
       "</div>"
      ],
      "text/plain": [
       "                   name     result\n",
       "0         Self-Efficacy  41.667923\n",
       "1           Orderliness  25.499086\n",
       "2           Dutifulness  40.581467\n",
       "3  Achievement-Striving  58.740597\n",
       "4       Self-Discipline  42.513012\n",
       "5          Cautiousness  17.605686"
      ]
     },
     "execution_count": 10,
     "metadata": {},
     "output_type": "execute_result"
    }
   ],
   "source": [
    "score_conscientiousness_facets = (\n",
    "    analysis.get(\"data\")\n",
    "    .get(\"person\")\n",
    "    .get(\"analysis\")\n",
    "    .get(\"personalities\")[0]\n",
    "    .get(\"conscientiousness\")\n",
    "    .get(\"traits\")\n",
    ")\n",
    "pd.DataFrame(score_conscientiousness_facets, columns=[\"name\", \"result\"])"
   ]
  },
  {
   "cell_type": "code",
   "execution_count": 11,
   "id": "857bc9d1-74d2-406a-b6c5-5272c0f6ad9b",
   "metadata": {},
   "outputs": [
    {
     "data": {
      "text/html": [
       "<center><img src='plots/big_five_conscientiousness_facets_plot_bar.png'/></center>"
      ],
      "text/plain": [
       "<IPython.core.display.HTML object>"
      ]
     },
     "metadata": {},
     "output_type": "display_data"
    }
   ],
   "source": [
    "display(\n",
    "    HTML(\n",
    "        U.plot_big_five_conscientiousness_facets_bar(\n",
    "            score_conscientiousness_facets=score_conscientiousness_facets\n",
    "        )\n",
    "    )\n",
    ")"
   ]
  },
  {
   "cell_type": "markdown",
   "id": "ed6aa80a-aba1-4f2d-b3b7-973e32d1027f",
   "metadata": {},
   "source": [
    "## 3. Big-Five Extraversion & Facets 🕺💃"
   ]
  },
  {
   "cell_type": "code",
   "execution_count": 12,
   "id": "67459c82-7643-42e9-a18e-7aeb4c7d1a62",
   "metadata": {},
   "outputs": [
    {
     "data": {
      "text/html": [
       "<div>\n",
       "<style scoped>\n",
       "    .dataframe tbody tr th:only-of-type {\n",
       "        vertical-align: middle;\n",
       "    }\n",
       "\n",
       "    .dataframe tbody tr th {\n",
       "        vertical-align: top;\n",
       "    }\n",
       "\n",
       "    .dataframe thead th {\n",
       "        text-align: right;\n",
       "    }\n",
       "</style>\n",
       "<table border=\"1\" class=\"dataframe\">\n",
       "  <thead>\n",
       "    <tr style=\"text-align: right;\">\n",
       "      <th></th>\n",
       "      <th>name</th>\n",
       "      <th>result</th>\n",
       "    </tr>\n",
       "  </thead>\n",
       "  <tbody>\n",
       "    <tr>\n",
       "      <th>0</th>\n",
       "      <td>Friendliness</td>\n",
       "      <td>22.053617</td>\n",
       "    </tr>\n",
       "    <tr>\n",
       "      <th>1</th>\n",
       "      <td>Gregariousness</td>\n",
       "      <td>75.008118</td>\n",
       "    </tr>\n",
       "    <tr>\n",
       "      <th>2</th>\n",
       "      <td>Assertiveness</td>\n",
       "      <td>99.836426</td>\n",
       "    </tr>\n",
       "    <tr>\n",
       "      <th>3</th>\n",
       "      <td>Activity Level</td>\n",
       "      <td>76.677040</td>\n",
       "    </tr>\n",
       "    <tr>\n",
       "      <th>4</th>\n",
       "      <td>Excitement Seeking</td>\n",
       "      <td>97.402061</td>\n",
       "    </tr>\n",
       "    <tr>\n",
       "      <th>5</th>\n",
       "      <td>Cheerfulness</td>\n",
       "      <td>74.999458</td>\n",
       "    </tr>\n",
       "  </tbody>\n",
       "</table>\n",
       "</div>"
      ],
      "text/plain": [
       "                 name     result\n",
       "0        Friendliness  22.053617\n",
       "1      Gregariousness  75.008118\n",
       "2       Assertiveness  99.836426\n",
       "3      Activity Level  76.677040\n",
       "4  Excitement Seeking  97.402061\n",
       "5        Cheerfulness  74.999458"
      ]
     },
     "execution_count": 12,
     "metadata": {},
     "output_type": "execute_result"
    }
   ],
   "source": [
    "score_extraversion_facets = (\n",
    "    analysis.get(\"data\")\n",
    "    .get(\"person\")\n",
    "    .get(\"analysis\")\n",
    "    .get(\"personalities\")[0]\n",
    "    .get(\"extraversion\")\n",
    "    .get(\"traits\")\n",
    ")\n",
    "pd.DataFrame(score_extraversion_facets, columns=[\"name\", \"result\"])"
   ]
  },
  {
   "cell_type": "code",
   "execution_count": 13,
   "id": "05a5979e-62d5-4dca-9319-a44ee41d7856",
   "metadata": {},
   "outputs": [
    {
     "data": {
      "text/html": [
       "<center><img src='plots/big_five_extraversion_facets_plot_bar.png'/></center>"
      ],
      "text/plain": [
       "<IPython.core.display.HTML object>"
      ]
     },
     "metadata": {},
     "output_type": "display_data"
    }
   ],
   "source": [
    "display(\n",
    "    HTML(\n",
    "        U.plot_big_five_extraversion_facets_bar(\n",
    "            score_extraversion_facets=score_extraversion_facets\n",
    "        )\n",
    "    )\n",
    ")"
   ]
  },
  {
   "cell_type": "markdown",
   "id": "04257ede-733b-4d5d-9eae-247680087aaf",
   "metadata": {},
   "source": [
    "## 4. Big-Five Agreeableness & Facets 🙋🧡"
   ]
  },
  {
   "cell_type": "code",
   "execution_count": 14,
   "id": "4ce8b7db-11bc-4273-85aa-311639472770",
   "metadata": {},
   "outputs": [
    {
     "data": {
      "text/html": [
       "<div>\n",
       "<style scoped>\n",
       "    .dataframe tbody tr th:only-of-type {\n",
       "        vertical-align: middle;\n",
       "    }\n",
       "\n",
       "    .dataframe tbody tr th {\n",
       "        vertical-align: top;\n",
       "    }\n",
       "\n",
       "    .dataframe thead th {\n",
       "        text-align: right;\n",
       "    }\n",
       "</style>\n",
       "<table border=\"1\" class=\"dataframe\">\n",
       "  <thead>\n",
       "    <tr style=\"text-align: right;\">\n",
       "      <th></th>\n",
       "      <th>name</th>\n",
       "      <th>result</th>\n",
       "    </tr>\n",
       "  </thead>\n",
       "  <tbody>\n",
       "    <tr>\n",
       "      <th>0</th>\n",
       "      <td>Trust</td>\n",
       "      <td>5.831174</td>\n",
       "    </tr>\n",
       "    <tr>\n",
       "      <th>1</th>\n",
       "      <td>Morality</td>\n",
       "      <td>51.770874</td>\n",
       "    </tr>\n",
       "    <tr>\n",
       "      <th>2</th>\n",
       "      <td>Altruism</td>\n",
       "      <td>49.937290</td>\n",
       "    </tr>\n",
       "    <tr>\n",
       "      <th>3</th>\n",
       "      <td>Cooperation</td>\n",
       "      <td>11.719518</td>\n",
       "    </tr>\n",
       "    <tr>\n",
       "      <th>4</th>\n",
       "      <td>Modesty</td>\n",
       "      <td>19.916153</td>\n",
       "    </tr>\n",
       "    <tr>\n",
       "      <th>5</th>\n",
       "      <td>Sympathy</td>\n",
       "      <td>44.945915</td>\n",
       "    </tr>\n",
       "  </tbody>\n",
       "</table>\n",
       "</div>"
      ],
      "text/plain": [
       "          name     result\n",
       "0        Trust   5.831174\n",
       "1     Morality  51.770874\n",
       "2     Altruism  49.937290\n",
       "3  Cooperation  11.719518\n",
       "4      Modesty  19.916153\n",
       "5     Sympathy  44.945915"
      ]
     },
     "execution_count": 14,
     "metadata": {},
     "output_type": "execute_result"
    }
   ],
   "source": [
    "score_agreeableness_facets = (\n",
    "    analysis.get(\"data\")\n",
    "    .get(\"person\")\n",
    "    .get(\"analysis\")\n",
    "    .get(\"personalities\")[0]\n",
    "    .get(\"agreeableness\")\n",
    "    .get(\"traits\")\n",
    ")\n",
    "pd.DataFrame(score_agreeableness_facets, columns=[\"name\", \"result\"])"
   ]
  },
  {
   "cell_type": "code",
   "execution_count": 15,
   "id": "303bb1b4-5a39-49b3-826d-d14010e57dc4",
   "metadata": {},
   "outputs": [
    {
     "data": {
      "text/html": [
       "<center><img src='plots/big_five_agreeableness_facets_plot_bar.png'/></center>"
      ],
      "text/plain": [
       "<IPython.core.display.HTML object>"
      ]
     },
     "metadata": {},
     "output_type": "display_data"
    }
   ],
   "source": [
    "display(\n",
    "    HTML(\n",
    "        U.plot_big_five_agreeableness_facets_bar(\n",
    "            score_agreeableness_facets=score_agreeableness_facets\n",
    "        )\n",
    "    )\n",
    ")"
   ]
  },
  {
   "cell_type": "markdown",
   "id": "7e991860-96ab-47f5-b61a-abea14fa60dd",
   "metadata": {},
   "source": [
    "## 5. Big-Five Neuroticism & Facets 🙅💢"
   ]
  },
  {
   "cell_type": "code",
   "execution_count": 16,
   "id": "dba0e2f2-cac5-4b0b-872b-dc182268175a",
   "metadata": {},
   "outputs": [
    {
     "data": {
      "text/html": [
       "<div>\n",
       "<style scoped>\n",
       "    .dataframe tbody tr th:only-of-type {\n",
       "        vertical-align: middle;\n",
       "    }\n",
       "\n",
       "    .dataframe tbody tr th {\n",
       "        vertical-align: top;\n",
       "    }\n",
       "\n",
       "    .dataframe thead th {\n",
       "        text-align: right;\n",
       "    }\n",
       "</style>\n",
       "<table border=\"1\" class=\"dataframe\">\n",
       "  <thead>\n",
       "    <tr style=\"text-align: right;\">\n",
       "      <th></th>\n",
       "      <th>name</th>\n",
       "      <th>result</th>\n",
       "    </tr>\n",
       "  </thead>\n",
       "  <tbody>\n",
       "    <tr>\n",
       "      <th>0</th>\n",
       "      <td>Anxiety</td>\n",
       "      <td>48.151459</td>\n",
       "    </tr>\n",
       "    <tr>\n",
       "      <th>1</th>\n",
       "      <td>Anger</td>\n",
       "      <td>55.578773</td>\n",
       "    </tr>\n",
       "    <tr>\n",
       "      <th>2</th>\n",
       "      <td>Depression</td>\n",
       "      <td>41.407047</td>\n",
       "    </tr>\n",
       "    <tr>\n",
       "      <th>3</th>\n",
       "      <td>Self-Consciousness</td>\n",
       "      <td>13.988600</td>\n",
       "    </tr>\n",
       "    <tr>\n",
       "      <th>4</th>\n",
       "      <td>Immoderation</td>\n",
       "      <td>54.787258</td>\n",
       "    </tr>\n",
       "    <tr>\n",
       "      <th>5</th>\n",
       "      <td>Vulnerability</td>\n",
       "      <td>36.001472</td>\n",
       "    </tr>\n",
       "  </tbody>\n",
       "</table>\n",
       "</div>"
      ],
      "text/plain": [
       "                 name     result\n",
       "0             Anxiety  48.151459\n",
       "1               Anger  55.578773\n",
       "2          Depression  41.407047\n",
       "3  Self-Consciousness  13.988600\n",
       "4        Immoderation  54.787258\n",
       "5       Vulnerability  36.001472"
      ]
     },
     "execution_count": 16,
     "metadata": {},
     "output_type": "execute_result"
    }
   ],
   "source": [
    "score_neuroticism_facets = (\n",
    "    analysis.get(\"data\")\n",
    "    .get(\"person\")\n",
    "    .get(\"analysis\")\n",
    "    .get(\"personalities\")[0]\n",
    "    .get(\"neuroticism\")\n",
    "    .get(\"traits\")\n",
    ")\n",
    "pd.DataFrame(score_neuroticism_facets, columns=[\"name\", \"result\"])"
   ]
  },
  {
   "cell_type": "code",
   "execution_count": 17,
   "id": "b6e9279a-ffc2-4df0-a7ad-c29908db2f9f",
   "metadata": {},
   "outputs": [
    {
     "data": {
      "text/html": [
       "<center><img src='plots/big_five_neuroticism_facets_plot_bar.png'/></center>"
      ],
      "text/plain": [
       "<IPython.core.display.HTML object>"
      ]
     },
     "metadata": {},
     "output_type": "display_data"
    }
   ],
   "source": [
    "display(\n",
    "    HTML(\n",
    "        U.plot_big_five_neuroticism_facets_bar(\n",
    "            score_neuroticism_facets=score_neuroticism_facets\n",
    "        )\n",
    "    )\n",
    ")"
   ]
  }
 ],
 "metadata": {
  "kernelspec": {
   "display_name": "Python 3 (ipykernel)",
   "language": "python",
   "name": "python3"
  },
  "language_info": {
   "codemirror_mode": {
    "name": "ipython",
    "version": 3
   },
   "file_extension": ".py",
   "mimetype": "text/x-python",
   "name": "python",
   "nbconvert_exporter": "python",
   "pygments_lexer": "ipython3",
   "version": "3.11.5"
  }
 },
 "nbformat": 4,
 "nbformat_minor": 5
}
