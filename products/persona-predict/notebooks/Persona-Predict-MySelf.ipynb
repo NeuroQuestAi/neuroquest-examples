{
 "cells": [
  {
   "cell_type": "markdown",
   "id": "05be025f-1d6d-41eb-aa04-14081277fa0f",
   "metadata": {},
   "source": [
    "# Analyzing Personality MySelf 🌊\n",
    "\n",
    "Using the **Persona-Predict V2** 🧠 service to create an analysis based on the author's text ✍️ and analyze the 🗣 personality traits generated. For more information about the service visit: [docs.neuroquest.ai/persona-predict](https://docs.neuroquest.ai/persona-predict/)\n",
    "\n",
    "If the graphics are not rendered 🚫, use the address:\n",
    "\n",
    "  - [View in NBViewer](https://nbviewer.org/github/NeuroQuestAi/neuroquest-examples/blob/main/products/persona-predict/notebooks/Persona-Predict-MySelf.ipynb?flush_cache=true)"
   ]
  },
  {
   "cell_type": "code",
   "execution_count": 1,
   "id": "50578723-bc28-4121-a8d9-dd7f8a153ad0",
   "metadata": {},
   "outputs": [],
   "source": [
    "import os\n",
    "\n",
    "import pandas as pd\n",
    "from faker import Faker\n",
    "from IPython.display import JSON, HTML, display\n",
    "\n",
    "import utility as U"
   ]
  },
  {
   "cell_type": "code",
   "execution_count": 2,
   "id": "d55dac21-035c-4db4-a7c6-4585abda5e50",
   "metadata": {},
   "outputs": [],
   "source": [
    "NQ_USER = os.getenv(\"NQ_USER\")\n",
    "NQ_PASSWORD = os.getenv(\"NQ_PASSWORD\")"
   ]
  },
  {
   "cell_type": "code",
   "execution_count": 4,
   "id": "bf02dd4a",
   "metadata": {},
   "outputs": [],
   "source": [
    "assert NQ_USER is not None, \"set the user\"\n",
    "assert NQ_PASSWORD is not None, \"set the password\""
   ]
  },
  {
   "cell_type": "markdown",
   "id": "73c5b1e8-c15e-4770-9517-11b0e660598a",
   "metadata": {},
   "source": [
    "## Create the Personality Analysis 📊\n",
    "\n",
    "- Sends the text to the **Persona-Predict** Service, if the analysis already exists it is read from the file."
   ]
  },
  {
   "cell_type": "code",
   "execution_count": 5,
   "id": "c4e537c0-f06d-47fe-b6da-269b3f0d8eee",
   "metadata": {},
   "outputs": [
    {
     "name": "stdout",
     "output_type": "stream",
     "text": [
      "Sending the text for analysis...\n"
     ]
    }
   ],
   "source": [
    "if not os.path.exists(\"results/persona-predict-v2.json\"):\n",
    "    print(\"Sending the text for analysis...\")\n",
    "    analysis = U.api_predict_create(\n",
    "        token=U.api_login(user=NQ_USER, password=NQ_PASSWORD).get(\"data\").get(\"token\"),\n",
    "        data={\n",
    "            \"name\": Faker().name(),\n",
    "            \"essay\": U.get_my_txt_essay(lang=\"en\"),\n",
    "            \"task\": False,\n",
    "        },\n",
    "        save_result=True,\n",
    "    )\n",
    "else:\n",
    "    print(\"Reading the saved analysis...\")\n",
    "    analysis = U.get_api_predict_result_in_file()"
   ]
  },
  {
   "cell_type": "code",
   "execution_count": 6,
   "id": "8edee6a6-9eeb-449b-a7dd-093d0f9067ef",
   "metadata": {},
   "outputs": [
    {
     "data": {
      "application/json": {
       "code": 201,
       "data": {
        "document_id": "xKFknBtLSIIaE0c3PlnC",
        "information": {
         "processed_by": "srv-1",
         "processing_time": 2.8711288479998984
        },
        "owner": {
         "email": "ederbsd@gmail.com",
         "user_id": "MJumNgU0iud90UsEtohNeh6g0ju1"
        },
        "person": {
         "analysis": {
          "essay": {
           "analyzed_text": "Starting my career has been a mix of excitement and self-discovery. I'm open to learning and trying new things, which is helping me adapt to everything that comes my way - from new systems to unexpected challenges. Each day feels like an opportunity to broaden my skills, and I’ve realized that this openness to experience is making my work feel more engaging and creative. Being in a dynamic work environment is energizing. I’d describe myself as someone who's fairly outgoing, and I’ve enjoyed connecting with my colleagues and building new relationships. These interactions not only make the day more enjoyable but also make me feel part of a bigger team effort. Of course, I won’t lie - there are moments when I feel a little nervous or uncertain, especially when I’m facing something completely unfamiliar. It can be a bit overwhelming at times, and I sometimes worry about making mistakes. But I’m learning to handle these moments by reminding myself that it’s all part of growth. I try not to let those feelings of doubt linger too long, focusing instead on the positives. Being detail-oriented and organized helps me keep on top of things, even when there's a lot going on. I’m committed to doing my best, and I find a sense of satisfaction in completing my tasks responsibly and efficiently. I guess this conscientious side is helping me build trust and reliability within the team. Finally, I’m grateful to be in a place where people are genuinely supportive. Everyone seems to value teamwork and respect, and that aligns with my own desire to work in harmony with others. These first steps in my career feel meaningful, and I’m excited to see where this journey will take me.",
           "detected_language": "en-us",
           "word_count": 288
          },
          "personalities": [
           {
            "openness": {
             "acronym": "O",
             "confidence": 98.2726221320349,
             "name": "Openness",
             "result": 67.14336942276817,
             "score": "high",
             "traits": [
              {
               "confidence": 98.21748834096253,
               "name": "Imagination",
               "result": 65.55242069721896,
               "score": "high",
               "trait": 1
              },
              {
               "confidence": 98.31411818133155,
               "name": "Artistic Interests",
               "result": 69.67639125501738,
               "score": "high",
               "trait": 2
              },
              {
               "confidence": 98.20816024845988,
               "name": "Emotionality",
               "result": 64.6513758181128,
               "score": "high",
               "trait": 3
              },
              {
               "confidence": 98.30569226913131,
               "name": "Adventurousness",
               "result": 67.80084754242598,
               "score": "high",
               "trait": 4
              },
              {
               "confidence": 98.23600640145548,
               "name": "Intellect",
               "result": 64.97772607952314,
               "score": "high",
               "trait": 5
              },
              {
               "confidence": 98.35426735086865,
               "name": "Liberalism",
               "result": 70.20145514431081,
               "score": "high",
               "trait": 6
              }
             ]
            }
           },
           {
            "conscientiousness": {
             "acronym": "C",
             "confidence": 97.55412759616735,
             "name": "Conscientiousness",
             "result": 48.75688737057772,
             "score": "average",
             "traits": [
              {
               "confidence": 97.68771264286433,
               "name": "Self-Efficacy",
               "result": 48.88367260477205,
               "score": "average",
               "trait": 1
              },
              {
               "confidence": 97.73067863787989,
               "name": "Orderliness",
               "result": 50.42728808278259,
               "score": "average",
               "trait": 2
              },
              {
               "confidence": 97.41642948091774,
               "name": "Dutifulness",
               "result": 47.651391653172695,
               "score": "average",
               "trait": 3
              },
              {
               "confidence": 97.60001485767592,
               "name": "Achievement-Striving",
               "result": 48.06398627808579,
               "score": "average",
               "trait": 4
              },
              {
               "confidence": 97.37120095148552,
               "name": "Self-Discipline",
               "result": 48.639594833832454,
               "score": "average",
               "trait": 5
              },
              {
               "confidence": 97.51872900618072,
               "name": "Cautiousness",
               "result": 48.87539077082077,
               "score": "average",
               "trait": 6
              }
             ]
            }
           },
           {
            "extraversion": {
             "acronym": "E",
             "confidence": 98.73935828027804,
             "name": "Extraversion",
             "result": 85.91171517187894,
             "score": "high",
             "traits": [
              {
               "confidence": 98.73594726079656,
               "name": "Friendliness",
               "result": 85.71598899290142,
               "score": "high",
               "trait": 1
              },
              {
               "confidence": 98.77050305097576,
               "name": "Gregariousness",
               "result": 86.50899248184467,
               "score": "high",
               "trait": 2
              },
              {
               "confidence": 98.67991252600396,
               "name": "Assertiveness",
               "result": 83.24309346268203,
               "score": "high",
               "trait": 3
              },
              {
               "confidence": 98.70425808649973,
               "name": "Activity Level",
               "result": 86.13630537845029,
               "score": "high",
               "trait": 4
              },
              {
               "confidence": 98.7724608595977,
               "name": "Excitement Seeking",
               "result": 86.70829204904906,
               "score": "high",
               "trait": 5
              },
              {
               "confidence": 98.77306789779448,
               "name": "Cheerfulness",
               "result": 87.15761866634611,
               "score": "high",
               "trait": 6
              }
             ]
            }
           },
           {
            "agreeableness": {
             "acronym": "A",
             "confidence": 96.14601020944654,
             "name": "Agreeableness",
             "result": 42.3877584585016,
             "score": "low",
             "traits": [
              {
               "confidence": 97.47370082335824,
               "name": "Trust",
               "result": 47.11976415684818,
               "score": "average",
               "trait": 1
              },
              {
               "confidence": 94.66695086981741,
               "name": "Morality",
               "result": 40.19746112367908,
               "score": "low",
               "trait": 2
              },
              {
               "confidence": 94.55228413305682,
               "name": "Altruism",
               "result": 39.725919770340575,
               "score": "low",
               "trait": 3
              },
              {
               "confidence": 96.79567466448998,
               "name": "Cooperation",
               "result": 42.488173121509476,
               "score": "low",
               "trait": 4
              },
              {
               "confidence": 96.61000987267795,
               "name": "Modesty",
               "result": 43.41463082289796,
               "score": "low",
               "trait": 5
              },
              {
               "confidence": 96.77744089327884,
               "name": "Sympathy",
               "result": 41.38060175573432,
               "score": "low",
               "trait": 6
              }
             ]
            }
           },
           {
            "neuroticism": {
             "acronym": "N",
             "confidence": 97.51618856271249,
             "name": "Neuroticism",
             "result": 43.89840224340704,
             "score": "low",
             "traits": [
              {
               "confidence": 97.81872235723206,
               "name": "Anxiety",
               "result": 47.68747957233561,
               "score": "average",
               "trait": 1
              },
              {
               "confidence": 97.35379587557274,
               "name": "Anger",
               "result": 43.14858902304794,
               "score": "low",
               "trait": 2
              },
              {
               "confidence": 97.34832988876431,
               "name": "Depression",
               "result": 39.74993853558701,
               "score": "low",
               "trait": 3
              },
              {
               "confidence": 97.73290643456784,
               "name": "Self-Consciousness",
               "result": 46.48347663591312,
               "score": "average",
               "trait": 4
              },
              {
               "confidence": 97.34377472142742,
               "name": "Immoderation",
               "result": 41.43858591654961,
               "score": "low",
               "trait": 5
              },
              {
               "confidence": 97.49960209871047,
               "name": "Vulnerability",
               "result": 44.88234377700894,
               "score": "low",
               "trait": 6
              }
             ]
            }
           }
          ],
          "warnings": [
           "For a more accurate analysis, it is better for the text to contain more words than 288."
          ]
         },
         "name": "Lisa Armstrong"
        },
        "predict_id": "1da78dfb-87b8-43fc-9fd4-71b39efee326",
        "provider": {
         "api": {
          "version": "v2.0.0"
         },
         "date": "2024-11-08 02:26:32 UTC",
         "model": {
          "name": "Claudia",
          "theory": "Big 5 Personality Traits",
          "version": "v2.0.0"
         },
         "name": "NeuroQuest AI",
         "product": "Persona-Predict"
        }
       },
       "status": "success"
      },
      "text/plain": [
       "<IPython.core.display.JSON object>"
      ]
     },
     "execution_count": 6,
     "metadata": {
      "application/json": {
       "expanded": true,
       "root": "root"
      }
     },
     "output_type": "execute_result"
    }
   ],
   "source": [
    "JSON(analysis, expanded=True)"
   ]
  },
  {
   "cell_type": "markdown",
   "id": "286bbeea",
   "metadata": {},
   "source": [
    "## 0. Sunburst 🔮"
   ]
  },
  {
   "cell_type": "code",
   "execution_count": 7,
   "id": "65e5aef3",
   "metadata": {},
   "outputs": [
    {
     "data": {
      "text/html": [
       "<center><img src='plots/big_five_plot_sunburst.png'/></center>"
      ],
      "text/plain": [
       "<IPython.core.display.HTML object>"
      ]
     },
     "metadata": {},
     "output_type": "display_data"
    }
   ],
   "source": [
    "display(HTML(U.plot_sunburst(data=analysis)))"
   ]
  },
  {
   "cell_type": "markdown",
   "id": "d9b59936-e191-4b76-bd6b-7035446d27e0",
   "metadata": {},
   "source": [
    "## 1. Big-Five Scores 🎭"
   ]
  },
  {
   "cell_type": "code",
   "execution_count": 8,
   "id": "1722938c-9193-4224-bcab-172da3177b4c",
   "metadata": {},
   "outputs": [
    {
     "data": {
      "text/html": [
       "<div>\n",
       "<style scoped>\n",
       "    .dataframe tbody tr th:only-of-type {\n",
       "        vertical-align: middle;\n",
       "    }\n",
       "\n",
       "    .dataframe tbody tr th {\n",
       "        vertical-align: top;\n",
       "    }\n",
       "\n",
       "    .dataframe thead th {\n",
       "        text-align: right;\n",
       "    }\n",
       "</style>\n",
       "<table border=\"1\" class=\"dataframe\">\n",
       "  <thead>\n",
       "    <tr style=\"text-align: right;\">\n",
       "      <th></th>\n",
       "      <th>O</th>\n",
       "      <th>C</th>\n",
       "      <th>E</th>\n",
       "      <th>A</th>\n",
       "      <th>N</th>\n",
       "    </tr>\n",
       "  </thead>\n",
       "  <tbody>\n",
       "    <tr>\n",
       "      <th>0</th>\n",
       "      <td>67.143369</td>\n",
       "      <td>48.756887</td>\n",
       "      <td>85.911715</td>\n",
       "      <td>42.387758</td>\n",
       "      <td>43.898402</td>\n",
       "    </tr>\n",
       "  </tbody>\n",
       "</table>\n",
       "</div>"
      ],
      "text/plain": [
       "           O          C          E          A          N\n",
       "0  67.143369  48.756887  85.911715  42.387758  43.898402"
      ]
     },
     "execution_count": 8,
     "metadata": {},
     "output_type": "execute_result"
    }
   ],
   "source": [
    "score_big_five = list(\n",
    "    map(\n",
    "        U.get_big5,\n",
    "        analysis.get(\"data\").get(\"person\").get(\"analysis\").get(\"personalities\"),\n",
    "    )\n",
    ")\n",
    "pd.concat([pd.DataFrame([x]) for x in score_big_five], axis=0).ffill().bfill().head(1)"
   ]
  },
  {
   "cell_type": "code",
   "execution_count": 9,
   "id": "8f56fc31-72ab-4be5-b4c0-2beb279de449",
   "metadata": {},
   "outputs": [
    {
     "data": {
      "text/html": [
       "<center><img src='plots/big_five_plot_bar.png'/></center>"
      ],
      "text/plain": [
       "<IPython.core.display.HTML object>"
      ]
     },
     "metadata": {},
     "output_type": "display_data"
    }
   ],
   "source": [
    "display(HTML(U.plot_big5_bar(score_big_five=score_big_five)))"
   ]
  },
  {
   "cell_type": "markdown",
   "id": "6dbab8a7-b01b-4468-818e-75d5455cf6e3",
   "metadata": {},
   "source": [
    "## 2. Big-Five Openness & Facets 🧑‍🎨"
   ]
  },
  {
   "cell_type": "code",
   "execution_count": 10,
   "id": "b40366b6-5fa3-4999-b800-5a2422a32f5f",
   "metadata": {},
   "outputs": [
    {
     "data": {
      "text/html": [
       "<div>\n",
       "<style scoped>\n",
       "    .dataframe tbody tr th:only-of-type {\n",
       "        vertical-align: middle;\n",
       "    }\n",
       "\n",
       "    .dataframe tbody tr th {\n",
       "        vertical-align: top;\n",
       "    }\n",
       "\n",
       "    .dataframe thead th {\n",
       "        text-align: right;\n",
       "    }\n",
       "</style>\n",
       "<table border=\"1\" class=\"dataframe\">\n",
       "  <thead>\n",
       "    <tr style=\"text-align: right;\">\n",
       "      <th></th>\n",
       "      <th>name</th>\n",
       "      <th>result</th>\n",
       "      <th>confidence</th>\n",
       "    </tr>\n",
       "  </thead>\n",
       "  <tbody>\n",
       "    <tr>\n",
       "      <th>0</th>\n",
       "      <td>Imagination</td>\n",
       "      <td>65.552421</td>\n",
       "      <td>98.217488</td>\n",
       "    </tr>\n",
       "    <tr>\n",
       "      <th>1</th>\n",
       "      <td>Artistic Interests</td>\n",
       "      <td>69.676391</td>\n",
       "      <td>98.314118</td>\n",
       "    </tr>\n",
       "    <tr>\n",
       "      <th>2</th>\n",
       "      <td>Emotionality</td>\n",
       "      <td>64.651376</td>\n",
       "      <td>98.208160</td>\n",
       "    </tr>\n",
       "    <tr>\n",
       "      <th>3</th>\n",
       "      <td>Adventurousness</td>\n",
       "      <td>67.800848</td>\n",
       "      <td>98.305692</td>\n",
       "    </tr>\n",
       "    <tr>\n",
       "      <th>4</th>\n",
       "      <td>Intellect</td>\n",
       "      <td>64.977726</td>\n",
       "      <td>98.236006</td>\n",
       "    </tr>\n",
       "    <tr>\n",
       "      <th>5</th>\n",
       "      <td>Liberalism</td>\n",
       "      <td>70.201455</td>\n",
       "      <td>98.354267</td>\n",
       "    </tr>\n",
       "  </tbody>\n",
       "</table>\n",
       "</div>"
      ],
      "text/plain": [
       "                 name     result  confidence\n",
       "0         Imagination  65.552421   98.217488\n",
       "1  Artistic Interests  69.676391   98.314118\n",
       "2        Emotionality  64.651376   98.208160\n",
       "3     Adventurousness  67.800848   98.305692\n",
       "4           Intellect  64.977726   98.236006\n",
       "5          Liberalism  70.201455   98.354267"
      ]
     },
     "execution_count": 10,
     "metadata": {},
     "output_type": "execute_result"
    }
   ],
   "source": [
    "score_openness_facets = (\n",
    "    analysis.get(\"data\")\n",
    "    .get(\"person\")\n",
    "    .get(\"analysis\")\n",
    "    .get(\"personalities\")[0]\n",
    "    .get(\"openness\")\n",
    "    .get(\"traits\")\n",
    ")\n",
    "pd.DataFrame(score_openness_facets, columns=[\"name\", \"result\", \"confidence\"])"
   ]
  },
  {
   "cell_type": "code",
   "execution_count": 11,
   "id": "ea493798-cc05-43c8-8614-9d1a38719597",
   "metadata": {},
   "outputs": [
    {
     "data": {
      "text/html": [
       "<center><img src='plots/big_five_openness_facets_plot_bar.png'/></center>"
      ],
      "text/plain": [
       "<IPython.core.display.HTML object>"
      ]
     },
     "metadata": {},
     "output_type": "display_data"
    }
   ],
   "source": [
    "display(\n",
    "    HTML(\n",
    "        U.plot_big5_openness_facets_bar(score_openness_facets=score_openness_facets)\n",
    "    )\n",
    ")"
   ]
  },
  {
   "cell_type": "markdown",
   "id": "056b9001-d1ae-41e9-98ce-fcee62674f2e",
   "metadata": {},
   "source": [
    "## 2. Big-Five Conscientiousness & Facets 🧑‍🔬 "
   ]
  },
  {
   "cell_type": "code",
   "execution_count": 12,
   "id": "25f0f372-13ad-45cd-b518-ceb800fe5fa2",
   "metadata": {},
   "outputs": [
    {
     "data": {
      "text/html": [
       "<div>\n",
       "<style scoped>\n",
       "    .dataframe tbody tr th:only-of-type {\n",
       "        vertical-align: middle;\n",
       "    }\n",
       "\n",
       "    .dataframe tbody tr th {\n",
       "        vertical-align: top;\n",
       "    }\n",
       "\n",
       "    .dataframe thead th {\n",
       "        text-align: right;\n",
       "    }\n",
       "</style>\n",
       "<table border=\"1\" class=\"dataframe\">\n",
       "  <thead>\n",
       "    <tr style=\"text-align: right;\">\n",
       "      <th></th>\n",
       "      <th>name</th>\n",
       "      <th>result</th>\n",
       "      <th>confidence</th>\n",
       "    </tr>\n",
       "  </thead>\n",
       "  <tbody>\n",
       "    <tr>\n",
       "      <th>0</th>\n",
       "      <td>Self-Efficacy</td>\n",
       "      <td>48.883673</td>\n",
       "      <td>97.687713</td>\n",
       "    </tr>\n",
       "    <tr>\n",
       "      <th>1</th>\n",
       "      <td>Orderliness</td>\n",
       "      <td>50.427288</td>\n",
       "      <td>97.730679</td>\n",
       "    </tr>\n",
       "    <tr>\n",
       "      <th>2</th>\n",
       "      <td>Dutifulness</td>\n",
       "      <td>47.651392</td>\n",
       "      <td>97.416429</td>\n",
       "    </tr>\n",
       "    <tr>\n",
       "      <th>3</th>\n",
       "      <td>Achievement-Striving</td>\n",
       "      <td>48.063986</td>\n",
       "      <td>97.600015</td>\n",
       "    </tr>\n",
       "    <tr>\n",
       "      <th>4</th>\n",
       "      <td>Self-Discipline</td>\n",
       "      <td>48.639595</td>\n",
       "      <td>97.371201</td>\n",
       "    </tr>\n",
       "    <tr>\n",
       "      <th>5</th>\n",
       "      <td>Cautiousness</td>\n",
       "      <td>48.875391</td>\n",
       "      <td>97.518729</td>\n",
       "    </tr>\n",
       "  </tbody>\n",
       "</table>\n",
       "</div>"
      ],
      "text/plain": [
       "                   name     result  confidence\n",
       "0         Self-Efficacy  48.883673   97.687713\n",
       "1           Orderliness  50.427288   97.730679\n",
       "2           Dutifulness  47.651392   97.416429\n",
       "3  Achievement-Striving  48.063986   97.600015\n",
       "4       Self-Discipline  48.639595   97.371201\n",
       "5          Cautiousness  48.875391   97.518729"
      ]
     },
     "execution_count": 12,
     "metadata": {},
     "output_type": "execute_result"
    }
   ],
   "source": [
    "score_conscientiousness_facets = (\n",
    "    analysis.get(\"data\")\n",
    "    .get(\"person\")\n",
    "    .get(\"analysis\")\n",
    "    .get(\"personalities\")[1]\n",
    "    .get(\"conscientiousness\")\n",
    "    .get(\"traits\")\n",
    ")\n",
    "pd.DataFrame(score_conscientiousness_facets, columns=[\"name\", \"result\", \"confidence\"])"
   ]
  },
  {
   "cell_type": "code",
   "execution_count": 13,
   "id": "857bc9d1-74d2-406a-b6c5-5272c0f6ad9b",
   "metadata": {},
   "outputs": [
    {
     "data": {
      "text/html": [
       "<center><img src='plots/big_five_conscientiousness_facets_plot_bar.png'/></center>"
      ],
      "text/plain": [
       "<IPython.core.display.HTML object>"
      ]
     },
     "metadata": {},
     "output_type": "display_data"
    }
   ],
   "source": [
    "display(\n",
    "    HTML(\n",
    "        U.plot_big5_conscientiousness_facets_bar(\n",
    "            score_conscientiousness_facets=score_conscientiousness_facets\n",
    "        )\n",
    "    )\n",
    ")"
   ]
  },
  {
   "cell_type": "markdown",
   "id": "ed6aa80a-aba1-4f2d-b3b7-973e32d1027f",
   "metadata": {},
   "source": [
    "## 3. Big-Five Extraversion & Facets 🕺💃"
   ]
  },
  {
   "cell_type": "code",
   "execution_count": 14,
   "id": "67459c82-7643-42e9-a18e-7aeb4c7d1a62",
   "metadata": {},
   "outputs": [
    {
     "data": {
      "text/html": [
       "<div>\n",
       "<style scoped>\n",
       "    .dataframe tbody tr th:only-of-type {\n",
       "        vertical-align: middle;\n",
       "    }\n",
       "\n",
       "    .dataframe tbody tr th {\n",
       "        vertical-align: top;\n",
       "    }\n",
       "\n",
       "    .dataframe thead th {\n",
       "        text-align: right;\n",
       "    }\n",
       "</style>\n",
       "<table border=\"1\" class=\"dataframe\">\n",
       "  <thead>\n",
       "    <tr style=\"text-align: right;\">\n",
       "      <th></th>\n",
       "      <th>name</th>\n",
       "      <th>result</th>\n",
       "      <th>confidence</th>\n",
       "    </tr>\n",
       "  </thead>\n",
       "  <tbody>\n",
       "    <tr>\n",
       "      <th>0</th>\n",
       "      <td>Friendliness</td>\n",
       "      <td>85.715989</td>\n",
       "      <td>98.735947</td>\n",
       "    </tr>\n",
       "    <tr>\n",
       "      <th>1</th>\n",
       "      <td>Gregariousness</td>\n",
       "      <td>86.508992</td>\n",
       "      <td>98.770503</td>\n",
       "    </tr>\n",
       "    <tr>\n",
       "      <th>2</th>\n",
       "      <td>Assertiveness</td>\n",
       "      <td>83.243093</td>\n",
       "      <td>98.679913</td>\n",
       "    </tr>\n",
       "    <tr>\n",
       "      <th>3</th>\n",
       "      <td>Activity Level</td>\n",
       "      <td>86.136305</td>\n",
       "      <td>98.704258</td>\n",
       "    </tr>\n",
       "    <tr>\n",
       "      <th>4</th>\n",
       "      <td>Excitement Seeking</td>\n",
       "      <td>86.708292</td>\n",
       "      <td>98.772461</td>\n",
       "    </tr>\n",
       "    <tr>\n",
       "      <th>5</th>\n",
       "      <td>Cheerfulness</td>\n",
       "      <td>87.157619</td>\n",
       "      <td>98.773068</td>\n",
       "    </tr>\n",
       "  </tbody>\n",
       "</table>\n",
       "</div>"
      ],
      "text/plain": [
       "                 name     result  confidence\n",
       "0        Friendliness  85.715989   98.735947\n",
       "1      Gregariousness  86.508992   98.770503\n",
       "2       Assertiveness  83.243093   98.679913\n",
       "3      Activity Level  86.136305   98.704258\n",
       "4  Excitement Seeking  86.708292   98.772461\n",
       "5        Cheerfulness  87.157619   98.773068"
      ]
     },
     "execution_count": 14,
     "metadata": {},
     "output_type": "execute_result"
    }
   ],
   "source": [
    "score_extraversion_facets = (\n",
    "    analysis.get(\"data\")\n",
    "    .get(\"person\")\n",
    "    .get(\"analysis\")\n",
    "    .get(\"personalities\")[2]\n",
    "    .get(\"extraversion\")\n",
    "    .get(\"traits\")\n",
    ")\n",
    "pd.DataFrame(score_extraversion_facets, columns=[\"name\", \"result\", \"confidence\"])"
   ]
  },
  {
   "cell_type": "code",
   "execution_count": 15,
   "id": "05a5979e-62d5-4dca-9319-a44ee41d7856",
   "metadata": {},
   "outputs": [
    {
     "data": {
      "text/html": [
       "<center><img src='plots/big_five_extraversion_facets_plot_bar.png'/></center>"
      ],
      "text/plain": [
       "<IPython.core.display.HTML object>"
      ]
     },
     "metadata": {},
     "output_type": "display_data"
    }
   ],
   "source": [
    "display(\n",
    "    HTML(\n",
    "        U.plot_big5_extraversion_facets_bar(\n",
    "            score_extraversion_facets=score_extraversion_facets\n",
    "        )\n",
    "    )\n",
    ")"
   ]
  },
  {
   "cell_type": "markdown",
   "id": "04257ede-733b-4d5d-9eae-247680087aaf",
   "metadata": {},
   "source": [
    "## 4. Big-Five Agreeableness & Facets 🙋🧡"
   ]
  },
  {
   "cell_type": "code",
   "execution_count": 16,
   "id": "4ce8b7db-11bc-4273-85aa-311639472770",
   "metadata": {},
   "outputs": [
    {
     "data": {
      "text/html": [
       "<div>\n",
       "<style scoped>\n",
       "    .dataframe tbody tr th:only-of-type {\n",
       "        vertical-align: middle;\n",
       "    }\n",
       "\n",
       "    .dataframe tbody tr th {\n",
       "        vertical-align: top;\n",
       "    }\n",
       "\n",
       "    .dataframe thead th {\n",
       "        text-align: right;\n",
       "    }\n",
       "</style>\n",
       "<table border=\"1\" class=\"dataframe\">\n",
       "  <thead>\n",
       "    <tr style=\"text-align: right;\">\n",
       "      <th></th>\n",
       "      <th>name</th>\n",
       "      <th>result</th>\n",
       "      <th>confidence</th>\n",
       "    </tr>\n",
       "  </thead>\n",
       "  <tbody>\n",
       "    <tr>\n",
       "      <th>0</th>\n",
       "      <td>Trust</td>\n",
       "      <td>47.119764</td>\n",
       "      <td>97.473701</td>\n",
       "    </tr>\n",
       "    <tr>\n",
       "      <th>1</th>\n",
       "      <td>Morality</td>\n",
       "      <td>40.197461</td>\n",
       "      <td>94.666951</td>\n",
       "    </tr>\n",
       "    <tr>\n",
       "      <th>2</th>\n",
       "      <td>Altruism</td>\n",
       "      <td>39.725920</td>\n",
       "      <td>94.552284</td>\n",
       "    </tr>\n",
       "    <tr>\n",
       "      <th>3</th>\n",
       "      <td>Cooperation</td>\n",
       "      <td>42.488173</td>\n",
       "      <td>96.795675</td>\n",
       "    </tr>\n",
       "    <tr>\n",
       "      <th>4</th>\n",
       "      <td>Modesty</td>\n",
       "      <td>43.414631</td>\n",
       "      <td>96.610010</td>\n",
       "    </tr>\n",
       "    <tr>\n",
       "      <th>5</th>\n",
       "      <td>Sympathy</td>\n",
       "      <td>41.380602</td>\n",
       "      <td>96.777441</td>\n",
       "    </tr>\n",
       "  </tbody>\n",
       "</table>\n",
       "</div>"
      ],
      "text/plain": [
       "          name     result  confidence\n",
       "0        Trust  47.119764   97.473701\n",
       "1     Morality  40.197461   94.666951\n",
       "2     Altruism  39.725920   94.552284\n",
       "3  Cooperation  42.488173   96.795675\n",
       "4      Modesty  43.414631   96.610010\n",
       "5     Sympathy  41.380602   96.777441"
      ]
     },
     "execution_count": 16,
     "metadata": {},
     "output_type": "execute_result"
    }
   ],
   "source": [
    "score_agreeableness_facets = (\n",
    "    analysis.get(\"data\")\n",
    "    .get(\"person\")\n",
    "    .get(\"analysis\")\n",
    "    .get(\"personalities\")[3]\n",
    "    .get(\"agreeableness\")\n",
    "    .get(\"traits\")\n",
    ")\n",
    "pd.DataFrame(score_agreeableness_facets, columns=[\"name\", \"result\", \"confidence\"])"
   ]
  },
  {
   "cell_type": "code",
   "execution_count": 17,
   "id": "303bb1b4-5a39-49b3-826d-d14010e57dc4",
   "metadata": {},
   "outputs": [
    {
     "data": {
      "text/html": [
       "<center><img src='plots/big_five_agreeableness_facets_plot_bar.png'/></center>"
      ],
      "text/plain": [
       "<IPython.core.display.HTML object>"
      ]
     },
     "metadata": {},
     "output_type": "display_data"
    }
   ],
   "source": [
    "display(\n",
    "    HTML(\n",
    "        U.plot_big5_agreeableness_facets_bar(\n",
    "            score_agreeableness_facets=score_agreeableness_facets\n",
    "        )\n",
    "    )\n",
    ")"
   ]
  },
  {
   "cell_type": "markdown",
   "id": "7e991860-96ab-47f5-b61a-abea14fa60dd",
   "metadata": {},
   "source": [
    "## 5. Big-Five Neuroticism & Facets 🙅💢"
   ]
  },
  {
   "cell_type": "code",
   "execution_count": 18,
   "id": "dba0e2f2-cac5-4b0b-872b-dc182268175a",
   "metadata": {},
   "outputs": [
    {
     "data": {
      "text/html": [
       "<div>\n",
       "<style scoped>\n",
       "    .dataframe tbody tr th:only-of-type {\n",
       "        vertical-align: middle;\n",
       "    }\n",
       "\n",
       "    .dataframe tbody tr th {\n",
       "        vertical-align: top;\n",
       "    }\n",
       "\n",
       "    .dataframe thead th {\n",
       "        text-align: right;\n",
       "    }\n",
       "</style>\n",
       "<table border=\"1\" class=\"dataframe\">\n",
       "  <thead>\n",
       "    <tr style=\"text-align: right;\">\n",
       "      <th></th>\n",
       "      <th>name</th>\n",
       "      <th>result</th>\n",
       "      <th>confidence</th>\n",
       "    </tr>\n",
       "  </thead>\n",
       "  <tbody>\n",
       "    <tr>\n",
       "      <th>0</th>\n",
       "      <td>Anxiety</td>\n",
       "      <td>47.687480</td>\n",
       "      <td>97.818722</td>\n",
       "    </tr>\n",
       "    <tr>\n",
       "      <th>1</th>\n",
       "      <td>Anger</td>\n",
       "      <td>43.148589</td>\n",
       "      <td>97.353796</td>\n",
       "    </tr>\n",
       "    <tr>\n",
       "      <th>2</th>\n",
       "      <td>Depression</td>\n",
       "      <td>39.749939</td>\n",
       "      <td>97.348330</td>\n",
       "    </tr>\n",
       "    <tr>\n",
       "      <th>3</th>\n",
       "      <td>Self-Consciousness</td>\n",
       "      <td>46.483477</td>\n",
       "      <td>97.732906</td>\n",
       "    </tr>\n",
       "    <tr>\n",
       "      <th>4</th>\n",
       "      <td>Immoderation</td>\n",
       "      <td>41.438586</td>\n",
       "      <td>97.343775</td>\n",
       "    </tr>\n",
       "    <tr>\n",
       "      <th>5</th>\n",
       "      <td>Vulnerability</td>\n",
       "      <td>44.882344</td>\n",
       "      <td>97.499602</td>\n",
       "    </tr>\n",
       "  </tbody>\n",
       "</table>\n",
       "</div>"
      ],
      "text/plain": [
       "                 name     result  confidence\n",
       "0             Anxiety  47.687480   97.818722\n",
       "1               Anger  43.148589   97.353796\n",
       "2          Depression  39.749939   97.348330\n",
       "3  Self-Consciousness  46.483477   97.732906\n",
       "4        Immoderation  41.438586   97.343775\n",
       "5       Vulnerability  44.882344   97.499602"
      ]
     },
     "execution_count": 18,
     "metadata": {},
     "output_type": "execute_result"
    }
   ],
   "source": [
    "score_neuroticism_facets = (\n",
    "    analysis.get(\"data\")\n",
    "    .get(\"person\")\n",
    "    .get(\"analysis\")\n",
    "    .get(\"personalities\")[4]\n",
    "    .get(\"neuroticism\")\n",
    "    .get(\"traits\")\n",
    ")\n",
    "pd.DataFrame(score_neuroticism_facets, columns=[\"name\", \"result\", \"confidence\"])"
   ]
  },
  {
   "cell_type": "code",
   "execution_count": 19,
   "id": "b6e9279a-ffc2-4df0-a7ad-c29908db2f9f",
   "metadata": {},
   "outputs": [
    {
     "data": {
      "text/html": [
       "<center><img src='plots/big_five_neuroticism_facets_plot_bar.png'/></center>"
      ],
      "text/plain": [
       "<IPython.core.display.HTML object>"
      ]
     },
     "metadata": {},
     "output_type": "display_data"
    }
   ],
   "source": [
    "display(\n",
    "    HTML(\n",
    "        U.plot_big5_neuroticism_facets_bar(\n",
    "            score_neuroticism_facets=score_neuroticism_facets\n",
    "        )\n",
    "    )\n",
    ")"
   ]
  }
 ],
 "metadata": {
  "kernelspec": {
   "display_name": "predict-notebooks-v2-n-vR_y6G-py3.12",
   "language": "python",
   "name": "python3"
  },
  "language_info": {
   "codemirror_mode": {
    "name": "ipython",
    "version": 3
   },
   "file_extension": ".py",
   "mimetype": "text/x-python",
   "name": "python",
   "nbconvert_exporter": "python",
   "pygments_lexer": "ipython3",
   "version": "3.12.3"
  }
 },
 "nbformat": 4,
 "nbformat_minor": 5
}
