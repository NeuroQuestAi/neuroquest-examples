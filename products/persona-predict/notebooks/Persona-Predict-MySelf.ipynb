{
 "cells": [
  {
   "cell_type": "markdown",
   "id": "05be025f-1d6d-41eb-aa04-14081277fa0f",
   "metadata": {},
   "source": [
    "# Analyzing Personality MySelf 🌊\n",
    "\n",
    "Using the **Persona-Predict** 🧠 service to create an analysis based on the author's text ✍️ and analyze the 🗣 personality traits generated. For more information about the service visit: [docs.neuroquest.ai/persona-predict](https://docs.neuroquest.ai/persona-predict/)\n",
    "\n",
    "If the graphics are not rendered 🚫, use the address:\n",
    "\n",
    "  - [View in NBViewer](https://nbviewer.org/github/NeuroQuestAi/neuroquest-examples/blob/main/products/persona-predict/notebooks/Persona-Predict-MySelf.ipynb?flush_cache=true)"
   ]
  },
  {
   "cell_type": "code",
   "execution_count": 1,
   "id": "50578723-bc28-4121-a8d9-dd7f8a153ad0",
   "metadata": {},
   "outputs": [],
   "source": [
    "import os\n",
    "\n",
    "import pandas as pd\n",
    "from faker import Faker\n",
    "from IPython.display import JSON, HTML, display\n",
    "\n",
    "import utility as U"
   ]
  },
  {
   "cell_type": "code",
   "execution_count": 2,
   "id": "d55dac21-035c-4db4-a7c6-4585abda5e50",
   "metadata": {},
   "outputs": [],
   "source": [
    "NQ_USER = os.getenv(\"NQ_USER\")\n",
    "NQ_PASSWORD = os.getenv(\"NQ_PASSWORD\")"
   ]
  },
  {
   "cell_type": "markdown",
   "id": "73c5b1e8-c15e-4770-9517-11b0e660598a",
   "metadata": {},
   "source": [
    "## Create the Personality Analysis 📊\n",
    "\n",
    "- Sends the text to the **Persona-Predict** Service, if the analysis already exists it is read from the file."
   ]
  },
  {
   "cell_type": "code",
   "execution_count": 3,
   "id": "c4e537c0-f06d-47fe-b6da-269b3f0d8eee",
   "metadata": {},
   "outputs": [
    {
     "name": "stdout",
     "output_type": "stream",
     "text": [
      "Reading the saved analysis...\n"
     ]
    }
   ],
   "source": [
    "if not os.path.exists(\"predict-result.json\"):\n",
    "    print(\"Sending the text for analysis...\")\n",
    "    analysis = U.predict_create(\n",
    "        token=U.login(user=NQ_USER, password=NQ_PASSWORD).get(\"data\").get(\"token\"),\n",
    "        data={\n",
    "            \"name\": Faker().name(),\n",
    "            \"essay\": U.get_my_txt_essay(lang=\"en\"),\n",
    "        },\n",
    "        save_result=True,\n",
    "    )\n",
    "else:\n",
    "    print(\"Reading the saved analysis...\")\n",
    "    analysis = U.get_predict_result_in_file()"
   ]
  },
  {
   "cell_type": "code",
   "execution_count": 4,
   "id": "8edee6a6-9eeb-449b-a7dd-093d0f9067ef",
   "metadata": {},
   "outputs": [
    {
     "data": {
      "application/json": {
       "code": 201,
       "data": {
        "document_id": "jfprdwY1ZWIpqQ7cmC0U",
        "owner": {
         "email": "ederbsd@gmail.com",
         "user_id": "MJumNgU0iud90UsEtohNeh6g0ju1"
        },
        "person": {
         "analysis": {
          "essay": {
           "analyzed_text": "Since my early days in a small town in the south, my life has been an incredible journey, full of challenges and achievements. I was born into a welcoming environment, but from an early age, I felt that the world had much more to offer. With determination and an unwavering will to grow, I decided to seek new opportunities in São Paulo. The move to the bustling metropolis was a cultural shock, but soon I found myself immersed in a dynamic environment full of possibilities. The thirst for learning drove me to pursue quality education, constantly seeking to enhance my skills and knowledge. The early years were challenging, but every obstacle was an opportunity to grow and evolve. I entered the corporate world with unwavering determination. I worked hard, taking on increasing and challenging responsibilities. Each position was a chance to learn and contribute to the growth of the organizations I worked for. Over time, my reputation as a dedicated and innovative leader began to solidify. The path to the CEO position was not easy. There were moments of doubt, but I always believed in my potential and the ability to make a difference. Leadership is not just about reaching the top but inspiring and guiding others along the way. I learned the importance of resilience, empathy, and making assertive decisions. Today, as the CEO of a large company, I look back with gratitude for all the experiences that shaped my journey. Every challenge overcome, every tough decision, and every victory contributed to my personal and professional growth. I am committed to continuing to lead with integrity, vision, and passion, always seeking innovation and excellence. My story is a testament that, regardless of where you start, with hard work, perseverance, and determination, it is possible to reach the highest heights. The journey is far from over, and I am excited about the challenges and achievements the future holds.",
           "detected_language": "en",
           "word_count": 318
          },
          "orvis": [
           {
            "name": "Leadership",
            "result": 79.62581253051758,
            "score": "high",
            "trait": 1
           },
           {
            "name": "Organization",
            "result": 69.33940505981445,
            "score": "high",
            "trait": 2
           },
           {
            "name": "Altruism",
            "result": 57.76687812805176,
            "score": "high",
            "trait": 3
           },
           {
            "name": "Creativity",
            "result": 77.49293518066406,
            "score": "high",
            "trait": 4
           },
           {
            "name": "Analysis",
            "result": 79.46794128417969,
            "score": "high",
            "trait": 5
           },
           {
            "name": "Adventure",
            "result": 70.8775863647461,
            "score": "high",
            "trait": 6
           },
           {
            "name": "Production",
            "result": 62.23522758483887,
            "score": "high",
            "trait": 7
           },
           {
            "name": "Erudition",
            "result": 79.46794128417969,
            "score": "high",
            "trait": 8
           }
          ],
          "personalities": [
           {
            "agreeableness": {
             "acronym": "A",
             "name": "Agreeableness",
             "result": 49.50206756591797,
             "score": "average",
             "traits": [
              {
               "name": "Trust",
               "result": 65.00527954101562,
               "score": "high",
               "trait": 1
              },
              {
               "name": "Morality",
               "result": 41.9281005859375,
               "score": "low",
               "trait": 2
              },
              {
               "name": "Altruism",
               "result": 72.94890594482422,
               "score": "high",
               "trait": 3
              },
              {
               "name": "Cooperation",
               "result": 37.990848541259766,
               "score": "low",
               "trait": 4
              },
              {
               "name": "Modesty",
               "result": 24.193735122680664,
               "score": "low",
               "trait": 5
              },
              {
               "name": "Sympathy",
               "result": 50.52847671508789,
               "score": "average",
               "trait": 6
              }
             ]
            },
            "conscientiousness": {
             "acronym": "C",
             "name": "Conscientiousness",
             "result": 69.87259674072266,
             "score": "high",
             "traits": [
              {
               "name": "Self-Efficacy",
               "result": 83.09867095947266,
               "score": "high",
               "trait": 1
              },
              {
               "name": "Orderliness",
               "result": 67.491455078125,
               "score": "high",
               "trait": 2
              },
              {
               "name": "Dutifulness",
               "result": 71.1873550415039,
               "score": "high",
               "trait": 3
              },
              {
               "name": "Achievement-Striving",
               "result": 84.50845336914062,
               "score": "high",
               "trait": 4
              },
              {
               "name": "Self-Discipline",
               "result": 75.8689193725586,
               "score": "high",
               "trait": 5
              },
              {
               "name": "Cautiousness",
               "result": 53.28310012817383,
               "score": "average",
               "trait": 6
              }
             ]
            },
            "extraversion": {
             "acronym": "E",
             "name": "Extraversion",
             "result": 80.1193618774414,
             "score": "high",
             "traits": [
              {
               "name": "Friendliness",
               "result": 72.78360748291016,
               "score": "high",
               "trait": 1
              },
              {
               "name": "Gregariousness",
               "result": 76.62796783447266,
               "score": "high",
               "trait": 2
              },
              {
               "name": "Assertiveness",
               "result": 79.92374420166016,
               "score": "high",
               "trait": 3
              },
              {
               "name": "Activity Level",
               "result": 81.47483825683594,
               "score": "high",
               "trait": 4
              },
              {
               "name": "Excitement Seeking",
               "result": 79.327880859375,
               "score": "high",
               "trait": 5
              },
              {
               "name": "Cheerfulness",
               "result": 82.64639282226562,
               "score": "high",
               "trait": 6
              }
             ]
            },
            "neuroticism": {
             "acronym": "N",
             "name": "Neuroticism",
             "result": 33.84086227416992,
             "score": "low",
             "traits": [
              {
               "name": "Anxiety",
               "result": 35.20619583129883,
               "score": "low",
               "trait": 1
              },
              {
               "name": "Anger",
               "result": 36.7768440246582,
               "score": "low",
               "trait": 2
              },
              {
               "name": "Depression",
               "result": 32.83070373535156,
               "score": "low",
               "trait": 3
              },
              {
               "name": "Self-Consciousness",
               "result": 25.847530364990234,
               "score": "low",
               "trait": 4
              },
              {
               "name": "Immoderation",
               "result": 42.35615158081055,
               "score": "low",
               "trait": 5
              },
              {
               "name": "Vulnerability",
               "result": 29.39214515686035,
               "score": "low",
               "trait": 6
              }
             ]
            },
            "openness": {
             "acronym": "O",
             "name": "Openness",
             "result": 76.08049011230469,
             "score": "high",
             "traits": [
              {
               "name": "Imagination",
               "result": 81.54359436035156,
               "score": "high",
               "trait": 1
              },
              {
               "name": "Artistic Interests",
               "result": 75.51792907714844,
               "score": "high",
               "trait": 2
              },
              {
               "name": "Emotionality",
               "result": 79.59659576416016,
               "score": "high",
               "trait": 3
              },
              {
               "name": "Adventurousness",
               "result": 70.8775863647461,
               "score": "high",
               "trait": 4
              },
              {
               "name": "Intellect",
               "result": 79.46794128417969,
               "score": "high",
               "trait": 5
              },
              {
               "name": "Liberalism",
               "result": 52.3336296081543,
               "score": "average",
               "trait": 6
              }
             ]
            }
           }
          ],
          "warnings": [
           "For a more accurate analysis, it is better for the text to contain more words than 318."
          ]
         },
         "name": "Rhonda Rogers"
        },
        "predict_id": "896d34b9-ff8a-4f22-be68-299a8b2a866d",
        "provider": {
         "api": {
          "version": "v1.0.0"
         },
         "date": "2024-01-06 21:39:26 UTC",
         "model": {
          "name": "Claudia",
          "theory": "Big 5 Personality Traits",
          "version": "v1.0.0"
         },
         "name": "NeuroQuest AI",
         "product": "Persona-Predict"
        }
       },
       "status": "success"
      },
      "text/plain": [
       "<IPython.core.display.JSON object>"
      ]
     },
     "execution_count": 4,
     "metadata": {
      "application/json": {
       "expanded": true,
       "root": "root"
      }
     },
     "output_type": "execute_result"
    }
   ],
   "source": [
    "JSON(analysis, expanded=True)"
   ]
  },
  {
   "cell_type": "markdown",
   "id": "d9b59936-e191-4b76-bd6b-7035446d27e0",
   "metadata": {},
   "source": [
    "## 1. Big-Five Scores 🎭"
   ]
  },
  {
   "cell_type": "code",
   "execution_count": 5,
   "id": "1722938c-9193-4224-bcab-172da3177b4c",
   "metadata": {},
   "outputs": [
    {
     "data": {
      "text/html": [
       "<div>\n",
       "<style scoped>\n",
       "    .dataframe tbody tr th:only-of-type {\n",
       "        vertical-align: middle;\n",
       "    }\n",
       "\n",
       "    .dataframe tbody tr th {\n",
       "        vertical-align: top;\n",
       "    }\n",
       "\n",
       "    .dataframe thead th {\n",
       "        text-align: right;\n",
       "    }\n",
       "</style>\n",
       "<table border=\"1\" class=\"dataframe\">\n",
       "  <thead>\n",
       "    <tr style=\"text-align: right;\">\n",
       "      <th></th>\n",
       "      <th>O</th>\n",
       "      <th>C</th>\n",
       "      <th>E</th>\n",
       "      <th>A</th>\n",
       "      <th>N</th>\n",
       "    </tr>\n",
       "  </thead>\n",
       "  <tbody>\n",
       "    <tr>\n",
       "      <th>0</th>\n",
       "      <td>76.08049</td>\n",
       "      <td>69.872597</td>\n",
       "      <td>80.119362</td>\n",
       "      <td>49.502068</td>\n",
       "      <td>33.840862</td>\n",
       "    </tr>\n",
       "  </tbody>\n",
       "</table>\n",
       "</div>"
      ],
      "text/plain": [
       "          O          C          E          A          N\n",
       "0  76.08049  69.872597  80.119362  49.502068  33.840862"
      ]
     },
     "execution_count": 5,
     "metadata": {},
     "output_type": "execute_result"
    }
   ],
   "source": [
    "score_big_five = list(\n",
    "    map(\n",
    "        U.get_big_five,\n",
    "        analysis.get(\"data\").get(\"person\").get(\"analysis\").get(\"personalities\"),\n",
    "    )\n",
    ")\n",
    "pd.DataFrame(score_big_five)"
   ]
  },
  {
   "cell_type": "code",
   "execution_count": 6,
   "id": "8f56fc31-72ab-4be5-b4c0-2beb279de449",
   "metadata": {},
   "outputs": [
    {
     "data": {
      "text/html": [
       "<center><img src='plots/big_five_plot_bar.png'/></center>"
      ],
      "text/plain": [
       "<IPython.core.display.HTML object>"
      ]
     },
     "metadata": {},
     "output_type": "display_data"
    }
   ],
   "source": [
    "display(HTML(U.plot_big_five_bar(score_big_five=score_big_five)))"
   ]
  },
  {
   "cell_type": "code",
   "execution_count": 7,
   "id": "88faf87a-d41e-4149-9252-4c80ce1b1b91",
   "metadata": {},
   "outputs": [
    {
     "data": {
      "text/html": [
       "<center><img src='plots/big_five_plot_radar.png'/></center>"
      ],
      "text/plain": [
       "<IPython.core.display.HTML object>"
      ]
     },
     "metadata": {},
     "output_type": "display_data"
    }
   ],
   "source": [
    "display(HTML(U.plot_big_five_radar(score_big_five=score_big_five)))"
   ]
  },
  {
   "cell_type": "markdown",
   "id": "6dbab8a7-b01b-4468-818e-75d5455cf6e3",
   "metadata": {},
   "source": [
    "## 2. Big-Five Openness & Facets 🧑‍🎨"
   ]
  },
  {
   "cell_type": "code",
   "execution_count": 8,
   "id": "b40366b6-5fa3-4999-b800-5a2422a32f5f",
   "metadata": {},
   "outputs": [
    {
     "data": {
      "text/html": [
       "<div>\n",
       "<style scoped>\n",
       "    .dataframe tbody tr th:only-of-type {\n",
       "        vertical-align: middle;\n",
       "    }\n",
       "\n",
       "    .dataframe tbody tr th {\n",
       "        vertical-align: top;\n",
       "    }\n",
       "\n",
       "    .dataframe thead th {\n",
       "        text-align: right;\n",
       "    }\n",
       "</style>\n",
       "<table border=\"1\" class=\"dataframe\">\n",
       "  <thead>\n",
       "    <tr style=\"text-align: right;\">\n",
       "      <th></th>\n",
       "      <th>name</th>\n",
       "      <th>result</th>\n",
       "    </tr>\n",
       "  </thead>\n",
       "  <tbody>\n",
       "    <tr>\n",
       "      <th>0</th>\n",
       "      <td>Imagination</td>\n",
       "      <td>81.543594</td>\n",
       "    </tr>\n",
       "    <tr>\n",
       "      <th>1</th>\n",
       "      <td>Artistic Interests</td>\n",
       "      <td>75.517929</td>\n",
       "    </tr>\n",
       "    <tr>\n",
       "      <th>2</th>\n",
       "      <td>Emotionality</td>\n",
       "      <td>79.596596</td>\n",
       "    </tr>\n",
       "    <tr>\n",
       "      <th>3</th>\n",
       "      <td>Adventurousness</td>\n",
       "      <td>70.877586</td>\n",
       "    </tr>\n",
       "    <tr>\n",
       "      <th>4</th>\n",
       "      <td>Intellect</td>\n",
       "      <td>79.467941</td>\n",
       "    </tr>\n",
       "    <tr>\n",
       "      <th>5</th>\n",
       "      <td>Liberalism</td>\n",
       "      <td>52.333630</td>\n",
       "    </tr>\n",
       "  </tbody>\n",
       "</table>\n",
       "</div>"
      ],
      "text/plain": [
       "                 name     result\n",
       "0         Imagination  81.543594\n",
       "1  Artistic Interests  75.517929\n",
       "2        Emotionality  79.596596\n",
       "3     Adventurousness  70.877586\n",
       "4           Intellect  79.467941\n",
       "5          Liberalism  52.333630"
      ]
     },
     "execution_count": 8,
     "metadata": {},
     "output_type": "execute_result"
    }
   ],
   "source": [
    "score_openness_facets = (\n",
    "    analysis.get(\"data\")\n",
    "    .get(\"person\")\n",
    "    .get(\"analysis\")\n",
    "    .get(\"personalities\")[0]\n",
    "    .get(\"openness\")\n",
    "    .get(\"traits\")\n",
    ")\n",
    "pd.DataFrame(score_openness_facets, columns=[\"name\", \"result\"])"
   ]
  },
  {
   "cell_type": "code",
   "execution_count": 9,
   "id": "ea493798-cc05-43c8-8614-9d1a38719597",
   "metadata": {},
   "outputs": [
    {
     "data": {
      "text/html": [
       "<center><img src='plots/big_five_openness_facets_plot_bar.png'/></center>"
      ],
      "text/plain": [
       "<IPython.core.display.HTML object>"
      ]
     },
     "metadata": {},
     "output_type": "display_data"
    }
   ],
   "source": [
    "display(\n",
    "    HTML(\n",
    "        U.plot_big_five_openness_facets_bar(score_openness_facets=score_openness_facets)\n",
    "    )\n",
    ")"
   ]
  },
  {
   "cell_type": "markdown",
   "id": "056b9001-d1ae-41e9-98ce-fcee62674f2e",
   "metadata": {},
   "source": [
    "## 2. Big-Five Conscientiousness & Facets 🧑‍🔬 "
   ]
  },
  {
   "cell_type": "code",
   "execution_count": 10,
   "id": "25f0f372-13ad-45cd-b518-ceb800fe5fa2",
   "metadata": {},
   "outputs": [
    {
     "data": {
      "text/html": [
       "<div>\n",
       "<style scoped>\n",
       "    .dataframe tbody tr th:only-of-type {\n",
       "        vertical-align: middle;\n",
       "    }\n",
       "\n",
       "    .dataframe tbody tr th {\n",
       "        vertical-align: top;\n",
       "    }\n",
       "\n",
       "    .dataframe thead th {\n",
       "        text-align: right;\n",
       "    }\n",
       "</style>\n",
       "<table border=\"1\" class=\"dataframe\">\n",
       "  <thead>\n",
       "    <tr style=\"text-align: right;\">\n",
       "      <th></th>\n",
       "      <th>name</th>\n",
       "      <th>result</th>\n",
       "    </tr>\n",
       "  </thead>\n",
       "  <tbody>\n",
       "    <tr>\n",
       "      <th>0</th>\n",
       "      <td>Self-Efficacy</td>\n",
       "      <td>83.098671</td>\n",
       "    </tr>\n",
       "    <tr>\n",
       "      <th>1</th>\n",
       "      <td>Orderliness</td>\n",
       "      <td>67.491455</td>\n",
       "    </tr>\n",
       "    <tr>\n",
       "      <th>2</th>\n",
       "      <td>Dutifulness</td>\n",
       "      <td>71.187355</td>\n",
       "    </tr>\n",
       "    <tr>\n",
       "      <th>3</th>\n",
       "      <td>Achievement-Striving</td>\n",
       "      <td>84.508453</td>\n",
       "    </tr>\n",
       "    <tr>\n",
       "      <th>4</th>\n",
       "      <td>Self-Discipline</td>\n",
       "      <td>75.868919</td>\n",
       "    </tr>\n",
       "    <tr>\n",
       "      <th>5</th>\n",
       "      <td>Cautiousness</td>\n",
       "      <td>53.283100</td>\n",
       "    </tr>\n",
       "  </tbody>\n",
       "</table>\n",
       "</div>"
      ],
      "text/plain": [
       "                   name     result\n",
       "0         Self-Efficacy  83.098671\n",
       "1           Orderliness  67.491455\n",
       "2           Dutifulness  71.187355\n",
       "3  Achievement-Striving  84.508453\n",
       "4       Self-Discipline  75.868919\n",
       "5          Cautiousness  53.283100"
      ]
     },
     "execution_count": 10,
     "metadata": {},
     "output_type": "execute_result"
    }
   ],
   "source": [
    "score_conscientiousness_facets = (\n",
    "    analysis.get(\"data\")\n",
    "    .get(\"person\")\n",
    "    .get(\"analysis\")\n",
    "    .get(\"personalities\")[0]\n",
    "    .get(\"conscientiousness\")\n",
    "    .get(\"traits\")\n",
    ")\n",
    "pd.DataFrame(score_conscientiousness_facets, columns=[\"name\", \"result\"])"
   ]
  },
  {
   "cell_type": "code",
   "execution_count": 11,
   "id": "857bc9d1-74d2-406a-b6c5-5272c0f6ad9b",
   "metadata": {},
   "outputs": [
    {
     "data": {
      "text/html": [
       "<center><img src='plots/big_five_conscientiousness_facets_plot_bar.png'/></center>"
      ],
      "text/plain": [
       "<IPython.core.display.HTML object>"
      ]
     },
     "metadata": {},
     "output_type": "display_data"
    }
   ],
   "source": [
    "display(\n",
    "    HTML(\n",
    "        U.plot_big_five_conscientiousness_facets_bar(\n",
    "            score_conscientiousness_facets=score_conscientiousness_facets\n",
    "        )\n",
    "    )\n",
    ")"
   ]
  },
  {
   "cell_type": "markdown",
   "id": "ed6aa80a-aba1-4f2d-b3b7-973e32d1027f",
   "metadata": {},
   "source": [
    "## 3. Big-Five Extraversion & Facets 🕺💃"
   ]
  },
  {
   "cell_type": "code",
   "execution_count": 12,
   "id": "67459c82-7643-42e9-a18e-7aeb4c7d1a62",
   "metadata": {},
   "outputs": [
    {
     "data": {
      "text/html": [
       "<div>\n",
       "<style scoped>\n",
       "    .dataframe tbody tr th:only-of-type {\n",
       "        vertical-align: middle;\n",
       "    }\n",
       "\n",
       "    .dataframe tbody tr th {\n",
       "        vertical-align: top;\n",
       "    }\n",
       "\n",
       "    .dataframe thead th {\n",
       "        text-align: right;\n",
       "    }\n",
       "</style>\n",
       "<table border=\"1\" class=\"dataframe\">\n",
       "  <thead>\n",
       "    <tr style=\"text-align: right;\">\n",
       "      <th></th>\n",
       "      <th>name</th>\n",
       "      <th>result</th>\n",
       "    </tr>\n",
       "  </thead>\n",
       "  <tbody>\n",
       "    <tr>\n",
       "      <th>0</th>\n",
       "      <td>Friendliness</td>\n",
       "      <td>72.783607</td>\n",
       "    </tr>\n",
       "    <tr>\n",
       "      <th>1</th>\n",
       "      <td>Gregariousness</td>\n",
       "      <td>76.627968</td>\n",
       "    </tr>\n",
       "    <tr>\n",
       "      <th>2</th>\n",
       "      <td>Assertiveness</td>\n",
       "      <td>79.923744</td>\n",
       "    </tr>\n",
       "    <tr>\n",
       "      <th>3</th>\n",
       "      <td>Activity Level</td>\n",
       "      <td>81.474838</td>\n",
       "    </tr>\n",
       "    <tr>\n",
       "      <th>4</th>\n",
       "      <td>Excitement Seeking</td>\n",
       "      <td>79.327881</td>\n",
       "    </tr>\n",
       "    <tr>\n",
       "      <th>5</th>\n",
       "      <td>Cheerfulness</td>\n",
       "      <td>82.646393</td>\n",
       "    </tr>\n",
       "  </tbody>\n",
       "</table>\n",
       "</div>"
      ],
      "text/plain": [
       "                 name     result\n",
       "0        Friendliness  72.783607\n",
       "1      Gregariousness  76.627968\n",
       "2       Assertiveness  79.923744\n",
       "3      Activity Level  81.474838\n",
       "4  Excitement Seeking  79.327881\n",
       "5        Cheerfulness  82.646393"
      ]
     },
     "execution_count": 12,
     "metadata": {},
     "output_type": "execute_result"
    }
   ],
   "source": [
    "score_extraversion_facets = (\n",
    "    analysis.get(\"data\")\n",
    "    .get(\"person\")\n",
    "    .get(\"analysis\")\n",
    "    .get(\"personalities\")[0]\n",
    "    .get(\"extraversion\")\n",
    "    .get(\"traits\")\n",
    ")\n",
    "pd.DataFrame(score_extraversion_facets, columns=[\"name\", \"result\"])"
   ]
  },
  {
   "cell_type": "code",
   "execution_count": 13,
   "id": "05a5979e-62d5-4dca-9319-a44ee41d7856",
   "metadata": {},
   "outputs": [
    {
     "data": {
      "text/html": [
       "<center><img src='plots/big_five_extraversion_facets_plot_bar.png'/></center>"
      ],
      "text/plain": [
       "<IPython.core.display.HTML object>"
      ]
     },
     "metadata": {},
     "output_type": "display_data"
    }
   ],
   "source": [
    "display(\n",
    "    HTML(\n",
    "        U.plot_big_five_extraversion_facets_bar(\n",
    "            score_extraversion_facets=score_extraversion_facets\n",
    "        )\n",
    "    )\n",
    ")"
   ]
  },
  {
   "cell_type": "markdown",
   "id": "04257ede-733b-4d5d-9eae-247680087aaf",
   "metadata": {},
   "source": [
    "## 4. Big-Five Agreeableness & Facets 🙋🧡"
   ]
  },
  {
   "cell_type": "code",
   "execution_count": 14,
   "id": "4ce8b7db-11bc-4273-85aa-311639472770",
   "metadata": {},
   "outputs": [
    {
     "data": {
      "text/html": [
       "<div>\n",
       "<style scoped>\n",
       "    .dataframe tbody tr th:only-of-type {\n",
       "        vertical-align: middle;\n",
       "    }\n",
       "\n",
       "    .dataframe tbody tr th {\n",
       "        vertical-align: top;\n",
       "    }\n",
       "\n",
       "    .dataframe thead th {\n",
       "        text-align: right;\n",
       "    }\n",
       "</style>\n",
       "<table border=\"1\" class=\"dataframe\">\n",
       "  <thead>\n",
       "    <tr style=\"text-align: right;\">\n",
       "      <th></th>\n",
       "      <th>name</th>\n",
       "      <th>result</th>\n",
       "    </tr>\n",
       "  </thead>\n",
       "  <tbody>\n",
       "    <tr>\n",
       "      <th>0</th>\n",
       "      <td>Trust</td>\n",
       "      <td>65.005280</td>\n",
       "    </tr>\n",
       "    <tr>\n",
       "      <th>1</th>\n",
       "      <td>Morality</td>\n",
       "      <td>41.928101</td>\n",
       "    </tr>\n",
       "    <tr>\n",
       "      <th>2</th>\n",
       "      <td>Altruism</td>\n",
       "      <td>72.948906</td>\n",
       "    </tr>\n",
       "    <tr>\n",
       "      <th>3</th>\n",
       "      <td>Cooperation</td>\n",
       "      <td>37.990849</td>\n",
       "    </tr>\n",
       "    <tr>\n",
       "      <th>4</th>\n",
       "      <td>Modesty</td>\n",
       "      <td>24.193735</td>\n",
       "    </tr>\n",
       "    <tr>\n",
       "      <th>5</th>\n",
       "      <td>Sympathy</td>\n",
       "      <td>50.528477</td>\n",
       "    </tr>\n",
       "  </tbody>\n",
       "</table>\n",
       "</div>"
      ],
      "text/plain": [
       "          name     result\n",
       "0        Trust  65.005280\n",
       "1     Morality  41.928101\n",
       "2     Altruism  72.948906\n",
       "3  Cooperation  37.990849\n",
       "4      Modesty  24.193735\n",
       "5     Sympathy  50.528477"
      ]
     },
     "execution_count": 14,
     "metadata": {},
     "output_type": "execute_result"
    }
   ],
   "source": [
    "score_agreeableness_facets = (\n",
    "    analysis.get(\"data\")\n",
    "    .get(\"person\")\n",
    "    .get(\"analysis\")\n",
    "    .get(\"personalities\")[0]\n",
    "    .get(\"agreeableness\")\n",
    "    .get(\"traits\")\n",
    ")\n",
    "pd.DataFrame(score_agreeableness_facets, columns=[\"name\", \"result\"])"
   ]
  },
  {
   "cell_type": "code",
   "execution_count": 15,
   "id": "303bb1b4-5a39-49b3-826d-d14010e57dc4",
   "metadata": {},
   "outputs": [
    {
     "data": {
      "text/html": [
       "<center><img src='plots/big_five_agreeableness_facets_plot_bar.png'/></center>"
      ],
      "text/plain": [
       "<IPython.core.display.HTML object>"
      ]
     },
     "metadata": {},
     "output_type": "display_data"
    }
   ],
   "source": [
    "display(\n",
    "    HTML(\n",
    "        U.plot_big_five_agreeableness_facets_bar(\n",
    "            score_agreeableness_facets=score_agreeableness_facets\n",
    "        )\n",
    "    )\n",
    ")"
   ]
  },
  {
   "cell_type": "markdown",
   "id": "7e991860-96ab-47f5-b61a-abea14fa60dd",
   "metadata": {},
   "source": [
    "## 5. Big-Five Neuroticism & Facets 🙅💢"
   ]
  },
  {
   "cell_type": "code",
   "execution_count": 16,
   "id": "dba0e2f2-cac5-4b0b-872b-dc182268175a",
   "metadata": {},
   "outputs": [
    {
     "data": {
      "text/html": [
       "<div>\n",
       "<style scoped>\n",
       "    .dataframe tbody tr th:only-of-type {\n",
       "        vertical-align: middle;\n",
       "    }\n",
       "\n",
       "    .dataframe tbody tr th {\n",
       "        vertical-align: top;\n",
       "    }\n",
       "\n",
       "    .dataframe thead th {\n",
       "        text-align: right;\n",
       "    }\n",
       "</style>\n",
       "<table border=\"1\" class=\"dataframe\">\n",
       "  <thead>\n",
       "    <tr style=\"text-align: right;\">\n",
       "      <th></th>\n",
       "      <th>name</th>\n",
       "      <th>result</th>\n",
       "    </tr>\n",
       "  </thead>\n",
       "  <tbody>\n",
       "    <tr>\n",
       "      <th>0</th>\n",
       "      <td>Anxiety</td>\n",
       "      <td>35.206196</td>\n",
       "    </tr>\n",
       "    <tr>\n",
       "      <th>1</th>\n",
       "      <td>Anger</td>\n",
       "      <td>36.776844</td>\n",
       "    </tr>\n",
       "    <tr>\n",
       "      <th>2</th>\n",
       "      <td>Depression</td>\n",
       "      <td>32.830704</td>\n",
       "    </tr>\n",
       "    <tr>\n",
       "      <th>3</th>\n",
       "      <td>Self-Consciousness</td>\n",
       "      <td>25.847530</td>\n",
       "    </tr>\n",
       "    <tr>\n",
       "      <th>4</th>\n",
       "      <td>Immoderation</td>\n",
       "      <td>42.356152</td>\n",
       "    </tr>\n",
       "    <tr>\n",
       "      <th>5</th>\n",
       "      <td>Vulnerability</td>\n",
       "      <td>29.392145</td>\n",
       "    </tr>\n",
       "  </tbody>\n",
       "</table>\n",
       "</div>"
      ],
      "text/plain": [
       "                 name     result\n",
       "0             Anxiety  35.206196\n",
       "1               Anger  36.776844\n",
       "2          Depression  32.830704\n",
       "3  Self-Consciousness  25.847530\n",
       "4        Immoderation  42.356152\n",
       "5       Vulnerability  29.392145"
      ]
     },
     "execution_count": 16,
     "metadata": {},
     "output_type": "execute_result"
    }
   ],
   "source": [
    "score_neuroticism_facets = (\n",
    "    analysis.get(\"data\")\n",
    "    .get(\"person\")\n",
    "    .get(\"analysis\")\n",
    "    .get(\"personalities\")[0]\n",
    "    .get(\"neuroticism\")\n",
    "    .get(\"traits\")\n",
    ")\n",
    "pd.DataFrame(score_neuroticism_facets, columns=[\"name\", \"result\"])"
   ]
  },
  {
   "cell_type": "code",
   "execution_count": 17,
   "id": "b6e9279a-ffc2-4df0-a7ad-c29908db2f9f",
   "metadata": {},
   "outputs": [
    {
     "data": {
      "text/html": [
       "<center><img src='plots/big_five_neuroticism_facets_plot_bar.png'/></center>"
      ],
      "text/plain": [
       "<IPython.core.display.HTML object>"
      ]
     },
     "metadata": {},
     "output_type": "display_data"
    }
   ],
   "source": [
    "display(\n",
    "    HTML(\n",
    "        U.plot_big_five_neuroticism_facets_bar(\n",
    "            score_neuroticism_facets=score_neuroticism_facets\n",
    "        )\n",
    "    )\n",
    ")"
   ]
  },
  {
   "cell_type": "markdown",
   "id": "4754487e-2615-477a-8fc6-73fe1ecafec0",
   "metadata": {},
   "source": [
    "## 6. ORVIS - The Oregon Vocational Interest 💼🔍"
   ]
  },
  {
   "cell_type": "code",
   "execution_count": 18,
   "id": "20ec0a96-b346-4362-a4e4-dccdbb482d1a",
   "metadata": {},
   "outputs": [
    {
     "data": {
      "text/html": [
       "<div>\n",
       "<style scoped>\n",
       "    .dataframe tbody tr th:only-of-type {\n",
       "        vertical-align: middle;\n",
       "    }\n",
       "\n",
       "    .dataframe tbody tr th {\n",
       "        vertical-align: top;\n",
       "    }\n",
       "\n",
       "    .dataframe thead th {\n",
       "        text-align: right;\n",
       "    }\n",
       "</style>\n",
       "<table border=\"1\" class=\"dataframe\">\n",
       "  <thead>\n",
       "    <tr style=\"text-align: right;\">\n",
       "      <th></th>\n",
       "      <th>name</th>\n",
       "      <th>result</th>\n",
       "    </tr>\n",
       "  </thead>\n",
       "  <tbody>\n",
       "    <tr>\n",
       "      <th>0</th>\n",
       "      <td>Leadership</td>\n",
       "      <td>79.625813</td>\n",
       "    </tr>\n",
       "    <tr>\n",
       "      <th>1</th>\n",
       "      <td>Organization</td>\n",
       "      <td>69.339405</td>\n",
       "    </tr>\n",
       "    <tr>\n",
       "      <th>2</th>\n",
       "      <td>Altruism</td>\n",
       "      <td>57.766878</td>\n",
       "    </tr>\n",
       "    <tr>\n",
       "      <th>3</th>\n",
       "      <td>Creativity</td>\n",
       "      <td>77.492935</td>\n",
       "    </tr>\n",
       "    <tr>\n",
       "      <th>4</th>\n",
       "      <td>Analysis</td>\n",
       "      <td>79.467941</td>\n",
       "    </tr>\n",
       "    <tr>\n",
       "      <th>5</th>\n",
       "      <td>Adventure</td>\n",
       "      <td>70.877586</td>\n",
       "    </tr>\n",
       "    <tr>\n",
       "      <th>6</th>\n",
       "      <td>Production</td>\n",
       "      <td>62.235228</td>\n",
       "    </tr>\n",
       "    <tr>\n",
       "      <th>7</th>\n",
       "      <td>Erudition</td>\n",
       "      <td>79.467941</td>\n",
       "    </tr>\n",
       "  </tbody>\n",
       "</table>\n",
       "</div>"
      ],
      "text/plain": [
       "           name     result\n",
       "0    Leadership  79.625813\n",
       "1  Organization  69.339405\n",
       "2      Altruism  57.766878\n",
       "3    Creativity  77.492935\n",
       "4      Analysis  79.467941\n",
       "5     Adventure  70.877586\n",
       "6    Production  62.235228\n",
       "7     Erudition  79.467941"
      ]
     },
     "execution_count": 18,
     "metadata": {},
     "output_type": "execute_result"
    }
   ],
   "source": [
    "score_orvis_facets = (\n",
    "    analysis.get(\"data\")\n",
    "    .get(\"person\")\n",
    "    .get(\"analysis\")\n",
    "    .get(\"orvis\")\n",
    "\n",
    ")\n",
    "pd.DataFrame(score_orvis_facets, columns=[\"name\", \"result\"])"
   ]
  },
  {
   "cell_type": "code",
   "execution_count": 19,
   "id": "a8c7665d-020c-43c6-a54d-0e8a109d97ef",
   "metadata": {},
   "outputs": [
    {
     "data": {
      "text/html": [
       "<center><img src='plots/orvis_facets_plot_bar.png'/></center>"
      ],
      "text/plain": [
       "<IPython.core.display.HTML object>"
      ]
     },
     "metadata": {},
     "output_type": "display_data"
    }
   ],
   "source": [
    "display(\n",
    "    HTML(\n",
    "        U.plot_orvis_facets_bar(\n",
    "            score_orvis_facets=score_orvis_facets\n",
    "        )\n",
    "    )\n",
    ")"
   ]
  }
 ],
 "metadata": {
  "kernelspec": {
   "display_name": "Python 3 (ipykernel)",
   "language": "python",
   "name": "python3"
  },
  "language_info": {
   "codemirror_mode": {
    "name": "ipython",
    "version": 3
   },
   "file_extension": ".py",
   "mimetype": "text/x-python",
   "name": "python",
   "nbconvert_exporter": "python",
   "pygments_lexer": "ipython3",
   "version": "3.11.5"
  }
 },
 "nbformat": 4,
 "nbformat_minor": 5
}
