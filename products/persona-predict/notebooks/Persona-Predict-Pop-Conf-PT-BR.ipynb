{
 "cells": [
  {
   "cell_type": "markdown",
   "id": "05be025f-1d6d-41eb-aa04-14081277fa0f",
   "metadata": {},
   "source": [
    "# Analyzing Personality Confidence 🌊\n",
    "\n",
    "With the results obtained from processing the **Persona-Predict V2** 🧠  model's data, we analyze the **confidence** 🔍 level of the generated inferences.\n",
    "\n",
    "If the graphics are not rendered 🚫, use the address:\n",
    "\n",
    "  - [View in NBViewer](https://nbviewer.org/github/NeuroQuestAi/neuroquest-examples/blob/main/products/persona-predict/notebooks/Persona-Predict-Pop-Conf-PT-BR.ipynb?flush_cache=true)\n",
    "\n",
    "For more information 🔍 about the service visit: [docs.neuroquest.ai/persona-predict](https://docs.neuroquest.ai/persona-predict/)"
   ]
  },
  {
   "cell_type": "code",
   "execution_count": 1,
   "id": "50578723-bc28-4121-a8d9-dd7f8a153ad0",
   "metadata": {},
   "outputs": [],
   "source": [
    "import pandas as pd\n",
    "import plotly.express as px\n",
    "import utility as U\n",
    "\n",
    "pd.set_option(\"display.max_rows\", 50)  \n",
    "pd.set_option(\"display.max_columns\", 10)"
   ]
  },
  {
   "cell_type": "markdown",
   "id": "8109c46f",
   "metadata": {},
   "source": [
    "## Read Data 📊"
   ]
  },
  {
   "cell_type": "code",
   "execution_count": 2,
   "id": "2e120fbe",
   "metadata": {},
   "outputs": [
    {
     "name": "stdout",
     "output_type": "stream",
     "text": [
      "Number of JSON files found: 100\n"
     ]
    },
    {
     "data": {
      "text/html": [
       "<div>\n",
       "<style scoped>\n",
       "    .dataframe tbody tr th:only-of-type {\n",
       "        vertical-align: middle;\n",
       "    }\n",
       "\n",
       "    .dataframe tbody tr th {\n",
       "        vertical-align: top;\n",
       "    }\n",
       "\n",
       "    .dataframe thead th {\n",
       "        text-align: right;\n",
       "    }\n",
       "</style>\n",
       "<table border=\"1\" class=\"dataframe\">\n",
       "  <thead>\n",
       "    <tr style=\"text-align: right;\">\n",
       "      <th></th>\n",
       "      <th>openness</th>\n",
       "      <th>imagination</th>\n",
       "      <th>artistic_interests</th>\n",
       "      <th>emotionality</th>\n",
       "      <th>adventurousness</th>\n",
       "      <th>...</th>\n",
       "      <th>anger</th>\n",
       "      <th>depression</th>\n",
       "      <th>self_consciousness</th>\n",
       "      <th>immoderation</th>\n",
       "      <th>vulnerability</th>\n",
       "    </tr>\n",
       "  </thead>\n",
       "  <tbody>\n",
       "    <tr>\n",
       "      <th>0</th>\n",
       "      <td>98.653697</td>\n",
       "      <td>98.673785</td>\n",
       "      <td>98.597485</td>\n",
       "      <td>98.697211</td>\n",
       "      <td>98.587847</td>\n",
       "      <td>...</td>\n",
       "      <td>84.044462</td>\n",
       "      <td>96.272598</td>\n",
       "      <td>96.635103</td>\n",
       "      <td>95.732040</td>\n",
       "      <td>83.973929</td>\n",
       "    </tr>\n",
       "    <tr>\n",
       "      <th>1</th>\n",
       "      <td>98.700371</td>\n",
       "      <td>98.664614</td>\n",
       "      <td>98.669086</td>\n",
       "      <td>98.761595</td>\n",
       "      <td>98.641419</td>\n",
       "      <td>...</td>\n",
       "      <td>97.046155</td>\n",
       "      <td>97.179182</td>\n",
       "      <td>97.351004</td>\n",
       "      <td>97.001778</td>\n",
       "      <td>97.554065</td>\n",
       "    </tr>\n",
       "    <tr>\n",
       "      <th>2</th>\n",
       "      <td>98.499742</td>\n",
       "      <td>98.481651</td>\n",
       "      <td>98.449372</td>\n",
       "      <td>98.575498</td>\n",
       "      <td>98.424727</td>\n",
       "      <td>...</td>\n",
       "      <td>83.643998</td>\n",
       "      <td>95.266382</td>\n",
       "      <td>95.818479</td>\n",
       "      <td>94.237987</td>\n",
       "      <td>83.642250</td>\n",
       "    </tr>\n",
       "    <tr>\n",
       "      <th>3</th>\n",
       "      <td>98.224483</td>\n",
       "      <td>98.234587</td>\n",
       "      <td>98.169186</td>\n",
       "      <td>98.337548</td>\n",
       "      <td>98.091162</td>\n",
       "      <td>...</td>\n",
       "      <td>83.873717</td>\n",
       "      <td>95.895847</td>\n",
       "      <td>96.233761</td>\n",
       "      <td>95.414103</td>\n",
       "      <td>88.393212</td>\n",
       "    </tr>\n",
       "    <tr>\n",
       "      <th>4</th>\n",
       "      <td>98.709911</td>\n",
       "      <td>98.681604</td>\n",
       "      <td>98.662501</td>\n",
       "      <td>98.764389</td>\n",
       "      <td>98.675674</td>\n",
       "      <td>...</td>\n",
       "      <td>95.947551</td>\n",
       "      <td>95.428665</td>\n",
       "      <td>95.944638</td>\n",
       "      <td>94.664929</td>\n",
       "      <td>96.591303</td>\n",
       "    </tr>\n",
       "  </tbody>\n",
       "</table>\n",
       "<p>5 rows × 35 columns</p>\n",
       "</div>"
      ],
      "text/plain": [
       "    openness  imagination  artistic_interests  emotionality  adventurousness  \\\n",
       "0  98.653697    98.673785           98.597485     98.697211        98.587847   \n",
       "1  98.700371    98.664614           98.669086     98.761595        98.641419   \n",
       "2  98.499742    98.481651           98.449372     98.575498        98.424727   \n",
       "3  98.224483    98.234587           98.169186     98.337548        98.091162   \n",
       "4  98.709911    98.681604           98.662501     98.764389        98.675674   \n",
       "\n",
       "   ...      anger  depression  self_consciousness  immoderation  vulnerability  \n",
       "0  ...  84.044462   96.272598           96.635103     95.732040      83.973929  \n",
       "1  ...  97.046155   97.179182           97.351004     97.001778      97.554065  \n",
       "2  ...  83.643998   95.266382           95.818479     94.237987      83.642250  \n",
       "3  ...  83.873717   95.895847           96.233761     95.414103      88.393212  \n",
       "4  ...  95.947551   95.428665           95.944638     94.664929      96.591303  \n",
       "\n",
       "[5 rows x 35 columns]"
      ]
     },
     "execution_count": 2,
     "metadata": {},
     "output_type": "execute_result"
    }
   ],
   "source": [
    "df = pd.DataFrame(U.get_confidence_from_batch_json_results())\n",
    "df.head(5)"
   ]
  },
  {
   "cell_type": "markdown",
   "id": "44023c55-f1a9-4cf4-bba1-77041f59f57c",
   "metadata": {},
   "source": [
    "## Model Confidences 🔍"
   ]
  },
  {
   "cell_type": "markdown",
   "id": "3ef4ad93",
   "metadata": {},
   "source": [
    "### Confidence Profile "
   ]
  },
  {
   "cell_type": "code",
   "execution_count": 3,
   "id": "9df0473f",
   "metadata": {},
   "outputs": [
    {
     "data": {
      "application/vnd.plotly.v1+json": {
       "config": {
        "plotlyServerURL": "https://plot.ly"
       },
       "data": [
        {
         "alignmentgroup": "True",
         "hovertemplate": "Traits=%{x}<br>Confidence=%{y}<extra></extra>",
         "legendgroup": "",
         "marker": {
          "color": "orange",
          "pattern": {
           "shape": ""
          }
         },
         "name": "",
         "offsetgroup": "",
         "orientation": "v",
         "showlegend": false,
         "textposition": "auto",
         "type": "bar",
         "x": [
          "openness",
          "imagination",
          "artistic_interests",
          "emotionality",
          "adventurousness",
          "intellect",
          "liberalism",
          "conscientiousness",
          "self_efficacy",
          "orderliness",
          "dutifulness",
          "achievement_striving",
          "self_discipline",
          "cautiousness",
          "extraversion",
          "friendliness",
          "gregariousness",
          "assertiveness",
          "activity_level",
          "excitement_seeking",
          "cheerfulness",
          "agreeableness",
          "trust",
          "morality",
          "altruism",
          "cooperation",
          "modesty",
          "sympathy",
          "neuroticism",
          "anxiety",
          "anger",
          "depression",
          "self_consciousness",
          "immoderation",
          "vulnerability"
         ],
         "xaxis": "x",
         "y": [
          98.65369737987419,
          98.67378455465882,
          98.59748461434339,
          98.69721115911383,
          98.58784722303933,
          98.71193054742815,
          98.65392618066167,
          93.78663239901903,
          96.66456485018509,
          93.47988690678427,
          82.62278484915016,
          96.82961125319089,
          96.31261845645294,
          96.81032807835088,
          96.84036962617206,
          97.14750215299503,
          97.10047007656331,
          96.79097475443913,
          96.5071423289095,
          96.7764618730572,
          96.71966657106833,
          95.92162227239005,
          95.83056617770414,
          95.69514055137283,
          96.21022670303702,
          95.78286121658789,
          95.82610216697599,
          96.1848368186624,
          92.16644834667638,
          96.34055767792816,
          84.04446178823994,
          96.27259788593501,
          96.63510327315302,
          95.73204012863759,
          83.97392932616457
         ],
         "yaxis": "y"
        }
       ],
       "layout": {
        "barmode": "relative",
        "legend": {
         "tracegroupgap": 0
        },
        "template": {
         "data": {
          "bar": [
           {
            "error_x": {
             "color": "#2a3f5f"
            },
            "error_y": {
             "color": "#2a3f5f"
            },
            "marker": {
             "line": {
              "color": "#E5ECF6",
              "width": 0.5
             },
             "pattern": {
              "fillmode": "overlay",
              "size": 10,
              "solidity": 0.2
             }
            },
            "type": "bar"
           }
          ],
          "barpolar": [
           {
            "marker": {
             "line": {
              "color": "#E5ECF6",
              "width": 0.5
             },
             "pattern": {
              "fillmode": "overlay",
              "size": 10,
              "solidity": 0.2
             }
            },
            "type": "barpolar"
           }
          ],
          "carpet": [
           {
            "aaxis": {
             "endlinecolor": "#2a3f5f",
             "gridcolor": "white",
             "linecolor": "white",
             "minorgridcolor": "white",
             "startlinecolor": "#2a3f5f"
            },
            "baxis": {
             "endlinecolor": "#2a3f5f",
             "gridcolor": "white",
             "linecolor": "white",
             "minorgridcolor": "white",
             "startlinecolor": "#2a3f5f"
            },
            "type": "carpet"
           }
          ],
          "choropleth": [
           {
            "colorbar": {
             "outlinewidth": 0,
             "ticks": ""
            },
            "type": "choropleth"
           }
          ],
          "contour": [
           {
            "colorbar": {
             "outlinewidth": 0,
             "ticks": ""
            },
            "colorscale": [
             [
              0,
              "#0d0887"
             ],
             [
              0.1111111111111111,
              "#46039f"
             ],
             [
              0.2222222222222222,
              "#7201a8"
             ],
             [
              0.3333333333333333,
              "#9c179e"
             ],
             [
              0.4444444444444444,
              "#bd3786"
             ],
             [
              0.5555555555555556,
              "#d8576b"
             ],
             [
              0.6666666666666666,
              "#ed7953"
             ],
             [
              0.7777777777777778,
              "#fb9f3a"
             ],
             [
              0.8888888888888888,
              "#fdca26"
             ],
             [
              1,
              "#f0f921"
             ]
            ],
            "type": "contour"
           }
          ],
          "contourcarpet": [
           {
            "colorbar": {
             "outlinewidth": 0,
             "ticks": ""
            },
            "type": "contourcarpet"
           }
          ],
          "heatmap": [
           {
            "colorbar": {
             "outlinewidth": 0,
             "ticks": ""
            },
            "colorscale": [
             [
              0,
              "#0d0887"
             ],
             [
              0.1111111111111111,
              "#46039f"
             ],
             [
              0.2222222222222222,
              "#7201a8"
             ],
             [
              0.3333333333333333,
              "#9c179e"
             ],
             [
              0.4444444444444444,
              "#bd3786"
             ],
             [
              0.5555555555555556,
              "#d8576b"
             ],
             [
              0.6666666666666666,
              "#ed7953"
             ],
             [
              0.7777777777777778,
              "#fb9f3a"
             ],
             [
              0.8888888888888888,
              "#fdca26"
             ],
             [
              1,
              "#f0f921"
             ]
            ],
            "type": "heatmap"
           }
          ],
          "heatmapgl": [
           {
            "colorbar": {
             "outlinewidth": 0,
             "ticks": ""
            },
            "colorscale": [
             [
              0,
              "#0d0887"
             ],
             [
              0.1111111111111111,
              "#46039f"
             ],
             [
              0.2222222222222222,
              "#7201a8"
             ],
             [
              0.3333333333333333,
              "#9c179e"
             ],
             [
              0.4444444444444444,
              "#bd3786"
             ],
             [
              0.5555555555555556,
              "#d8576b"
             ],
             [
              0.6666666666666666,
              "#ed7953"
             ],
             [
              0.7777777777777778,
              "#fb9f3a"
             ],
             [
              0.8888888888888888,
              "#fdca26"
             ],
             [
              1,
              "#f0f921"
             ]
            ],
            "type": "heatmapgl"
           }
          ],
          "histogram": [
           {
            "marker": {
             "pattern": {
              "fillmode": "overlay",
              "size": 10,
              "solidity": 0.2
             }
            },
            "type": "histogram"
           }
          ],
          "histogram2d": [
           {
            "colorbar": {
             "outlinewidth": 0,
             "ticks": ""
            },
            "colorscale": [
             [
              0,
              "#0d0887"
             ],
             [
              0.1111111111111111,
              "#46039f"
             ],
             [
              0.2222222222222222,
              "#7201a8"
             ],
             [
              0.3333333333333333,
              "#9c179e"
             ],
             [
              0.4444444444444444,
              "#bd3786"
             ],
             [
              0.5555555555555556,
              "#d8576b"
             ],
             [
              0.6666666666666666,
              "#ed7953"
             ],
             [
              0.7777777777777778,
              "#fb9f3a"
             ],
             [
              0.8888888888888888,
              "#fdca26"
             ],
             [
              1,
              "#f0f921"
             ]
            ],
            "type": "histogram2d"
           }
          ],
          "histogram2dcontour": [
           {
            "colorbar": {
             "outlinewidth": 0,
             "ticks": ""
            },
            "colorscale": [
             [
              0,
              "#0d0887"
             ],
             [
              0.1111111111111111,
              "#46039f"
             ],
             [
              0.2222222222222222,
              "#7201a8"
             ],
             [
              0.3333333333333333,
              "#9c179e"
             ],
             [
              0.4444444444444444,
              "#bd3786"
             ],
             [
              0.5555555555555556,
              "#d8576b"
             ],
             [
              0.6666666666666666,
              "#ed7953"
             ],
             [
              0.7777777777777778,
              "#fb9f3a"
             ],
             [
              0.8888888888888888,
              "#fdca26"
             ],
             [
              1,
              "#f0f921"
             ]
            ],
            "type": "histogram2dcontour"
           }
          ],
          "mesh3d": [
           {
            "colorbar": {
             "outlinewidth": 0,
             "ticks": ""
            },
            "type": "mesh3d"
           }
          ],
          "parcoords": [
           {
            "line": {
             "colorbar": {
              "outlinewidth": 0,
              "ticks": ""
             }
            },
            "type": "parcoords"
           }
          ],
          "pie": [
           {
            "automargin": true,
            "type": "pie"
           }
          ],
          "scatter": [
           {
            "fillpattern": {
             "fillmode": "overlay",
             "size": 10,
             "solidity": 0.2
            },
            "type": "scatter"
           }
          ],
          "scatter3d": [
           {
            "line": {
             "colorbar": {
              "outlinewidth": 0,
              "ticks": ""
             }
            },
            "marker": {
             "colorbar": {
              "outlinewidth": 0,
              "ticks": ""
             }
            },
            "type": "scatter3d"
           }
          ],
          "scattercarpet": [
           {
            "marker": {
             "colorbar": {
              "outlinewidth": 0,
              "ticks": ""
             }
            },
            "type": "scattercarpet"
           }
          ],
          "scattergeo": [
           {
            "marker": {
             "colorbar": {
              "outlinewidth": 0,
              "ticks": ""
             }
            },
            "type": "scattergeo"
           }
          ],
          "scattergl": [
           {
            "marker": {
             "colorbar": {
              "outlinewidth": 0,
              "ticks": ""
             }
            },
            "type": "scattergl"
           }
          ],
          "scattermapbox": [
           {
            "marker": {
             "colorbar": {
              "outlinewidth": 0,
              "ticks": ""
             }
            },
            "type": "scattermapbox"
           }
          ],
          "scatterpolar": [
           {
            "marker": {
             "colorbar": {
              "outlinewidth": 0,
              "ticks": ""
             }
            },
            "type": "scatterpolar"
           }
          ],
          "scatterpolargl": [
           {
            "marker": {
             "colorbar": {
              "outlinewidth": 0,
              "ticks": ""
             }
            },
            "type": "scatterpolargl"
           }
          ],
          "scatterternary": [
           {
            "marker": {
             "colorbar": {
              "outlinewidth": 0,
              "ticks": ""
             }
            },
            "type": "scatterternary"
           }
          ],
          "surface": [
           {
            "colorbar": {
             "outlinewidth": 0,
             "ticks": ""
            },
            "colorscale": [
             [
              0,
              "#0d0887"
             ],
             [
              0.1111111111111111,
              "#46039f"
             ],
             [
              0.2222222222222222,
              "#7201a8"
             ],
             [
              0.3333333333333333,
              "#9c179e"
             ],
             [
              0.4444444444444444,
              "#bd3786"
             ],
             [
              0.5555555555555556,
              "#d8576b"
             ],
             [
              0.6666666666666666,
              "#ed7953"
             ],
             [
              0.7777777777777778,
              "#fb9f3a"
             ],
             [
              0.8888888888888888,
              "#fdca26"
             ],
             [
              1,
              "#f0f921"
             ]
            ],
            "type": "surface"
           }
          ],
          "table": [
           {
            "cells": {
             "fill": {
              "color": "#EBF0F8"
             },
             "line": {
              "color": "white"
             }
            },
            "header": {
             "fill": {
              "color": "#C8D4E3"
             },
             "line": {
              "color": "white"
             }
            },
            "type": "table"
           }
          ]
         },
         "layout": {
          "annotationdefaults": {
           "arrowcolor": "#2a3f5f",
           "arrowhead": 0,
           "arrowwidth": 1
          },
          "autotypenumbers": "strict",
          "coloraxis": {
           "colorbar": {
            "outlinewidth": 0,
            "ticks": ""
           }
          },
          "colorscale": {
           "diverging": [
            [
             0,
             "#8e0152"
            ],
            [
             0.1,
             "#c51b7d"
            ],
            [
             0.2,
             "#de77ae"
            ],
            [
             0.3,
             "#f1b6da"
            ],
            [
             0.4,
             "#fde0ef"
            ],
            [
             0.5,
             "#f7f7f7"
            ],
            [
             0.6,
             "#e6f5d0"
            ],
            [
             0.7,
             "#b8e186"
            ],
            [
             0.8,
             "#7fbc41"
            ],
            [
             0.9,
             "#4d9221"
            ],
            [
             1,
             "#276419"
            ]
           ],
           "sequential": [
            [
             0,
             "#0d0887"
            ],
            [
             0.1111111111111111,
             "#46039f"
            ],
            [
             0.2222222222222222,
             "#7201a8"
            ],
            [
             0.3333333333333333,
             "#9c179e"
            ],
            [
             0.4444444444444444,
             "#bd3786"
            ],
            [
             0.5555555555555556,
             "#d8576b"
            ],
            [
             0.6666666666666666,
             "#ed7953"
            ],
            [
             0.7777777777777778,
             "#fb9f3a"
            ],
            [
             0.8888888888888888,
             "#fdca26"
            ],
            [
             1,
             "#f0f921"
            ]
           ],
           "sequentialminus": [
            [
             0,
             "#0d0887"
            ],
            [
             0.1111111111111111,
             "#46039f"
            ],
            [
             0.2222222222222222,
             "#7201a8"
            ],
            [
             0.3333333333333333,
             "#9c179e"
            ],
            [
             0.4444444444444444,
             "#bd3786"
            ],
            [
             0.5555555555555556,
             "#d8576b"
            ],
            [
             0.6666666666666666,
             "#ed7953"
            ],
            [
             0.7777777777777778,
             "#fb9f3a"
            ],
            [
             0.8888888888888888,
             "#fdca26"
            ],
            [
             1,
             "#f0f921"
            ]
           ]
          },
          "colorway": [
           "#636efa",
           "#EF553B",
           "#00cc96",
           "#ab63fa",
           "#FFA15A",
           "#19d3f3",
           "#FF6692",
           "#B6E880",
           "#FF97FF",
           "#FECB52"
          ],
          "font": {
           "color": "#2a3f5f"
          },
          "geo": {
           "bgcolor": "white",
           "lakecolor": "white",
           "landcolor": "#E5ECF6",
           "showlakes": true,
           "showland": true,
           "subunitcolor": "white"
          },
          "hoverlabel": {
           "align": "left"
          },
          "hovermode": "closest",
          "mapbox": {
           "style": "light"
          },
          "paper_bgcolor": "white",
          "plot_bgcolor": "#E5ECF6",
          "polar": {
           "angularaxis": {
            "gridcolor": "white",
            "linecolor": "white",
            "ticks": ""
           },
           "bgcolor": "#E5ECF6",
           "radialaxis": {
            "gridcolor": "white",
            "linecolor": "white",
            "ticks": ""
           }
          },
          "scene": {
           "xaxis": {
            "backgroundcolor": "#E5ECF6",
            "gridcolor": "white",
            "gridwidth": 2,
            "linecolor": "white",
            "showbackground": true,
            "ticks": "",
            "zerolinecolor": "white"
           },
           "yaxis": {
            "backgroundcolor": "#E5ECF6",
            "gridcolor": "white",
            "gridwidth": 2,
            "linecolor": "white",
            "showbackground": true,
            "ticks": "",
            "zerolinecolor": "white"
           },
           "zaxis": {
            "backgroundcolor": "#E5ECF6",
            "gridcolor": "white",
            "gridwidth": 2,
            "linecolor": "white",
            "showbackground": true,
            "ticks": "",
            "zerolinecolor": "white"
           }
          },
          "shapedefaults": {
           "line": {
            "color": "#2a3f5f"
           }
          },
          "ternary": {
           "aaxis": {
            "gridcolor": "white",
            "linecolor": "white",
            "ticks": ""
           },
           "baxis": {
            "gridcolor": "white",
            "linecolor": "white",
            "ticks": ""
           },
           "bgcolor": "#E5ECF6",
           "caxis": {
            "gridcolor": "white",
            "linecolor": "white",
            "ticks": ""
           }
          },
          "title": {
           "x": 0.05
          },
          "xaxis": {
           "automargin": true,
           "gridcolor": "white",
           "linecolor": "white",
           "ticks": "",
           "title": {
            "standoff": 15
           },
           "zerolinecolor": "white",
           "zerolinewidth": 2
          },
          "yaxis": {
           "automargin": true,
           "gridcolor": "white",
           "linecolor": "white",
           "ticks": "",
           "title": {
            "standoff": 15
           },
           "zerolinecolor": "white",
           "zerolinewidth": 2
          }
         }
        },
        "title": {
         "text": "Confidence Profile"
        },
        "xaxis": {
         "anchor": "y",
         "domain": [
          0,
          1
         ],
         "title": {
          "text": "Traits"
         }
        },
        "yaxis": {
         "anchor": "x",
         "domain": [
          0,
          1
         ],
         "title": {
          "text": "Confidence"
         }
        }
       }
      },
      "image/png": "[encoded data removed]"
     },
     "metadata": {},
     "output_type": "display_data"
    }
   ],
   "source": [
    "individual_profile = df.loc[0]\n",
    "individual_profile_df = individual_profile.reset_index()\n",
    "individual_profile_df.columns = [\"Trait\", \"Confidence\"]\n",
    "\n",
    "fig = px.bar(\n",
    "    individual_profile_df,\n",
    "    x=\"Trait\",\n",
    "    y=\"Confidence\",\n",
    "    title=\"Confidence Profile\",\n",
    "    labels={\"Trait\": \"Traits\", \"Confidence\": \"Confidence\"},\n",
    "    color_discrete_sequence=[\"orange\"],\n",
    ")\n",
    "\n",
    "fig.show()"
   ]
  },
  {
   "cell_type": "markdown",
   "id": "ec1b7500",
   "metadata": {},
   "source": [
    "### Trait Average "
   ]
  },
  {
   "cell_type": "code",
   "execution_count": 4,
   "id": "91266cb6",
   "metadata": {},
   "outputs": [
    {
     "data": {
      "text/plain": [
       "openness                98.421175\n",
       "imagination             98.436090\n",
       "artistic_interests      98.358375\n",
       "emotionality            98.487624\n",
       "adventurousness         98.331304\n",
       "intellect               98.458102\n",
       "liberalism              98.455556\n",
       "conscientiousness       95.983748\n",
       "self_efficacy           97.355165\n",
       "orderliness             95.344595\n",
       "dutifulness             91.132118\n",
       "achievement_striving    97.443105\n",
       "self_discipline         97.260570\n",
       "cautiousness            97.366932\n",
       "extraversion            97.343939\n",
       "friendliness            97.539670\n",
       "gregariousness          97.605685\n",
       "assertiveness           97.239005\n",
       "activity_level          97.055173\n",
       "excitement_seeking      97.376910\n",
       "cheerfulness            97.247193\n",
       "agreeableness           96.235994\n",
       "trust                   96.309773\n",
       "morality                95.867731\n",
       "altruism                96.419750\n",
       "cooperation             96.095152\n",
       "modesty                 96.188476\n",
       "sympathy                96.535085\n",
       "neuroticism             94.290441\n",
       "anxiety                 95.777753\n",
       "anger                   91.477806\n",
       "depression              95.650580\n",
       "self_consciousness      96.118317\n",
       "immoderation            94.278780\n",
       "vulnerability           92.439410\n",
       "dtype: float64"
      ]
     },
     "execution_count": 4,
     "metadata": {},
     "output_type": "execute_result"
    }
   ],
   "source": [
    "df.mean()"
   ]
  },
  {
   "cell_type": "markdown",
   "id": "a60a89bb",
   "metadata": {},
   "source": [
    " ### Standard Deviation"
   ]
  },
  {
   "cell_type": "code",
   "execution_count": 5,
   "id": "7f520bd2",
   "metadata": {},
   "outputs": [
    {
     "data": {
      "text/plain": [
       "openness                0.226933\n",
       "imagination             0.208268\n",
       "artistic_interests      0.238890\n",
       "emotionality            0.214625\n",
       "adventurousness         0.257452\n",
       "intellect               0.223843\n",
       "liberalism              0.228362\n",
       "conscientiousness       2.025610\n",
       "self_efficacy           0.595769\n",
       "orderliness             3.748455\n",
       "dutifulness             7.084852\n",
       "achievement_striving    0.568733\n",
       "self_discipline         0.718930\n",
       "cautiousness            0.591717\n",
       "extraversion            0.417649\n",
       "friendliness            0.391021\n",
       "gregariousness          0.385863\n",
       "assertiveness           0.409389\n",
       "activity_level          0.493844\n",
       "excitement_seeking      0.448117\n",
       "cheerfulness            0.411034\n",
       "agreeableness           0.872309\n",
       "trust                   0.881254\n",
       "morality                1.112922\n",
       "altruism                0.823832\n",
       "cooperation             0.876773\n",
       "modesty                 0.927900\n",
       "sympathy                0.670534\n",
       "neuroticism             3.872677\n",
       "anxiety                 2.692542\n",
       "anger                   6.154765\n",
       "depression              2.997828\n",
       "self_consciousness      2.566568\n",
       "immoderation            5.594031\n",
       "vulnerability           6.580493\n",
       "dtype: float64"
      ]
     },
     "execution_count": 5,
     "metadata": {},
     "output_type": "execute_result"
    }
   ],
   "source": [
    "df.std()"
   ]
  },
  {
   "cell_type": "markdown",
   "id": "637d84f1",
   "metadata": {},
   "source": [
    "### Ranges"
   ]
  },
  {
   "cell_type": "code",
   "execution_count": 6,
   "id": "a424532e",
   "metadata": {},
   "outputs": [
    {
     "data": {
      "text/html": [
       "<div>\n",
       "<style scoped>\n",
       "    .dataframe tbody tr th:only-of-type {\n",
       "        vertical-align: middle;\n",
       "    }\n",
       "\n",
       "    .dataframe tbody tr th {\n",
       "        vertical-align: top;\n",
       "    }\n",
       "\n",
       "    .dataframe thead th {\n",
       "        text-align: right;\n",
       "    }\n",
       "</style>\n",
       "<table border=\"1\" class=\"dataframe\">\n",
       "  <thead>\n",
       "    <tr style=\"text-align: right;\">\n",
       "      <th></th>\n",
       "      <th>openness</th>\n",
       "      <th>imagination</th>\n",
       "      <th>artistic_interests</th>\n",
       "      <th>emotionality</th>\n",
       "      <th>adventurousness</th>\n",
       "      <th>...</th>\n",
       "      <th>anger</th>\n",
       "      <th>depression</th>\n",
       "      <th>self_consciousness</th>\n",
       "      <th>immoderation</th>\n",
       "      <th>vulnerability</th>\n",
       "    </tr>\n",
       "  </thead>\n",
       "  <tbody>\n",
       "    <tr>\n",
       "      <th>min</th>\n",
       "      <td>97.879749</td>\n",
       "      <td>97.947995</td>\n",
       "      <td>97.785630</td>\n",
       "      <td>97.991991</td>\n",
       "      <td>97.636300</td>\n",
       "      <td>...</td>\n",
       "      <td>81.471548</td>\n",
       "      <td>80.934772</td>\n",
       "      <td>82.574597</td>\n",
       "      <td>71.759203</td>\n",
       "      <td>73.878037</td>\n",
       "    </tr>\n",
       "    <tr>\n",
       "      <th>max</th>\n",
       "      <td>98.872123</td>\n",
       "      <td>98.842275</td>\n",
       "      <td>98.849618</td>\n",
       "      <td>98.896184</td>\n",
       "      <td>98.852075</td>\n",
       "      <td>...</td>\n",
       "      <td>97.916093</td>\n",
       "      <td>98.070079</td>\n",
       "      <td>98.142550</td>\n",
       "      <td>97.950787</td>\n",
       "      <td>98.079054</td>\n",
       "    </tr>\n",
       "    <tr>\n",
       "      <th>median</th>\n",
       "      <td>98.440994</td>\n",
       "      <td>98.477165</td>\n",
       "      <td>98.377252</td>\n",
       "      <td>98.520188</td>\n",
       "      <td>98.367463</td>\n",
       "      <td>...</td>\n",
       "      <td>95.285144</td>\n",
       "      <td>96.296428</td>\n",
       "      <td>96.674314</td>\n",
       "      <td>96.004015</td>\n",
       "      <td>96.357910</td>\n",
       "    </tr>\n",
       "  </tbody>\n",
       "</table>\n",
       "<p>3 rows × 35 columns</p>\n",
       "</div>"
      ],
      "text/plain": [
       "         openness  imagination  artistic_interests  emotionality  \\\n",
       "min     97.879749    97.947995           97.785630     97.991991   \n",
       "max     98.872123    98.842275           98.849618     98.896184   \n",
       "median  98.440994    98.477165           98.377252     98.520188   \n",
       "\n",
       "        adventurousness  ...      anger  depression  self_consciousness  \\\n",
       "min           97.636300  ...  81.471548   80.934772           82.574597   \n",
       "max           98.852075  ...  97.916093   98.070079           98.142550   \n",
       "median        98.367463  ...  95.285144   96.296428           96.674314   \n",
       "\n",
       "        immoderation  vulnerability  \n",
       "min        71.759203      73.878037  \n",
       "max        97.950787      98.079054  \n",
       "median     96.004015      96.357910  \n",
       "\n",
       "[3 rows x 35 columns]"
      ]
     },
     "execution_count": 6,
     "metadata": {},
     "output_type": "execute_result"
    }
   ],
   "source": [
    "df.agg([\"min\", \"max\", \"median\"])"
   ]
  },
  {
   "cell_type": "markdown",
   "id": "23b48593",
   "metadata": {},
   "source": [
    "### Outliers"
   ]
  },
  {
   "cell_type": "code",
   "execution_count": 7,
   "id": "d142124d",
   "metadata": {},
   "outputs": [
    {
     "data": {
      "text/html": [
       "<div>\n",
       "<style scoped>\n",
       "    .dataframe tbody tr th:only-of-type {\n",
       "        vertical-align: middle;\n",
       "    }\n",
       "\n",
       "    .dataframe tbody tr th {\n",
       "        vertical-align: top;\n",
       "    }\n",
       "\n",
       "    .dataframe thead th {\n",
       "        text-align: right;\n",
       "    }\n",
       "</style>\n",
       "<table border=\"1\" class=\"dataframe\">\n",
       "  <thead>\n",
       "    <tr style=\"text-align: right;\">\n",
       "      <th></th>\n",
       "      <th>conscientiousness</th>\n",
       "      <th>orderliness</th>\n",
       "      <th>dutifulness</th>\n",
       "      <th>neuroticism</th>\n",
       "      <th>anxiety</th>\n",
       "      <th>anger</th>\n",
       "      <th>depression</th>\n",
       "      <th>self_consciousness</th>\n",
       "      <th>immoderation</th>\n",
       "      <th>vulnerability</th>\n",
       "    </tr>\n",
       "  </thead>\n",
       "  <tbody>\n",
       "    <tr>\n",
       "      <th>0</th>\n",
       "      <td>NaN</td>\n",
       "      <td>NaN</td>\n",
       "      <td>82.622785</td>\n",
       "      <td>NaN</td>\n",
       "      <td>NaN</td>\n",
       "      <td>84.044462</td>\n",
       "      <td>NaN</td>\n",
       "      <td>NaN</td>\n",
       "      <td>NaN</td>\n",
       "      <td>83.973929</td>\n",
       "    </tr>\n",
       "    <tr>\n",
       "      <th>1</th>\n",
       "      <td>NaN</td>\n",
       "      <td>NaN</td>\n",
       "      <td>88.620105</td>\n",
       "      <td>NaN</td>\n",
       "      <td>NaN</td>\n",
       "      <td>NaN</td>\n",
       "      <td>NaN</td>\n",
       "      <td>NaN</td>\n",
       "      <td>NaN</td>\n",
       "      <td>NaN</td>\n",
       "    </tr>\n",
       "    <tr>\n",
       "      <th>2</th>\n",
       "      <td>NaN</td>\n",
       "      <td>NaN</td>\n",
       "      <td>NaN</td>\n",
       "      <td>NaN</td>\n",
       "      <td>NaN</td>\n",
       "      <td>83.643998</td>\n",
       "      <td>NaN</td>\n",
       "      <td>NaN</td>\n",
       "      <td>NaN</td>\n",
       "      <td>83.642250</td>\n",
       "    </tr>\n",
       "    <tr>\n",
       "      <th>3</th>\n",
       "      <td>NaN</td>\n",
       "      <td>NaN</td>\n",
       "      <td>NaN</td>\n",
       "      <td>NaN</td>\n",
       "      <td>NaN</td>\n",
       "      <td>83.873717</td>\n",
       "      <td>NaN</td>\n",
       "      <td>NaN</td>\n",
       "      <td>NaN</td>\n",
       "      <td>88.393212</td>\n",
       "    </tr>\n",
       "    <tr>\n",
       "      <th>4</th>\n",
       "      <td>NaN</td>\n",
       "      <td>NaN</td>\n",
       "      <td>NaN</td>\n",
       "      <td>NaN</td>\n",
       "      <td>NaN</td>\n",
       "      <td>NaN</td>\n",
       "      <td>NaN</td>\n",
       "      <td>NaN</td>\n",
       "      <td>NaN</td>\n",
       "      <td>NaN</td>\n",
       "    </tr>\n",
       "    <tr>\n",
       "      <th>...</th>\n",
       "      <td>...</td>\n",
       "      <td>...</td>\n",
       "      <td>...</td>\n",
       "      <td>...</td>\n",
       "      <td>...</td>\n",
       "      <td>...</td>\n",
       "      <td>...</td>\n",
       "      <td>...</td>\n",
       "      <td>...</td>\n",
       "      <td>...</td>\n",
       "    </tr>\n",
       "    <tr>\n",
       "      <th>95</th>\n",
       "      <td>NaN</td>\n",
       "      <td>NaN</td>\n",
       "      <td>NaN</td>\n",
       "      <td>87.84473</td>\n",
       "      <td>NaN</td>\n",
       "      <td>83.295177</td>\n",
       "      <td>NaN</td>\n",
       "      <td>NaN</td>\n",
       "      <td>81.719806</td>\n",
       "      <td>82.994574</td>\n",
       "    </tr>\n",
       "    <tr>\n",
       "      <th>96</th>\n",
       "      <td>NaN</td>\n",
       "      <td>82.49394</td>\n",
       "      <td>80.461310</td>\n",
       "      <td>NaN</td>\n",
       "      <td>NaN</td>\n",
       "      <td>83.968411</td>\n",
       "      <td>NaN</td>\n",
       "      <td>NaN</td>\n",
       "      <td>NaN</td>\n",
       "      <td>83.607766</td>\n",
       "    </tr>\n",
       "    <tr>\n",
       "      <th>97</th>\n",
       "      <td>NaN</td>\n",
       "      <td>NaN</td>\n",
       "      <td>NaN</td>\n",
       "      <td>NaN</td>\n",
       "      <td>NaN</td>\n",
       "      <td>NaN</td>\n",
       "      <td>NaN</td>\n",
       "      <td>NaN</td>\n",
       "      <td>NaN</td>\n",
       "      <td>NaN</td>\n",
       "    </tr>\n",
       "    <tr>\n",
       "      <th>98</th>\n",
       "      <td>NaN</td>\n",
       "      <td>NaN</td>\n",
       "      <td>NaN</td>\n",
       "      <td>NaN</td>\n",
       "      <td>NaN</td>\n",
       "      <td>NaN</td>\n",
       "      <td>NaN</td>\n",
       "      <td>NaN</td>\n",
       "      <td>NaN</td>\n",
       "      <td>NaN</td>\n",
       "    </tr>\n",
       "    <tr>\n",
       "      <th>99</th>\n",
       "      <td>NaN</td>\n",
       "      <td>NaN</td>\n",
       "      <td>83.552375</td>\n",
       "      <td>NaN</td>\n",
       "      <td>NaN</td>\n",
       "      <td>NaN</td>\n",
       "      <td>NaN</td>\n",
       "      <td>NaN</td>\n",
       "      <td>NaN</td>\n",
       "      <td>NaN</td>\n",
       "    </tr>\n",
       "  </tbody>\n",
       "</table>\n",
       "<p>100 rows × 10 columns</p>\n",
       "</div>"
      ],
      "text/plain": [
       "    conscientiousness  orderliness  dutifulness  neuroticism  anxiety  \\\n",
       "0                 NaN          NaN    82.622785          NaN      NaN   \n",
       "1                 NaN          NaN    88.620105          NaN      NaN   \n",
       "2                 NaN          NaN          NaN          NaN      NaN   \n",
       "3                 NaN          NaN          NaN          NaN      NaN   \n",
       "4                 NaN          NaN          NaN          NaN      NaN   \n",
       "..                ...          ...          ...          ...      ...   \n",
       "95                NaN          NaN          NaN     87.84473      NaN   \n",
       "96                NaN     82.49394    80.461310          NaN      NaN   \n",
       "97                NaN          NaN          NaN          NaN      NaN   \n",
       "98                NaN          NaN          NaN          NaN      NaN   \n",
       "99                NaN          NaN    83.552375          NaN      NaN   \n",
       "\n",
       "        anger  depression  self_consciousness  immoderation  vulnerability  \n",
       "0   84.044462         NaN                 NaN           NaN      83.973929  \n",
       "1         NaN         NaN                 NaN           NaN            NaN  \n",
       "2   83.643998         NaN                 NaN           NaN      83.642250  \n",
       "3   83.873717         NaN                 NaN           NaN      88.393212  \n",
       "4         NaN         NaN                 NaN           NaN            NaN  \n",
       "..        ...         ...                 ...           ...            ...  \n",
       "95  83.295177         NaN                 NaN     81.719806      82.994574  \n",
       "96  83.968411         NaN                 NaN           NaN      83.607766  \n",
       "97        NaN         NaN                 NaN           NaN            NaN  \n",
       "98        NaN         NaN                 NaN           NaN            NaN  \n",
       "99        NaN         NaN                 NaN           NaN            NaN  \n",
       "\n",
       "[100 rows x 10 columns]"
      ]
     },
     "execution_count": 7,
     "metadata": {},
     "output_type": "execute_result"
    }
   ],
   "source": [
    "df[df < 90].dropna(how='all', axis=1)"
   ]
  },
  {
   "cell_type": "markdown",
   "id": "54f670bf",
   "metadata": {},
   "source": [
    "### Correlation Matrix"
   ]
  },
  {
   "cell_type": "code",
   "execution_count": 8,
   "id": "2f089b03",
   "metadata": {},
   "outputs": [
    {
     "data": {
      "text/html": [
       "<div>\n",
       "<style scoped>\n",
       "    .dataframe tbody tr th:only-of-type {\n",
       "        vertical-align: middle;\n",
       "    }\n",
       "\n",
       "    .dataframe tbody tr th {\n",
       "        vertical-align: top;\n",
       "    }\n",
       "\n",
       "    .dataframe thead th {\n",
       "        text-align: right;\n",
       "    }\n",
       "</style>\n",
       "<table border=\"1\" class=\"dataframe\">\n",
       "  <thead>\n",
       "    <tr style=\"text-align: right;\">\n",
       "      <th></th>\n",
       "      <th>openness</th>\n",
       "      <th>imagination</th>\n",
       "      <th>artistic_interests</th>\n",
       "      <th>emotionality</th>\n",
       "      <th>adventurousness</th>\n",
       "      <th>...</th>\n",
       "      <th>anger</th>\n",
       "      <th>depression</th>\n",
       "      <th>self_consciousness</th>\n",
       "      <th>immoderation</th>\n",
       "      <th>vulnerability</th>\n",
       "    </tr>\n",
       "  </thead>\n",
       "  <tbody>\n",
       "    <tr>\n",
       "      <th>openness</th>\n",
       "      <td>1.000000</td>\n",
       "      <td>0.994221</td>\n",
       "      <td>0.991124</td>\n",
       "      <td>0.995111</td>\n",
       "      <td>0.994899</td>\n",
       "      <td>...</td>\n",
       "      <td>0.042829</td>\n",
       "      <td>0.025541</td>\n",
       "      <td>0.082149</td>\n",
       "      <td>0.150447</td>\n",
       "      <td>0.061415</td>\n",
       "    </tr>\n",
       "    <tr>\n",
       "      <th>imagination</th>\n",
       "      <td>0.994221</td>\n",
       "      <td>1.000000</td>\n",
       "      <td>0.976200</td>\n",
       "      <td>0.986520</td>\n",
       "      <td>0.984973</td>\n",
       "      <td>...</td>\n",
       "      <td>0.070716</td>\n",
       "      <td>0.054426</td>\n",
       "      <td>0.111451</td>\n",
       "      <td>0.176177</td>\n",
       "      <td>0.085121</td>\n",
       "    </tr>\n",
       "    <tr>\n",
       "      <th>artistic_interests</th>\n",
       "      <td>0.991124</td>\n",
       "      <td>0.976200</td>\n",
       "      <td>1.000000</td>\n",
       "      <td>0.989110</td>\n",
       "      <td>0.986060</td>\n",
       "      <td>...</td>\n",
       "      <td>0.014261</td>\n",
       "      <td>-0.005892</td>\n",
       "      <td>0.044610</td>\n",
       "      <td>0.121833</td>\n",
       "      <td>0.027660</td>\n",
       "    </tr>\n",
       "    <tr>\n",
       "      <th>emotionality</th>\n",
       "      <td>0.995111</td>\n",
       "      <td>0.986520</td>\n",
       "      <td>0.989110</td>\n",
       "      <td>1.000000</td>\n",
       "      <td>0.985947</td>\n",
       "      <td>...</td>\n",
       "      <td>0.027752</td>\n",
       "      <td>0.011129</td>\n",
       "      <td>0.068736</td>\n",
       "      <td>0.135550</td>\n",
       "      <td>0.049738</td>\n",
       "    </tr>\n",
       "    <tr>\n",
       "      <th>adventurousness</th>\n",
       "      <td>0.994899</td>\n",
       "      <td>0.984973</td>\n",
       "      <td>0.986060</td>\n",
       "      <td>0.985947</td>\n",
       "      <td>1.000000</td>\n",
       "      <td>...</td>\n",
       "      <td>0.049447</td>\n",
       "      <td>0.020423</td>\n",
       "      <td>0.080962</td>\n",
       "      <td>0.150393</td>\n",
       "      <td>0.068359</td>\n",
       "    </tr>\n",
       "    <tr>\n",
       "      <th>intellect</th>\n",
       "      <td>0.989755</td>\n",
       "      <td>0.988364</td>\n",
       "      <td>0.972884</td>\n",
       "      <td>0.986457</td>\n",
       "      <td>0.978509</td>\n",
       "      <td>...</td>\n",
       "      <td>0.051113</td>\n",
       "      <td>0.050131</td>\n",
       "      <td>0.104109</td>\n",
       "      <td>0.172219</td>\n",
       "      <td>0.073269</td>\n",
       "    </tr>\n",
       "    <tr>\n",
       "      <th>liberalism</th>\n",
       "      <td>0.991839</td>\n",
       "      <td>0.988348</td>\n",
       "      <td>0.978208</td>\n",
       "      <td>0.980549</td>\n",
       "      <td>0.989038</td>\n",
       "      <td>...</td>\n",
       "      <td>0.044025</td>\n",
       "      <td>0.026190</td>\n",
       "      <td>0.083573</td>\n",
       "      <td>0.143153</td>\n",
       "      <td>0.063986</td>\n",
       "    </tr>\n",
       "    <tr>\n",
       "      <th>conscientiousness</th>\n",
       "      <td>-0.048448</td>\n",
       "      <td>-0.044148</td>\n",
       "      <td>-0.059095</td>\n",
       "      <td>-0.050854</td>\n",
       "      <td>-0.035624</td>\n",
       "      <td>...</td>\n",
       "      <td>-0.069356</td>\n",
       "      <td>-0.112839</td>\n",
       "      <td>-0.093839</td>\n",
       "      <td>-0.145198</td>\n",
       "      <td>-0.093623</td>\n",
       "    </tr>\n",
       "    <tr>\n",
       "      <th>self_efficacy</th>\n",
       "      <td>-0.187753</td>\n",
       "      <td>-0.182245</td>\n",
       "      <td>-0.188382</td>\n",
       "      <td>-0.189568</td>\n",
       "      <td>-0.173344</td>\n",
       "      <td>...</td>\n",
       "      <td>-0.074470</td>\n",
       "      <td>-0.094346</td>\n",
       "      <td>-0.104092</td>\n",
       "      <td>-0.138873</td>\n",
       "      <td>-0.106089</td>\n",
       "    </tr>\n",
       "    <tr>\n",
       "      <th>orderliness</th>\n",
       "      <td>-0.080908</td>\n",
       "      <td>-0.078334</td>\n",
       "      <td>-0.084548</td>\n",
       "      <td>-0.083189</td>\n",
       "      <td>-0.071842</td>\n",
       "      <td>...</td>\n",
       "      <td>-0.094340</td>\n",
       "      <td>-0.157327</td>\n",
       "      <td>-0.152199</td>\n",
       "      <td>-0.174151</td>\n",
       "      <td>-0.136565</td>\n",
       "    </tr>\n",
       "    <tr>\n",
       "      <th>dutifulness</th>\n",
       "      <td>0.025405</td>\n",
       "      <td>0.030096</td>\n",
       "      <td>0.008671</td>\n",
       "      <td>0.022955</td>\n",
       "      <td>0.037698</td>\n",
       "      <td>...</td>\n",
       "      <td>-0.041335</td>\n",
       "      <td>-0.076650</td>\n",
       "      <td>-0.043290</td>\n",
       "      <td>-0.108146</td>\n",
       "      <td>-0.050978</td>\n",
       "    </tr>\n",
       "    <tr>\n",
       "      <th>achievement_striving</th>\n",
       "      <td>-0.196613</td>\n",
       "      <td>-0.192582</td>\n",
       "      <td>-0.194723</td>\n",
       "      <td>-0.198206</td>\n",
       "      <td>-0.183296</td>\n",
       "      <td>...</td>\n",
       "      <td>-0.075481</td>\n",
       "      <td>-0.079987</td>\n",
       "      <td>-0.092185</td>\n",
       "      <td>-0.123802</td>\n",
       "      <td>-0.103846</td>\n",
       "    </tr>\n",
       "    <tr>\n",
       "      <th>self_discipline</th>\n",
       "      <td>-0.160809</td>\n",
       "      <td>-0.158787</td>\n",
       "      <td>-0.159358</td>\n",
       "      <td>-0.159828</td>\n",
       "      <td>-0.146783</td>\n",
       "      <td>...</td>\n",
       "      <td>-0.085887</td>\n",
       "      <td>-0.135111</td>\n",
       "      <td>-0.139127</td>\n",
       "      <td>-0.173371</td>\n",
       "      <td>-0.112263</td>\n",
       "    </tr>\n",
       "    <tr>\n",
       "      <th>cautiousness</th>\n",
       "      <td>-0.213340</td>\n",
       "      <td>-0.209385</td>\n",
       "      <td>-0.211559</td>\n",
       "      <td>-0.216814</td>\n",
       "      <td>-0.198931</td>\n",
       "      <td>...</td>\n",
       "      <td>-0.080114</td>\n",
       "      <td>-0.067241</td>\n",
       "      <td>-0.082482</td>\n",
       "      <td>-0.114754</td>\n",
       "      <td>-0.104457</td>\n",
       "    </tr>\n",
       "    <tr>\n",
       "      <th>extraversion</th>\n",
       "      <td>0.019559</td>\n",
       "      <td>0.051775</td>\n",
       "      <td>-0.037854</td>\n",
       "      <td>0.017955</td>\n",
       "      <td>0.023791</td>\n",
       "      <td>...</td>\n",
       "      <td>0.223273</td>\n",
       "      <td>0.143070</td>\n",
       "      <td>0.094985</td>\n",
       "      <td>0.141907</td>\n",
       "      <td>0.253926</td>\n",
       "    </tr>\n",
       "    <tr>\n",
       "      <th>friendliness</th>\n",
       "      <td>-0.013549</td>\n",
       "      <td>0.019132</td>\n",
       "      <td>-0.071373</td>\n",
       "      <td>-0.014588</td>\n",
       "      <td>-0.012466</td>\n",
       "      <td>...</td>\n",
       "      <td>0.187406</td>\n",
       "      <td>0.152430</td>\n",
       "      <td>0.092015</td>\n",
       "      <td>0.143542</td>\n",
       "      <td>0.229630</td>\n",
       "    </tr>\n",
       "    <tr>\n",
       "      <th>gregariousness</th>\n",
       "      <td>-0.007081</td>\n",
       "      <td>0.022004</td>\n",
       "      <td>-0.061092</td>\n",
       "      <td>-0.007627</td>\n",
       "      <td>-0.004249</td>\n",
       "      <td>...</td>\n",
       "      <td>0.200049</td>\n",
       "      <td>0.108269</td>\n",
       "      <td>0.055458</td>\n",
       "      <td>0.103173</td>\n",
       "      <td>0.221827</td>\n",
       "    </tr>\n",
       "    <tr>\n",
       "      <th>assertiveness</th>\n",
       "      <td>0.067676</td>\n",
       "      <td>0.100319</td>\n",
       "      <td>0.010908</td>\n",
       "      <td>0.066041</td>\n",
       "      <td>0.070751</td>\n",
       "      <td>...</td>\n",
       "      <td>0.241533</td>\n",
       "      <td>0.158206</td>\n",
       "      <td>0.117098</td>\n",
       "      <td>0.168293</td>\n",
       "      <td>0.272704</td>\n",
       "    </tr>\n",
       "    <tr>\n",
       "      <th>activity_level</th>\n",
       "      <td>0.016008</td>\n",
       "      <td>0.049510</td>\n",
       "      <td>-0.042141</td>\n",
       "      <td>0.014001</td>\n",
       "      <td>0.020673</td>\n",
       "      <td>...</td>\n",
       "      <td>0.218318</td>\n",
       "      <td>0.160958</td>\n",
       "      <td>0.113943</td>\n",
       "      <td>0.156221</td>\n",
       "      <td>0.255845</td>\n",
       "    </tr>\n",
       "    <tr>\n",
       "      <th>excitement_seeking</th>\n",
       "      <td>0.024575</td>\n",
       "      <td>0.055813</td>\n",
       "      <td>-0.031205</td>\n",
       "      <td>0.022532</td>\n",
       "      <td>0.030114</td>\n",
       "      <td>...</td>\n",
       "      <td>0.243820</td>\n",
       "      <td>0.132808</td>\n",
       "      <td>0.084022</td>\n",
       "      <td>0.139152</td>\n",
       "      <td>0.267499</td>\n",
       "    </tr>\n",
       "    <tr>\n",
       "      <th>cheerfulness</th>\n",
       "      <td>0.025347</td>\n",
       "      <td>0.056542</td>\n",
       "      <td>-0.031745</td>\n",
       "      <td>0.023335</td>\n",
       "      <td>0.032757</td>\n",
       "      <td>...</td>\n",
       "      <td>0.226436</td>\n",
       "      <td>0.129838</td>\n",
       "      <td>0.094353</td>\n",
       "      <td>0.124715</td>\n",
       "      <td>0.250753</td>\n",
       "    </tr>\n",
       "    <tr>\n",
       "      <th>agreeableness</th>\n",
       "      <td>-0.035343</td>\n",
       "      <td>-0.034508</td>\n",
       "      <td>-0.026937</td>\n",
       "      <td>-0.041988</td>\n",
       "      <td>-0.018590</td>\n",
       "      <td>...</td>\n",
       "      <td>-0.171834</td>\n",
       "      <td>-0.218130</td>\n",
       "      <td>-0.192446</td>\n",
       "      <td>-0.251809</td>\n",
       "      <td>-0.214893</td>\n",
       "    </tr>\n",
       "    <tr>\n",
       "      <th>trust</th>\n",
       "      <td>-0.036809</td>\n",
       "      <td>-0.037327</td>\n",
       "      <td>-0.026734</td>\n",
       "      <td>-0.043417</td>\n",
       "      <td>-0.019449</td>\n",
       "      <td>...</td>\n",
       "      <td>-0.181974</td>\n",
       "      <td>-0.212298</td>\n",
       "      <td>-0.186545</td>\n",
       "      <td>-0.247641</td>\n",
       "      <td>-0.226764</td>\n",
       "    </tr>\n",
       "    <tr>\n",
       "      <th>morality</th>\n",
       "      <td>-0.049372</td>\n",
       "      <td>-0.041644</td>\n",
       "      <td>-0.047237</td>\n",
       "      <td>-0.057220</td>\n",
       "      <td>-0.037509</td>\n",
       "      <td>...</td>\n",
       "      <td>-0.135152</td>\n",
       "      <td>-0.189875</td>\n",
       "      <td>-0.165544</td>\n",
       "      <td>-0.216696</td>\n",
       "      <td>-0.173224</td>\n",
       "    </tr>\n",
       "    <tr>\n",
       "      <th>altruism</th>\n",
       "      <td>-0.032053</td>\n",
       "      <td>-0.028880</td>\n",
       "      <td>-0.025467</td>\n",
       "      <td>-0.039350</td>\n",
       "      <td>-0.017605</td>\n",
       "      <td>...</td>\n",
       "      <td>-0.153201</td>\n",
       "      <td>-0.200951</td>\n",
       "      <td>-0.174150</td>\n",
       "      <td>-0.232390</td>\n",
       "      <td>-0.191648</td>\n",
       "    </tr>\n",
       "    <tr>\n",
       "      <th>cooperation</th>\n",
       "      <td>-0.055958</td>\n",
       "      <td>-0.056647</td>\n",
       "      <td>-0.045441</td>\n",
       "      <td>-0.062493</td>\n",
       "      <td>-0.037048</td>\n",
       "      <td>...</td>\n",
       "      <td>-0.193525</td>\n",
       "      <td>-0.235261</td>\n",
       "      <td>-0.212698</td>\n",
       "      <td>-0.274868</td>\n",
       "      <td>-0.241493</td>\n",
       "    </tr>\n",
       "    <tr>\n",
       "      <th>modesty</th>\n",
       "      <td>0.007671</td>\n",
       "      <td>0.003237</td>\n",
       "      <td>0.019036</td>\n",
       "      <td>0.002247</td>\n",
       "      <td>0.026744</td>\n",
       "      <td>...</td>\n",
       "      <td>-0.180439</td>\n",
       "      <td>-0.228149</td>\n",
       "      <td>-0.199008</td>\n",
       "      <td>-0.258935</td>\n",
       "      <td>-0.219991</td>\n",
       "    </tr>\n",
       "    <tr>\n",
       "      <th>sympathy</th>\n",
       "      <td>-0.043614</td>\n",
       "      <td>-0.046105</td>\n",
       "      <td>-0.032358</td>\n",
       "      <td>-0.048755</td>\n",
       "      <td>-0.024226</td>\n",
       "      <td>...</td>\n",
       "      <td>-0.186801</td>\n",
       "      <td>-0.238218</td>\n",
       "      <td>-0.214734</td>\n",
       "      <td>-0.277123</td>\n",
       "      <td>-0.236149</td>\n",
       "    </tr>\n",
       "    <tr>\n",
       "      <th>neuroticism</th>\n",
       "      <td>0.088322</td>\n",
       "      <td>0.119119</td>\n",
       "      <td>0.052474</td>\n",
       "      <td>0.072767</td>\n",
       "      <td>0.090437</td>\n",
       "      <td>...</td>\n",
       "      <td>0.831669</td>\n",
       "      <td>0.863498</td>\n",
       "      <td>0.857958</td>\n",
       "      <td>0.909465</td>\n",
       "      <td>0.897208</td>\n",
       "    </tr>\n",
       "    <tr>\n",
       "      <th>anxiety</th>\n",
       "      <td>0.094890</td>\n",
       "      <td>0.125436</td>\n",
       "      <td>0.063554</td>\n",
       "      <td>0.083442</td>\n",
       "      <td>0.087986</td>\n",
       "      <td>...</td>\n",
       "      <td>0.515924</td>\n",
       "      <td>0.922637</td>\n",
       "      <td>0.936915</td>\n",
       "      <td>0.920271</td>\n",
       "      <td>0.602481</td>\n",
       "    </tr>\n",
       "    <tr>\n",
       "      <th>anger</th>\n",
       "      <td>0.042829</td>\n",
       "      <td>0.070716</td>\n",
       "      <td>0.014261</td>\n",
       "      <td>0.027752</td>\n",
       "      <td>0.049447</td>\n",
       "      <td>...</td>\n",
       "      <td>1.000000</td>\n",
       "      <td>0.491504</td>\n",
       "      <td>0.484155</td>\n",
       "      <td>0.558723</td>\n",
       "      <td>0.902549</td>\n",
       "    </tr>\n",
       "    <tr>\n",
       "      <th>depression</th>\n",
       "      <td>0.025541</td>\n",
       "      <td>0.054426</td>\n",
       "      <td>-0.005892</td>\n",
       "      <td>0.011129</td>\n",
       "      <td>0.020423</td>\n",
       "      <td>...</td>\n",
       "      <td>0.491504</td>\n",
       "      <td>1.000000</td>\n",
       "      <td>0.954850</td>\n",
       "      <td>0.936791</td>\n",
       "      <td>0.587494</td>\n",
       "    </tr>\n",
       "    <tr>\n",
       "      <th>self_consciousness</th>\n",
       "      <td>0.082149</td>\n",
       "      <td>0.111451</td>\n",
       "      <td>0.044610</td>\n",
       "      <td>0.068736</td>\n",
       "      <td>0.080962</td>\n",
       "      <td>...</td>\n",
       "      <td>0.484155</td>\n",
       "      <td>0.954850</td>\n",
       "      <td>1.000000</td>\n",
       "      <td>0.910950</td>\n",
       "      <td>0.593892</td>\n",
       "    </tr>\n",
       "    <tr>\n",
       "      <th>immoderation</th>\n",
       "      <td>0.150447</td>\n",
       "      <td>0.176177</td>\n",
       "      <td>0.121833</td>\n",
       "      <td>0.135550</td>\n",
       "      <td>0.150393</td>\n",
       "      <td>...</td>\n",
       "      <td>0.558723</td>\n",
       "      <td>0.936791</td>\n",
       "      <td>0.910950</td>\n",
       "      <td>1.000000</td>\n",
       "      <td>0.680088</td>\n",
       "    </tr>\n",
       "    <tr>\n",
       "      <th>vulnerability</th>\n",
       "      <td>0.061415</td>\n",
       "      <td>0.085121</td>\n",
       "      <td>0.027660</td>\n",
       "      <td>0.049738</td>\n",
       "      <td>0.068359</td>\n",
       "      <td>...</td>\n",
       "      <td>0.902549</td>\n",
       "      <td>0.587494</td>\n",
       "      <td>0.593892</td>\n",
       "      <td>0.680088</td>\n",
       "      <td>1.000000</td>\n",
       "    </tr>\n",
       "  </tbody>\n",
       "</table>\n",
       "<p>35 rows × 35 columns</p>\n",
       "</div>"
      ],
      "text/plain": [
       "                      openness  imagination  artistic_interests  emotionality  \\\n",
       "openness              1.000000     0.994221            0.991124      0.995111   \n",
       "imagination           0.994221     1.000000            0.976200      0.986520   \n",
       "artistic_interests    0.991124     0.976200            1.000000      0.989110   \n",
       "emotionality          0.995111     0.986520            0.989110      1.000000   \n",
       "adventurousness       0.994899     0.984973            0.986060      0.985947   \n",
       "intellect             0.989755     0.988364            0.972884      0.986457   \n",
       "liberalism            0.991839     0.988348            0.978208      0.980549   \n",
       "conscientiousness    -0.048448    -0.044148           -0.059095     -0.050854   \n",
       "self_efficacy        -0.187753    -0.182245           -0.188382     -0.189568   \n",
       "orderliness          -0.080908    -0.078334           -0.084548     -0.083189   \n",
       "dutifulness           0.025405     0.030096            0.008671      0.022955   \n",
       "achievement_striving -0.196613    -0.192582           -0.194723     -0.198206   \n",
       "self_discipline      -0.160809    -0.158787           -0.159358     -0.159828   \n",
       "cautiousness         -0.213340    -0.209385           -0.211559     -0.216814   \n",
       "extraversion          0.019559     0.051775           -0.037854      0.017955   \n",
       "friendliness         -0.013549     0.019132           -0.071373     -0.014588   \n",
       "gregariousness       -0.007081     0.022004           -0.061092     -0.007627   \n",
       "assertiveness         0.067676     0.100319            0.010908      0.066041   \n",
       "activity_level        0.016008     0.049510           -0.042141      0.014001   \n",
       "excitement_seeking    0.024575     0.055813           -0.031205      0.022532   \n",
       "cheerfulness          0.025347     0.056542           -0.031745      0.023335   \n",
       "agreeableness        -0.035343    -0.034508           -0.026937     -0.041988   \n",
       "trust                -0.036809    -0.037327           -0.026734     -0.043417   \n",
       "morality             -0.049372    -0.041644           -0.047237     -0.057220   \n",
       "altruism             -0.032053    -0.028880           -0.025467     -0.039350   \n",
       "cooperation          -0.055958    -0.056647           -0.045441     -0.062493   \n",
       "modesty               0.007671     0.003237            0.019036      0.002247   \n",
       "sympathy             -0.043614    -0.046105           -0.032358     -0.048755   \n",
       "neuroticism           0.088322     0.119119            0.052474      0.072767   \n",
       "anxiety               0.094890     0.125436            0.063554      0.083442   \n",
       "anger                 0.042829     0.070716            0.014261      0.027752   \n",
       "depression            0.025541     0.054426           -0.005892      0.011129   \n",
       "self_consciousness    0.082149     0.111451            0.044610      0.068736   \n",
       "immoderation          0.150447     0.176177            0.121833      0.135550   \n",
       "vulnerability         0.061415     0.085121            0.027660      0.049738   \n",
       "\n",
       "                      adventurousness  ...     anger  depression  \\\n",
       "openness                     0.994899  ...  0.042829    0.025541   \n",
       "imagination                  0.984973  ...  0.070716    0.054426   \n",
       "artistic_interests           0.986060  ...  0.014261   -0.005892   \n",
       "emotionality                 0.985947  ...  0.027752    0.011129   \n",
       "adventurousness              1.000000  ...  0.049447    0.020423   \n",
       "intellect                    0.978509  ...  0.051113    0.050131   \n",
       "liberalism                   0.989038  ...  0.044025    0.026190   \n",
       "conscientiousness           -0.035624  ... -0.069356   -0.112839   \n",
       "self_efficacy               -0.173344  ... -0.074470   -0.094346   \n",
       "orderliness                 -0.071842  ... -0.094340   -0.157327   \n",
       "dutifulness                  0.037698  ... -0.041335   -0.076650   \n",
       "achievement_striving        -0.183296  ... -0.075481   -0.079987   \n",
       "self_discipline             -0.146783  ... -0.085887   -0.135111   \n",
       "cautiousness                -0.198931  ... -0.080114   -0.067241   \n",
       "extraversion                 0.023791  ...  0.223273    0.143070   \n",
       "friendliness                -0.012466  ...  0.187406    0.152430   \n",
       "gregariousness              -0.004249  ...  0.200049    0.108269   \n",
       "assertiveness                0.070751  ...  0.241533    0.158206   \n",
       "activity_level               0.020673  ...  0.218318    0.160958   \n",
       "excitement_seeking           0.030114  ...  0.243820    0.132808   \n",
       "cheerfulness                 0.032757  ...  0.226436    0.129838   \n",
       "agreeableness               -0.018590  ... -0.171834   -0.218130   \n",
       "trust                       -0.019449  ... -0.181974   -0.212298   \n",
       "morality                    -0.037509  ... -0.135152   -0.189875   \n",
       "altruism                    -0.017605  ... -0.153201   -0.200951   \n",
       "cooperation                 -0.037048  ... -0.193525   -0.235261   \n",
       "modesty                      0.026744  ... -0.180439   -0.228149   \n",
       "sympathy                    -0.024226  ... -0.186801   -0.238218   \n",
       "neuroticism                  0.090437  ...  0.831669    0.863498   \n",
       "anxiety                      0.087986  ...  0.515924    0.922637   \n",
       "anger                        0.049447  ...  1.000000    0.491504   \n",
       "depression                   0.020423  ...  0.491504    1.000000   \n",
       "self_consciousness           0.080962  ...  0.484155    0.954850   \n",
       "immoderation                 0.150393  ...  0.558723    0.936791   \n",
       "vulnerability                0.068359  ...  0.902549    0.587494   \n",
       "\n",
       "                      self_consciousness  immoderation  vulnerability  \n",
       "openness                        0.082149      0.150447       0.061415  \n",
       "imagination                     0.111451      0.176177       0.085121  \n",
       "artistic_interests              0.044610      0.121833       0.027660  \n",
       "emotionality                    0.068736      0.135550       0.049738  \n",
       "adventurousness                 0.080962      0.150393       0.068359  \n",
       "intellect                       0.104109      0.172219       0.073269  \n",
       "liberalism                      0.083573      0.143153       0.063986  \n",
       "conscientiousness              -0.093839     -0.145198      -0.093623  \n",
       "self_efficacy                  -0.104092     -0.138873      -0.106089  \n",
       "orderliness                    -0.152199     -0.174151      -0.136565  \n",
       "dutifulness                    -0.043290     -0.108146      -0.050978  \n",
       "achievement_striving           -0.092185     -0.123802      -0.103846  \n",
       "self_discipline                -0.139127     -0.173371      -0.112263  \n",
       "cautiousness                   -0.082482     -0.114754      -0.104457  \n",
       "extraversion                    0.094985      0.141907       0.253926  \n",
       "friendliness                    0.092015      0.143542       0.229630  \n",
       "gregariousness                  0.055458      0.103173       0.221827  \n",
       "assertiveness                   0.117098      0.168293       0.272704  \n",
       "activity_level                  0.113943      0.156221       0.255845  \n",
       "excitement_seeking              0.084022      0.139152       0.267499  \n",
       "cheerfulness                    0.094353      0.124715       0.250753  \n",
       "agreeableness                  -0.192446     -0.251809      -0.214893  \n",
       "trust                          -0.186545     -0.247641      -0.226764  \n",
       "morality                       -0.165544     -0.216696      -0.173224  \n",
       "altruism                       -0.174150     -0.232390      -0.191648  \n",
       "cooperation                    -0.212698     -0.274868      -0.241493  \n",
       "modesty                        -0.199008     -0.258935      -0.219991  \n",
       "sympathy                       -0.214734     -0.277123      -0.236149  \n",
       "neuroticism                     0.857958      0.909465       0.897208  \n",
       "anxiety                         0.936915      0.920271       0.602481  \n",
       "anger                           0.484155      0.558723       0.902549  \n",
       "depression                      0.954850      0.936791       0.587494  \n",
       "self_consciousness              1.000000      0.910950       0.593892  \n",
       "immoderation                    0.910950      1.000000       0.680088  \n",
       "vulnerability                   0.593892      0.680088       1.000000  \n",
       "\n",
       "[35 rows x 35 columns]"
      ]
     },
     "execution_count": 8,
     "metadata": {},
     "output_type": "execute_result"
    }
   ],
   "source": [
    "df.corr().T"
   ]
  }
 ],
 "metadata": {
  "kernelspec": {
   "display_name": "Python 3 (ipykernel)",
   "language": "python",
   "name": "python3"
  },
  "language_info": {
   "codemirror_mode": {
    "name": "ipython",
    "version": 3
   },
   "file_extension": ".py",
   "mimetype": "text/x-python",
   "name": "python",
   "nbconvert_exporter": "python",
   "pygments_lexer": "ipython3",
   "version": "3.12.3"
  }
 },
 "nbformat": 4,
 "nbformat_minor": 5
}
