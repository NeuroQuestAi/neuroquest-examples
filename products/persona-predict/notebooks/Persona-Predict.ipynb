{
 "cells": [
  {
   "cell_type": "markdown",
   "id": "05be025f-1d6d-41eb-aa04-14081277fa0f",
   "metadata": {},
   "source": [
    "# Analyzing Personality Data 🌊\n",
    "\n",
    "Using the **Persona-Predict** 🧠 service to create an analysis based on the author's text ✍️ and analyze the 🗣 personality traits generated. For more information about the service visit: [docs.neuroquest.ai/persona-predict](https://docs.neuroquest.ai/persona-predict/)"
   ]
  },
  {
   "cell_type": "code",
   "execution_count": 1,
   "id": "50578723-bc28-4121-a8d9-dd7f8a153ad0",
   "metadata": {},
   "outputs": [],
   "source": [
    "import os\n",
    "\n",
    "import pandas as pd\n",
    "from faker import Faker\n",
    "from IPython.display import JSON\n",
    "\n",
    "import utility as U"
   ]
  },
  {
   "cell_type": "code",
   "execution_count": 2,
   "id": "d55dac21-035c-4db4-a7c6-4585abda5e50",
   "metadata": {},
   "outputs": [],
   "source": [
    "NQ_USER = os.getenv(\"NQ_USER\")\n",
    "NQ_PASSWORD = os.getenv(\"NQ_PASSWORD\")"
   ]
  },
  {
   "cell_type": "markdown",
   "id": "73c5b1e8-c15e-4770-9517-11b0e660598a",
   "metadata": {},
   "source": [
    "## Create the Personality Analysis 📊\n",
    "\n",
    "- Sends the text to the **Persona-Predict** Service, if the analysis already exists it is read from the file."
   ]
  },
  {
   "cell_type": "code",
   "execution_count": 3,
   "id": "c4e537c0-f06d-47fe-b6da-269b3f0d8eee",
   "metadata": {},
   "outputs": [
    {
     "name": "stdout",
     "output_type": "stream",
     "text": [
      "Reading the saved analysis...\n"
     ]
    }
   ],
   "source": [
    "if not os.path.exists(\"predict-result.json\"):\n",
    "    print(\"Sending the text for analysis...\")\n",
    "    analysis = U.predict_create(\n",
    "        token=U.login(user=NQ_USER, password=NQ_PASSWORD).get(\"data\").get(\"token\"),\n",
    "        data={\n",
    "            \"name\": Faker().name(),\n",
    "            \"essay\": U.get_my_txt_essay(),\n",
    "        },\n",
    "        save_result=True,\n",
    "    )\n",
    "else:\n",
    "    print(\"Reading the saved analysis...\")\n",
    "    analysis = U.get_predict_result_in_file()"
   ]
  },
  {
   "cell_type": "code",
   "execution_count": 4,
   "id": "8edee6a6-9eeb-449b-a7dd-093d0f9067ef",
   "metadata": {},
   "outputs": [
    {
     "data": {
      "application/json": {
       "code": 201,
       "data": {
        "document_id": "pBGEL8jc57RFVyZXu60y",
        "owner": {
         "email": "ederbsd@gmail.com",
         "user_id": "MJumNgU0iud90UsEtohNeh6g0ju1"
        },
        "person": {
         "analysis": {
          "essay": {
           "analyzed_text": "My name is John Green, and I would like to share with you my journey, a story of perseverance, dedication, and determination that led me to the position of CEO in a large company. My path began humbly when I was just an office boy eager to learn and grow. I was born in a small town, and from an early age, my parents instilled in me fundamental values such as hard work and the importance of education. With these lessons in mind, I was determined to make the most of the opportunities that came my way. My first foray into the corporate world happened when I was only 18 years old. Fresh out of high school and seeking my first job, I came across a job posting for an office boy position at a local company. While the job was far from glamorous, I knew it was a starting point and decided to apply. During the job interview, I was nervous, but I did my best to convey my enthusiasm and determination. I was hired, and at that moment, my journey began. My responsibilities as an office boy were simple: making coffee, distributing mail, organizing paperwork, and handling basic administrative tasks. However, I was determined to excel in everything I did. As time went on, I started to observe and learn from my colleagues and superiors. I seized every opportunity to absorb knowledge about how the company operated. My work ethic and positive attitude began to catch the attention of some people in the company. While I continued to fulfill my duties as an office boy, I realized that there were areas where the company could improve. I gathered the courage to share my ideas with my supervisor, who was impressed by my initiative. This opened the door for me to start contributing to larger and more challenging projects. As the years went by, I continued to refine my skills and climb the company's hierarchy. I received promotions and took on increasing responsibilities. Each new challenge excited me, and I was determined to stand out. I took evening courses and workshops to enhance my leadership and management skills while maintaining my commitment to hard work and dedication. Over time, I was promoted to managerial roles and then to executive positions. My dedication, passion, and vision for the company's growth were recognized by colleagues and superiors. I was building a solid career based on my journey from an office boy to the leadership of the company.Finally, after years of hard work and continuous learning, I received the exciting news that I had been chosen to assume the role of CEO of the company. It was a moment of pride and gratitude, not only for myself but for everyone who supported me throughout my journey. As CEO, I faced new challenges and responsibilities, but my solid foundation as an office boy helped me maintain humility and remember where I came from. I was determined to lead the company with integrity, vision, and an unwavering commitment to the success of our team and our customers. My story is a testament that it doesn't matter where you start, but rather how you seize opportunities and face the challenges that arise along the way. I am a living example that with determination, hard work, and passion, it is possible to achieve great accomplishments, regardless of your origins. Today, as CEO, I am committed to helping other young individuals pave their own path to success. I want to inspire and mentor those willing to learn and grow, just as I did during my journey from an office boy to the pinnacle of the company. My story is a reminder that regardless of where you begin, what truly matters is the journey you undertake and how you leverage the opportunities along the way. Believe in yourself, work hard, and never stop learning. With determination and passion, you can achieve your dreams, just as I have achieved mine.",
           "detected_language": "en",
           "word_count": 661
          },
          "personalities": [
           {
            "agreeableness": {
             "A": 34.68802261352539,
             "score": "low",
             "traits": [
              {
               "score": "average",
               "trait": 1,
               "trust": 50.43476486206055
              },
              {
               "morality": 29.239782333374023,
               "score": "low",
               "trait": 2
              },
              {
               "altruism": 52.101810455322266,
               "score": "average",
               "trait": 3
              },
              {
               "cooperation": 25.889780044555664,
               "score": "low",
               "trait": 4
              },
              {
               "modesty": 14.818018913269043,
               "score": "low",
               "trait": 5
              },
              {
               "score": "low",
               "sympathy": 41.17742919921875,
               "trait": 6
              }
             ]
            },
            "conscientiousness": {
             "C": 48.43620300292969,
             "score": "average",
             "traits": [
              {
               "score": "high",
               "self_efficacy": 57.75407028198242,
               "trait": 1
              },
              {
               "orderliness": 46.20207214355469,
               "score": "average",
               "trait": 2
              },
              {
               "dutifulness": 45.190425872802734,
               "score": "average",
               "trait": 3
              },
              {
               "achievement_striving": 60.31382369995117,
               "score": "high",
               "trait": 4
              },
              {
               "score": "average",
               "self_discipline": 53.50432205200195,
               "trait": 5
              },
              {
               "cautiousness": 36.7944221496582,
               "score": "low",
               "trait": 6
              }
             ]
            },
            "extraversion": {
             "E": 59.05770492553711,
             "score": "high",
             "traits": [
              {
               "friendliness": 56.24563217163086,
               "score": "high",
               "trait": 1
              },
              {
               "gregariousness": 55.51691436767578,
               "score": "high",
               "trait": 2
              },
              {
               "assertiveness": 60.15159606933594,
               "score": "high",
               "trait": 3
              },
              {
               "activity_level": 59.79747009277344,
               "score": "high",
               "trait": 4
              },
              {
               "excitement_seeking": 63.22747802734375,
               "score": "high",
               "trait": 5
              },
              {
               "cheerfulness": 60.043121337890625,
               "score": "high",
               "trait": 6
              }
             ]
            },
            "neuroticism": {
             "N": 30.8154296875,
             "score": "low",
             "traits": [
              {
               "anxiety": 28.875699996948242,
               "score": "low",
               "trait": 1
              },
              {
               "anger": 35.011661529541016,
               "score": "low",
               "trait": 2
              },
              {
               "depression": 26.493741989135742,
               "score": "low",
               "trait": 3
              },
              {
               "score": "low",
               "self_consciousness": 22.648630142211914,
               "trait": 4
              },
              {
               "immoderation": 44.1469612121582,
               "score": "low",
               "trait": 5
              },
              {
               "score": "low",
               "trait": 6,
               "vulnerability": 23.42088508605957
              }
             ]
            },
            "openness": {
             "O": 56.79207992553711,
             "score": "high",
             "traits": [
              {
               "imagination": 65.45710754394531,
               "score": "high",
               "trait": 1
              },
              {
               "artistic_interests": 58.7182731628418,
               "score": "high",
               "trait": 2
              },
              {
               "emotionality": 60.95542526245117,
               "score": "high",
               "trait": 3
              },
              {
               "adventurousness": 56.91225814819336,
               "score": "high",
               "trait": 4
              },
              {
               "intellect": 60.23552322387695,
               "score": "high",
               "trait": 5
              },
              {
               "liberalism": 45.95991134643555,
               "score": "average",
               "trait": 6
              }
             ]
            }
           }
          ],
          "warnings": []
         },
         "name": "Billy Mcmahon"
        },
        "predict_id": "dedbc207-0378-4232-b9ff-900b9621701b",
        "provider": {
         "api": {
          "version": "v1.0.0"
         },
         "date": "2023-10-07 23:22:30 UTC",
         "model": {
          "name": "Claudia",
          "theory": "Big 5 Personality Traits",
          "version": "v1.0.0"
         },
         "name": "NeuroQuest AI",
         "product": "Persona-Predict-Interface"
        }
       },
       "status": "success"
      },
      "text/plain": [
       "<IPython.core.display.JSON object>"
      ]
     },
     "execution_count": 4,
     "metadata": {
      "application/json": {
       "expanded": true,
       "root": "root"
      }
     },
     "output_type": "execute_result"
    }
   ],
   "source": [
    "JSON(analysis, expanded=True)"
   ]
  },
  {
   "cell_type": "markdown",
   "id": "d9b59936-e191-4b76-bd6b-7035446d27e0",
   "metadata": {},
   "source": [
    "## 1. Big-Five Scores 🎭"
   ]
  },
  {
   "cell_type": "code",
   "execution_count": 5,
   "id": "1722938c-9193-4224-bcab-172da3177b4c",
   "metadata": {},
   "outputs": [],
   "source": [
    "score_big_five = list(\n",
    "    map(\n",
    "        U.get_big_five,\n",
    "        analysis.get(\"data\").get(\"person\").get(\"analysis\").get(\"personalities\"),\n",
    "    )\n",
    ")"
   ]
  },
  {
   "cell_type": "code",
   "execution_count": 6,
   "id": "0aa88390-2494-4f6f-ad5d-236cb3c23ff2",
   "metadata": {},
   "outputs": [
    {
     "data": {
      "text/html": [
       "<div>\n",
       "<style scoped>\n",
       "    .dataframe tbody tr th:only-of-type {\n",
       "        vertical-align: middle;\n",
       "    }\n",
       "\n",
       "    .dataframe tbody tr th {\n",
       "        vertical-align: top;\n",
       "    }\n",
       "\n",
       "    .dataframe thead th {\n",
       "        text-align: right;\n",
       "    }\n",
       "</style>\n",
       "<table border=\"1\" class=\"dataframe\">\n",
       "  <thead>\n",
       "    <tr style=\"text-align: right;\">\n",
       "      <th></th>\n",
       "      <th>O</th>\n",
       "      <th>C</th>\n",
       "      <th>E</th>\n",
       "      <th>A</th>\n",
       "      <th>N</th>\n",
       "    </tr>\n",
       "  </thead>\n",
       "  <tbody>\n",
       "    <tr>\n",
       "      <th>0</th>\n",
       "      <td>56.79208</td>\n",
       "      <td>48.436203</td>\n",
       "      <td>59.057705</td>\n",
       "      <td>34.688023</td>\n",
       "      <td>30.81543</td>\n",
       "    </tr>\n",
       "  </tbody>\n",
       "</table>\n",
       "</div>"
      ],
      "text/plain": [
       "          O          C          E          A         N\n",
       "0  56.79208  48.436203  59.057705  34.688023  30.81543"
      ]
     },
     "execution_count": 6,
     "metadata": {},
     "output_type": "execute_result"
    }
   ],
   "source": [
    "pd.DataFrame(score_big_five)"
   ]
  },
  {
   "cell_type": "code",
   "execution_count": 7,
   "id": "8f56fc31-72ab-4be5-b4c0-2beb279de449",
   "metadata": {},
   "outputs": [
    {
     "data": {
      "text/markdown": [
       "<center><img src='plots/big_five_plot_bar.png'/></center>"
      ],
      "text/plain": [
       "<IPython.core.display.Markdown object>"
      ]
     },
     "metadata": {},
     "output_type": "display_data"
    }
   ],
   "source": [
    "U.plot_big_five_bar(score_big_five=score_big_five)"
   ]
  },
  {
   "cell_type": "code",
   "execution_count": 8,
   "id": "88faf87a-d41e-4149-9252-4c80ce1b1b91",
   "metadata": {},
   "outputs": [
    {
     "data": {
      "text/html": [
       "<center><img src='plots/big_five_plot_radar.png' /></center>"
      ],
      "text/plain": [
       "<IPython.core.display.HTML object>"
      ]
     },
     "metadata": {},
     "output_type": "display_data"
    }
   ],
   "source": [
    "# U.plot_big_five_radar(score_big_five=score_big_five)\n",
    "from IPython.display import HTML, Markdown, display\n",
    "display(HTML(U.plot_big_five_radar(score_big_five=score_big_five)))"
   ]
  },
  {
   "cell_type": "markdown",
   "id": "6dbab8a7-b01b-4468-818e-75d5455cf6e3",
   "metadata": {},
   "source": [
    "## 2. Big-Five Openness & Facets 🧑‍🎨"
   ]
  },
  {
   "cell_type": "code",
   "execution_count": 9,
   "id": "6bec870b-4040-4aa0-b895-6f4176a7ef87",
   "metadata": {},
   "outputs": [],
   "source": [
    "score_openness_facets = list(\n",
    "    map(\n",
    "        U.get_openness_facets,\n",
    "        analysis.get(\"data\")\n",
    "        .get(\"person\")\n",
    "        .get(\"analysis\")\n",
    "        .get(\"personalities\")[0]\n",
    "        .get(\"openness\")\n",
    "        .get(\"traits\"),\n",
    "    )\n",
    ")"
   ]
  },
  {
   "cell_type": "code",
   "execution_count": 10,
   "id": "ce6bb731-1072-4a83-8146-50dac7fb1cdd",
   "metadata": {},
   "outputs": [
    {
     "data": {
      "text/html": [
       "<div>\n",
       "<style scoped>\n",
       "    .dataframe tbody tr th:only-of-type {\n",
       "        vertical-align: middle;\n",
       "    }\n",
       "\n",
       "    .dataframe tbody tr th {\n",
       "        vertical-align: top;\n",
       "    }\n",
       "\n",
       "    .dataframe thead th {\n",
       "        text-align: right;\n",
       "    }\n",
       "</style>\n",
       "<table border=\"1\" class=\"dataframe\">\n",
       "  <thead>\n",
       "    <tr style=\"text-align: right;\">\n",
       "      <th></th>\n",
       "      <th>Facet</th>\n",
       "      <th>Value</th>\n",
       "    </tr>\n",
       "  </thead>\n",
       "  <tbody>\n",
       "    <tr>\n",
       "      <th>0</th>\n",
       "      <td>Imagination</td>\n",
       "      <td>65.457108</td>\n",
       "    </tr>\n",
       "    <tr>\n",
       "      <th>1</th>\n",
       "      <td>Artistic Interests</td>\n",
       "      <td>58.718273</td>\n",
       "    </tr>\n",
       "    <tr>\n",
       "      <th>2</th>\n",
       "      <td>Emotionality</td>\n",
       "      <td>60.955425</td>\n",
       "    </tr>\n",
       "    <tr>\n",
       "      <th>3</th>\n",
       "      <td>Adventurousness</td>\n",
       "      <td>56.912258</td>\n",
       "    </tr>\n",
       "    <tr>\n",
       "      <th>4</th>\n",
       "      <td>Intellect</td>\n",
       "      <td>60.235523</td>\n",
       "    </tr>\n",
       "    <tr>\n",
       "      <th>5</th>\n",
       "      <td>Liberalism</td>\n",
       "      <td>45.959911</td>\n",
       "    </tr>\n",
       "  </tbody>\n",
       "</table>\n",
       "</div>"
      ],
      "text/plain": [
       "                Facet      Value\n",
       "0         Imagination  65.457108\n",
       "1  Artistic Interests  58.718273\n",
       "2        Emotionality  60.955425\n",
       "3     Adventurousness  56.912258\n",
       "4           Intellect  60.235523\n",
       "5          Liberalism  45.959911"
      ]
     },
     "execution_count": 10,
     "metadata": {},
     "output_type": "execute_result"
    }
   ],
   "source": [
    "pd.DataFrame(\n",
    "    [(list(x.keys())[0], list(x.values())[0]) for x in score_openness_facets],\n",
    "    columns=[\"Facet\", \"Value\"],\n",
    ")"
   ]
  },
  {
   "cell_type": "code",
   "execution_count": 11,
   "id": "ea493798-cc05-43c8-8614-9d1a38719597",
   "metadata": {},
   "outputs": [
    {
     "data": {
      "text/markdown": [
       "<center><img src='plots/big_five_openness_facets_plot_bar.png'/></center>"
      ],
      "text/plain": [
       "<IPython.core.display.Markdown object>"
      ]
     },
     "metadata": {},
     "output_type": "display_data"
    }
   ],
   "source": [
    "U.plot_big_five_openness_facets_bar(score_openness_facets=score_openness_facets)"
   ]
  },
  {
   "cell_type": "markdown",
   "id": "056b9001-d1ae-41e9-98ce-fcee62674f2e",
   "metadata": {},
   "source": [
    "## 2. Big-Five Conscientiousness & Facets 🧑‍🔬"
   ]
  },
  {
   "cell_type": "code",
   "execution_count": 12,
   "id": "25f0f372-13ad-45cd-b518-ceb800fe5fa2",
   "metadata": {},
   "outputs": [],
   "source": [
    "score_conscientiousness_facets = list(\n",
    "    map(\n",
    "        U.get_conscientiousness_facets,\n",
    "        analysis.get(\"data\")\n",
    "        .get(\"person\")\n",
    "        .get(\"analysis\")\n",
    "        .get(\"personalities\")[0]\n",
    "        .get(\"conscientiousness\")\n",
    "        .get(\"traits\"),\n",
    "    )\n",
    ")"
   ]
  },
  {
   "cell_type": "code",
   "execution_count": 13,
   "id": "110a4b63-5138-4e0d-a7a5-3c015305efaf",
   "metadata": {},
   "outputs": [
    {
     "data": {
      "text/html": [
       "<div>\n",
       "<style scoped>\n",
       "    .dataframe tbody tr th:only-of-type {\n",
       "        vertical-align: middle;\n",
       "    }\n",
       "\n",
       "    .dataframe tbody tr th {\n",
       "        vertical-align: top;\n",
       "    }\n",
       "\n",
       "    .dataframe thead th {\n",
       "        text-align: right;\n",
       "    }\n",
       "</style>\n",
       "<table border=\"1\" class=\"dataframe\">\n",
       "  <thead>\n",
       "    <tr style=\"text-align: right;\">\n",
       "      <th></th>\n",
       "      <th>Facet</th>\n",
       "      <th>Value</th>\n",
       "    </tr>\n",
       "  </thead>\n",
       "  <tbody>\n",
       "    <tr>\n",
       "      <th>0</th>\n",
       "      <td>Self-Efficacy</td>\n",
       "      <td>57.754070</td>\n",
       "    </tr>\n",
       "    <tr>\n",
       "      <th>1</th>\n",
       "      <td>Orderliness</td>\n",
       "      <td>46.202072</td>\n",
       "    </tr>\n",
       "    <tr>\n",
       "      <th>2</th>\n",
       "      <td>Dutifulness</td>\n",
       "      <td>45.190426</td>\n",
       "    </tr>\n",
       "    <tr>\n",
       "      <th>3</th>\n",
       "      <td>Achievement Striving</td>\n",
       "      <td>60.313824</td>\n",
       "    </tr>\n",
       "    <tr>\n",
       "      <th>4</th>\n",
       "      <td>Self-Discipline</td>\n",
       "      <td>53.504322</td>\n",
       "    </tr>\n",
       "    <tr>\n",
       "      <th>5</th>\n",
       "      <td>Cautiousness</td>\n",
       "      <td>36.794422</td>\n",
       "    </tr>\n",
       "  </tbody>\n",
       "</table>\n",
       "</div>"
      ],
      "text/plain": [
       "                  Facet      Value\n",
       "0         Self-Efficacy  57.754070\n",
       "1           Orderliness  46.202072\n",
       "2           Dutifulness  45.190426\n",
       "3  Achievement Striving  60.313824\n",
       "4       Self-Discipline  53.504322\n",
       "5          Cautiousness  36.794422"
      ]
     },
     "execution_count": 13,
     "metadata": {},
     "output_type": "execute_result"
    }
   ],
   "source": [
    "pd.DataFrame(\n",
    "    [(list(x.keys())[0], list(x.values())[0]) for x in score_conscientiousness_facets],\n",
    "    columns=[\"Facet\", \"Value\"],\n",
    ")"
   ]
  },
  {
   "cell_type": "code",
   "execution_count": 14,
   "id": "857bc9d1-74d2-406a-b6c5-5272c0f6ad9b",
   "metadata": {},
   "outputs": [
    {
     "data": {
      "text/markdown": [
       "<center><img src='plots/big_five_conscientiousness_facets_plot_bar.png'/></center>"
      ],
      "text/plain": [
       "<IPython.core.display.Markdown object>"
      ]
     },
     "metadata": {},
     "output_type": "display_data"
    }
   ],
   "source": [
    "U.plot_big_five_conscientiousness_facets_bar(\n",
    "    score_conscientiousness_facets=score_conscientiousness_facets\n",
    ")"
   ]
  },
  {
   "cell_type": "markdown",
   "id": "ed6aa80a-aba1-4f2d-b3b7-973e32d1027f",
   "metadata": {},
   "source": [
    "## 3. Big-Five Extraversion & Facets 🕺💃"
   ]
  },
  {
   "cell_type": "code",
   "execution_count": 15,
   "id": "67459c82-7643-42e9-a18e-7aeb4c7d1a62",
   "metadata": {},
   "outputs": [],
   "source": [
    "score_extraversion_facets = list(\n",
    "    map(\n",
    "        U.get_extraversion_facets,\n",
    "        analysis.get(\"data\")\n",
    "        .get(\"person\")\n",
    "        .get(\"analysis\")\n",
    "        .get(\"personalities\")[0]\n",
    "        .get(\"extraversion\")\n",
    "        .get(\"traits\"),\n",
    "    )\n",
    ")"
   ]
  },
  {
   "cell_type": "code",
   "execution_count": 16,
   "id": "2672e3f4-4230-45cd-9b6f-2aa2ad1c5671",
   "metadata": {},
   "outputs": [
    {
     "data": {
      "text/html": [
       "<div>\n",
       "<style scoped>\n",
       "    .dataframe tbody tr th:only-of-type {\n",
       "        vertical-align: middle;\n",
       "    }\n",
       "\n",
       "    .dataframe tbody tr th {\n",
       "        vertical-align: top;\n",
       "    }\n",
       "\n",
       "    .dataframe thead th {\n",
       "        text-align: right;\n",
       "    }\n",
       "</style>\n",
       "<table border=\"1\" class=\"dataframe\">\n",
       "  <thead>\n",
       "    <tr style=\"text-align: right;\">\n",
       "      <th></th>\n",
       "      <th>Facet</th>\n",
       "      <th>Value</th>\n",
       "    </tr>\n",
       "  </thead>\n",
       "  <tbody>\n",
       "    <tr>\n",
       "      <th>0</th>\n",
       "      <td>Friendliness</td>\n",
       "      <td>56.245632</td>\n",
       "    </tr>\n",
       "    <tr>\n",
       "      <th>1</th>\n",
       "      <td>Gregariousness</td>\n",
       "      <td>55.516914</td>\n",
       "    </tr>\n",
       "    <tr>\n",
       "      <th>2</th>\n",
       "      <td>Assertiveness</td>\n",
       "      <td>60.151596</td>\n",
       "    </tr>\n",
       "    <tr>\n",
       "      <th>3</th>\n",
       "      <td>Activity Level</td>\n",
       "      <td>59.797470</td>\n",
       "    </tr>\n",
       "    <tr>\n",
       "      <th>4</th>\n",
       "      <td>Excitement-Seeking</td>\n",
       "      <td>63.227478</td>\n",
       "    </tr>\n",
       "    <tr>\n",
       "      <th>5</th>\n",
       "      <td>Cheerfulness</td>\n",
       "      <td>60.043121</td>\n",
       "    </tr>\n",
       "  </tbody>\n",
       "</table>\n",
       "</div>"
      ],
      "text/plain": [
       "                Facet      Value\n",
       "0        Friendliness  56.245632\n",
       "1      Gregariousness  55.516914\n",
       "2       Assertiveness  60.151596\n",
       "3      Activity Level  59.797470\n",
       "4  Excitement-Seeking  63.227478\n",
       "5        Cheerfulness  60.043121"
      ]
     },
     "execution_count": 16,
     "metadata": {},
     "output_type": "execute_result"
    }
   ],
   "source": [
    "pd.DataFrame(\n",
    "    [(list(x.keys())[0], list(x.values())[0]) for x in score_extraversion_facets],\n",
    "    columns=[\"Facet\", \"Value\"],\n",
    ")"
   ]
  },
  {
   "cell_type": "code",
   "execution_count": 17,
   "id": "05a5979e-62d5-4dca-9319-a44ee41d7856",
   "metadata": {},
   "outputs": [
    {
     "data": {
      "text/markdown": [
       "<center><img src='plots/big_five_extraversion_facets_plot_bar.png'/></center>"
      ],
      "text/plain": [
       "<IPython.core.display.Markdown object>"
      ]
     },
     "metadata": {},
     "output_type": "display_data"
    }
   ],
   "source": [
    "U.plot_big_five_extraversion_facets_bar(\n",
    "    score_extraversion_facets=score_extraversion_facets\n",
    ")"
   ]
  },
  {
   "cell_type": "markdown",
   "id": "04257ede-733b-4d5d-9eae-247680087aaf",
   "metadata": {},
   "source": [
    "## 4. Big-Five Agreeableness & Facets 🙋🧡"
   ]
  },
  {
   "cell_type": "code",
   "execution_count": 18,
   "id": "4ce8b7db-11bc-4273-85aa-311639472770",
   "metadata": {},
   "outputs": [],
   "source": [
    "score_agreeableness_facets = list(\n",
    "    map(\n",
    "        U.get_agreeableness_facets,\n",
    "        analysis.get(\"data\")\n",
    "        .get(\"person\")\n",
    "        .get(\"analysis\")\n",
    "        .get(\"personalities\")[0]\n",
    "        .get(\"agreeableness\")\n",
    "        .get(\"traits\"),\n",
    "    )\n",
    ")"
   ]
  },
  {
   "cell_type": "code",
   "execution_count": 19,
   "id": "2d81e3e0-fd29-45a1-b07c-4dc10d3e6c14",
   "metadata": {},
   "outputs": [
    {
     "data": {
      "text/html": [
       "<div>\n",
       "<style scoped>\n",
       "    .dataframe tbody tr th:only-of-type {\n",
       "        vertical-align: middle;\n",
       "    }\n",
       "\n",
       "    .dataframe tbody tr th {\n",
       "        vertical-align: top;\n",
       "    }\n",
       "\n",
       "    .dataframe thead th {\n",
       "        text-align: right;\n",
       "    }\n",
       "</style>\n",
       "<table border=\"1\" class=\"dataframe\">\n",
       "  <thead>\n",
       "    <tr style=\"text-align: right;\">\n",
       "      <th></th>\n",
       "      <th>Facet</th>\n",
       "      <th>Value</th>\n",
       "    </tr>\n",
       "  </thead>\n",
       "  <tbody>\n",
       "    <tr>\n",
       "      <th>0</th>\n",
       "      <td>Trust</td>\n",
       "      <td>50.434765</td>\n",
       "    </tr>\n",
       "    <tr>\n",
       "      <th>1</th>\n",
       "      <td>Morality</td>\n",
       "      <td>29.239782</td>\n",
       "    </tr>\n",
       "    <tr>\n",
       "      <th>2</th>\n",
       "      <td>Altruism</td>\n",
       "      <td>52.101810</td>\n",
       "    </tr>\n",
       "    <tr>\n",
       "      <th>3</th>\n",
       "      <td>Cooperation</td>\n",
       "      <td>25.889780</td>\n",
       "    </tr>\n",
       "    <tr>\n",
       "      <th>4</th>\n",
       "      <td>Modesty</td>\n",
       "      <td>14.818019</td>\n",
       "    </tr>\n",
       "    <tr>\n",
       "      <th>5</th>\n",
       "      <td>Sympathy</td>\n",
       "      <td>41.177429</td>\n",
       "    </tr>\n",
       "  </tbody>\n",
       "</table>\n",
       "</div>"
      ],
      "text/plain": [
       "         Facet      Value\n",
       "0        Trust  50.434765\n",
       "1     Morality  29.239782\n",
       "2     Altruism  52.101810\n",
       "3  Cooperation  25.889780\n",
       "4      Modesty  14.818019\n",
       "5     Sympathy  41.177429"
      ]
     },
     "execution_count": 19,
     "metadata": {},
     "output_type": "execute_result"
    }
   ],
   "source": [
    "pd.DataFrame(\n",
    "    [(list(x.keys())[0], list(x.values())[0]) for x in score_agreeableness_facets],\n",
    "    columns=[\"Facet\", \"Value\"],\n",
    ")"
   ]
  },
  {
   "cell_type": "code",
   "execution_count": 20,
   "id": "303bb1b4-5a39-49b3-826d-d14010e57dc4",
   "metadata": {},
   "outputs": [
    {
     "data": {
      "text/markdown": [
       "<center><img src='plots/big_five_agreeableness_facets_plot_bar.png'/></center>"
      ],
      "text/plain": [
       "<IPython.core.display.Markdown object>"
      ]
     },
     "metadata": {},
     "output_type": "display_data"
    }
   ],
   "source": [
    "U.plot_big_five_agreeableness_facets_bar(\n",
    "    score_agreeableness_facets=score_agreeableness_facets\n",
    ")"
   ]
  },
  {
   "cell_type": "markdown",
   "id": "7e991860-96ab-47f5-b61a-abea14fa60dd",
   "metadata": {},
   "source": [
    "## 5. Big-Five Neuroticism & Facets 🙅💢"
   ]
  },
  {
   "cell_type": "code",
   "execution_count": 21,
   "id": "dba0e2f2-cac5-4b0b-872b-dc182268175a",
   "metadata": {},
   "outputs": [],
   "source": [
    "score_neuroticism_facets = list(\n",
    "    map(\n",
    "        U.get_neuroticism_facets,\n",
    "        analysis.get(\"data\")\n",
    "        .get(\"person\")\n",
    "        .get(\"analysis\")\n",
    "        .get(\"personalities\")[0]\n",
    "        .get(\"neuroticism\")\n",
    "        .get(\"traits\"),\n",
    "    )\n",
    ")"
   ]
  },
  {
   "cell_type": "code",
   "execution_count": 22,
   "id": "7e0459f2-1852-4a45-a02c-6e1c8e85dec9",
   "metadata": {},
   "outputs": [
    {
     "data": {
      "text/html": [
       "<div>\n",
       "<style scoped>\n",
       "    .dataframe tbody tr th:only-of-type {\n",
       "        vertical-align: middle;\n",
       "    }\n",
       "\n",
       "    .dataframe tbody tr th {\n",
       "        vertical-align: top;\n",
       "    }\n",
       "\n",
       "    .dataframe thead th {\n",
       "        text-align: right;\n",
       "    }\n",
       "</style>\n",
       "<table border=\"1\" class=\"dataframe\">\n",
       "  <thead>\n",
       "    <tr style=\"text-align: right;\">\n",
       "      <th></th>\n",
       "      <th>Facet</th>\n",
       "      <th>Value</th>\n",
       "    </tr>\n",
       "  </thead>\n",
       "  <tbody>\n",
       "    <tr>\n",
       "      <th>0</th>\n",
       "      <td>Anxiety</td>\n",
       "      <td>28.875700</td>\n",
       "    </tr>\n",
       "    <tr>\n",
       "      <th>1</th>\n",
       "      <td>Anger</td>\n",
       "      <td>35.011662</td>\n",
       "    </tr>\n",
       "    <tr>\n",
       "      <th>2</th>\n",
       "      <td>Depression</td>\n",
       "      <td>26.493742</td>\n",
       "    </tr>\n",
       "    <tr>\n",
       "      <th>3</th>\n",
       "      <td>Self-Consciousness</td>\n",
       "      <td>22.648630</td>\n",
       "    </tr>\n",
       "    <tr>\n",
       "      <th>4</th>\n",
       "      <td>Immoderation</td>\n",
       "      <td>44.146961</td>\n",
       "    </tr>\n",
       "    <tr>\n",
       "      <th>5</th>\n",
       "      <td>Vulnerability</td>\n",
       "      <td>23.420885</td>\n",
       "    </tr>\n",
       "  </tbody>\n",
       "</table>\n",
       "</div>"
      ],
      "text/plain": [
       "                Facet      Value\n",
       "0             Anxiety  28.875700\n",
       "1               Anger  35.011662\n",
       "2          Depression  26.493742\n",
       "3  Self-Consciousness  22.648630\n",
       "4        Immoderation  44.146961\n",
       "5       Vulnerability  23.420885"
      ]
     },
     "execution_count": 22,
     "metadata": {},
     "output_type": "execute_result"
    }
   ],
   "source": [
    "pd.DataFrame(\n",
    "    [(list(x.keys())[0], list(x.values())[0]) for x in score_neuroticism_facets],\n",
    "    columns=[\"Facet\", \"Value\"],\n",
    ")"
   ]
  },
  {
   "cell_type": "code",
   "execution_count": 23,
   "id": "b6e9279a-ffc2-4df0-a7ad-c29908db2f9f",
   "metadata": {},
   "outputs": [
    {
     "data": {
      "text/markdown": [
       "<center><img src='plots/big_five_neuroticism_facets_plot_bar.png'/></center>"
      ],
      "text/plain": [
       "<IPython.core.display.Markdown object>"
      ]
     },
     "metadata": {},
     "output_type": "display_data"
    }
   ],
   "source": [
    "U.plot_big_five_neuroticism_facets_bar(\n",
    "    score_neuroticism_facets=score_neuroticism_facets\n",
    ")"
   ]
  }
 ],
 "metadata": {
  "kernelspec": {
   "display_name": "Python 3 (ipykernel)",
   "language": "python",
   "name": "python3"
  },
  "language_info": {
   "codemirror_mode": {
    "name": "ipython",
    "version": 3
   },
   "file_extension": ".py",
   "mimetype": "text/x-python",
   "name": "python",
   "nbconvert_exporter": "python",
   "pygments_lexer": "ipython3",
   "version": "3.11.5"
  }
 },
 "nbformat": 4,
 "nbformat_minor": 5
}
