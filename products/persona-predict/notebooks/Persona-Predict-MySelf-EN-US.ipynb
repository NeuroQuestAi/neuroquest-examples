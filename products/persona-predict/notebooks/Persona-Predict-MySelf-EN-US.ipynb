{
 "cells": [
  {
   "cell_type": "markdown",
   "id": "05be025f-1d6d-41eb-aa04-14081277fa0f",
   "metadata": {},
   "source": [
    "# Analyzing Personality MySelf 🌊\n",
    "\n",
    "Using the **Persona-Predict V2** 🧠 service to create an analysis based on the author's text ✍️ and analyze the 🗣 personality traits generated. For more information about the service visit: [docs.neuroquest.ai/persona-predict](https://docs.neuroquest.ai/persona-predict/)\n",
    "\n",
    "The scores for the traits follow the [IPIP](https://ipip.ori.org/) standard. Where:\n",
    "\n",
    "- If the score is below 45: It is classified as a 'low' score.\n",
    "- If the score is between 45 and 55: It is classified as an 'average' score.\n",
    "- If the score is above 55: It is classified as a 'high' score.\n",
    "\n",
    "For texts in **English**, the **raw_score** value will be equal to the **percentile**, as calibration is not required \n",
    "for the English-speaking population. If you have any doubts about interpreting the results, please consult a psychologist \n",
    "specializing in personality theory.\n",
    "\n",
    "If the graphics are not rendered 🚫, use the address:\n",
    "\n",
    "  - [View in NBViewer](https://nbviewer.org/github/NeuroQuestAi/neuroquest-examples/blob/main/products/persona-predict/notebooks/Persona-Predict-MySelf.ipynb?flush_cache=true)"
   ]
  },
  {
   "cell_type": "code",
   "execution_count": 1,
   "id": "50578723-bc28-4121-a8d9-dd7f8a153ad0",
   "metadata": {},
   "outputs": [
    {
     "data": {
      "text/plain": [
       "True"
      ]
     },
     "execution_count": 1,
     "metadata": {},
     "output_type": "execute_result"
    }
   ],
   "source": [
    "import os\n",
    "\n",
    "import pandas as pd\n",
    "import utility as U\n",
    "\n",
    "from faker import Faker\n",
    "from IPython.display import JSON, HTML, display\n",
    "\n",
    "from dotenv import load_dotenv\n",
    "\n",
    "load_dotenv()"
   ]
  },
  {
   "cell_type": "code",
   "execution_count": 2,
   "id": "d55dac21-035c-4db4-a7c6-4585abda5e50",
   "metadata": {},
   "outputs": [],
   "source": [
    "NQ_USER = os.getenv(\"NQ_USER\")\n",
    "NQ_PASSWORD = os.getenv(\"NQ_PASSWORD\")"
   ]
  },
  {
   "cell_type": "code",
   "execution_count": 3,
   "id": "bf02dd4a",
   "metadata": {},
   "outputs": [],
   "source": [
    "assert NQ_USER is not None, \"set the user\"\n",
    "assert NQ_PASSWORD is not None, \"set the password\""
   ]
  },
  {
   "cell_type": "markdown",
   "id": "73c5b1e8-c15e-4770-9517-11b0e660598a",
   "metadata": {},
   "source": [
    "## Create the Personality Analysis 📊\n",
    "\n",
    "- Sends the text to the **Persona-Predict** Service, if the analysis already exists it is read from the file."
   ]
  },
  {
   "cell_type": "code",
   "execution_count": 4,
   "id": "c4e537c0-f06d-47fe-b6da-269b3f0d8eee",
   "metadata": {},
   "outputs": [
    {
     "name": "stdout",
     "output_type": "stream",
     "text": [
      "Reading the saved analysis...\n"
     ]
    }
   ],
   "source": [
    "if not os.path.exists(\"results/persona-predict-v2.json\"):\n",
    "    print(\"Sending the text for analysis...\")\n",
    "    analysis = U.api_predict_create(\n",
    "        token=U.api_login(user=NQ_USER, password=NQ_PASSWORD).get(\"data\").get(\"token\"),\n",
    "        data={\n",
    "            \"name\": Faker().name(),\n",
    "            \"essay\": U.get_my_txt_essay(lang=\"en\"),\n",
    "            \"task\": False,\n",
    "        },\n",
    "        save_result=True,\n",
    "    )\n",
    "else:\n",
    "    print(\"Reading the saved analysis...\")\n",
    "    analysis = U.get_api_predict_result_in_file()"
   ]
  },
  {
   "cell_type": "code",
   "execution_count": 5,
   "id": "8edee6a6-9eeb-449b-a7dd-093d0f9067ef",
   "metadata": {},
   "outputs": [
    {
     "data": {
      "application/json": {
       "code": 201,
       "data": {
        "document_id": "jByqqy2xp7febUyHWAMV",
        "information": {
         "processed_by": "srv-1",
         "processing_time": 3.307144883000092
        },
        "owner": "e@neuroquest.ai",
        "person": {
         "analysis": {
          "essay": {
           "analyzed_text": "Starting my career has been a mix of excitement and self-discovery. I'm open to learning and trying new things, which is helping me adapt to everything that comes my way - from new systems to unexpected challenges. Each day feels like an opportunity to broaden my skills, and I’ve realized that this openness to experience is making my work feel more engaging and creative. Being in a dynamic work environment is energizing. I’d describe myself as someone who's fairly outgoing, and I’ve enjoyed connecting with my colleagues and building new relationships. These interactions not only make the day more enjoyable but also make me feel part of a bigger team effort. Of course, I won’t lie - there are moments when I feel a little nervous or uncertain, especially when I’m facing something completely unfamiliar. It can be a bit overwhelming at times, and I sometimes worry about making mistakes. But I’m learning to handle these moments by reminding myself that it’s all part of growth. I try not to let those feelings of doubt linger too long, focusing instead on the positives. Being detail-oriented and organized helps me keep on top of things, even when there's a lot going on. I’m committed to doing my best, and I find a sense of satisfaction in completing my tasks responsibly and efficiently. I guess this conscientious side is helping me build trust and reliability within the team. Finally, I’m grateful to be in a place where people are genuinely supportive. Everyone seems to value teamwork and respect, and that aligns with my own desire to work in harmony with others. These first steps in my career feel meaningful, and I’m excited to see where this journey will take me.",
           "detected_language": "en-us",
           "word_count": 288
          },
          "personalities": [
           {
            "openness": {
             "acronym": "O",
             "confidence": 98.2726221320349,
             "name": "Openness",
             "percentile": 80.55780604916268,
             "raw_score": 80.55619541199474,
             "trait_id": "big5_openness",
             "traits": [
              {
               "confidence": 98.21748834096253,
               "name": "Imagination",
               "percentile": 78.67825167458628,
               "raw_score": 78.70600377353944,
               "trait": 1,
               "trait_id": "facet_imagination"
              },
              {
               "confidence": 98.31411818133155,
               "name": "Artistic Interests",
               "percentile": 83.53852013495107,
               "raw_score": 83.6219455254549,
               "trait": 2,
               "trait_id": "facet_artistic_interests"
              },
              {
               "confidence": 98.20816024845988,
               "name": "Emotionality",
               "percentile": 77.56838996663247,
               "raw_score": 77.50650246280878,
               "trait": 3,
               "trait_id": "facet_emotionality"
              },
              {
               "confidence": 98.30569226913131,
               "name": "Adventurousness",
               "percentile": 81.41627161835423,
               "raw_score": 81.42038548251135,
               "trait": 4,
               "trait_id": "facet_adventurousness"
              },
              {
               "confidence": 98.23600640145548,
               "name": "Intellect",
               "percentile": 77.9882192615722,
               "raw_score": 77.92417616929603,
               "trait": 5,
               "trait_id": "facet_intellect"
              },
              {
               "confidence": 98.35426735086865,
               "name": "Liberalism",
               "percentile": 84.15718363887974,
               "raw_score": 84.15815905835788,
               "trait": 6,
               "trait_id": "facet_liberalism"
              }
             ]
            }
           },
           {
            "conscientiousness": {
             "acronym": "C",
             "confidence": 97.55412759616735,
             "name": "Conscientiousness",
             "percentile": 58.623060679475834,
             "raw_score": 58.58609466460831,
             "trait_id": "big5_conscientiousness",
             "traits": [
              {
               "confidence": 97.68771264286433,
               "name": "Self-Efficacy",
               "percentile": 58.61631636694383,
               "raw_score": 58.5897661467673,
               "trait": 1,
               "trait_id": "facet_self_efficacy"
              },
              {
               "confidence": 97.73067863787989,
               "name": "Orderliness",
               "percentile": 60.51832071914974,
               "raw_score": 60.426912204192035,
               "trait": 2,
               "trait_id": "facet_orderliness"
              },
              {
               "confidence": 97.41642948091774,
               "name": "Dutifulness",
               "percentile": 57.720113065776026,
               "raw_score": 57.54817133316928,
               "trait": 3,
               "trait_id": "facet_dutifulness"
              },
              {
               "confidence": 97.60001485767592,
               "name": "Achievement-Striving",
               "percentile": 57.66348071060307,
               "raw_score": 57.61407154022564,
               "trait": 4,
               "trait_id": "facet_achievement_striving"
              },
              {
               "confidence": 97.37120095148552,
               "name": "Self-Discipline",
               "percentile": 58.50698776198934,
               "raw_score": 58.624808406941945,
               "trait": 5,
               "trait_id": "facet_self_discipline"
              },
              {
               "confidence": 97.51872900618072,
               "name": "Cautiousness",
               "percentile": 58.71314545239299,
               "raw_score": 58.71283835635369,
               "trait": 6,
               "trait_id": "facet_cautiousness"
              }
             ]
            }
           },
           {
            "extraversion": {
             "acronym": "E",
             "confidence": 98.73935828027804,
             "name": "Extraversion",
             "percentile": 85.94918956664837,
             "raw_score": 85.902314379913,
             "trait_id": "big5_extraversion",
             "traits": [
              {
               "confidence": 98.73594726079656,
               "name": "Friendliness",
               "percentile": 85.64888493399697,
               "raw_score": 85.64711813858024,
               "trait": 1,
               "trait_id": "facet_friendliness"
              },
              {
               "confidence": 98.77050305097576,
               "name": "Gregariousness",
               "percentile": 86.41329150927615,
               "raw_score": 86.47145266009124,
               "trait": 2,
               "trait_id": "facet_gregariousness"
              },
              {
               "confidence": 98.67991252600396,
               "name": "Assertiveness",
               "percentile": 83.25636673438484,
               "raw_score": 83.24856540001387,
               "trait": 3,
               "trait_id": "facet_assertiveness"
              },
              {
               "confidence": 98.70425808649973,
               "name": "Activity Level",
               "percentile": 86.13648566303252,
               "raw_score": 86.15032787622161,
               "trait": 4,
               "trait_id": "facet_activity_level"
              },
              {
               "confidence": 98.7724608595977,
               "name": "Excitement Seeking",
               "percentile": 87.04355198072484,
               "raw_score": 86.72265402521985,
               "trait": 5,
               "trait_id": "facet_excitement_seeking"
              },
              {
               "confidence": 98.77306789779448,
               "name": "Cheerfulness",
               "percentile": 87.19655657847494,
               "raw_score": 87.17376817935116,
               "trait": 6,
               "trait_id": "facet_cheerfulness"
              }
             ]
            }
           },
           {
            "agreeableness": {
             "acronym": "A",
             "confidence": 96.14601020944654,
             "name": "Agreeableness",
             "percentile": 50.85045592988626,
             "raw_score": 50.82887860390479,
             "trait_id": "big5_agreeableness",
             "traits": [
              {
               "confidence": 97.47370082335824,
               "name": "Trust",
               "percentile": 56.555698800373115,
               "raw_score": 56.61326087825942,
               "trait": 1,
               "trait_id": "facet_trust"
              },
              {
               "confidence": 94.66695086981741,
               "name": "Morality",
               "percentile": 48.073436670382925,
               "raw_score": 47.91292588993324,
               "trait": 2,
               "trait_id": "facet_morality"
              },
              {
               "confidence": 94.55228413305682,
               "name": "Altruism",
               "percentile": 47.71677110145969,
               "raw_score": 47.63504961624258,
               "trait": 3,
               "trait_id": "facet_altruism"
              },
              {
               "confidence": 96.79567466448998,
               "name": "Cooperation",
               "percentile": 50.907906029242376,
               "raw_score": 50.92979067212228,
               "trait": 4,
               "trait_id": "facet_cooperation"
              },
              {
               "confidence": 96.61000987267795,
               "name": "Modesty",
               "percentile": 52.09126341884127,
               "raw_score": 52.12004342514158,
               "trait": 5,
               "trait_id": "facet_modesty"
              },
              {
               "confidence": 96.77744089327884,
               "name": "Sympathy",
               "percentile": 49.757659559018144,
               "raw_score": 49.7622011417296,
               "trait": 6,
               "trait_id": "facet_sympathy"
              }
             ]
            }
           },
           {
            "neuroticism": {
             "acronym": "N",
             "confidence": 97.51618856271249,
             "name": "Neuroticism",
             "percentile": 43.894986081885015,
             "raw_score": 43.88764365400885,
             "trait_id": "big5_neuroticism",
             "traits": [
              {
               "confidence": 97.81872235723206,
               "name": "Anxiety",
               "percentile": 47.63956139260488,
               "raw_score": 47.60049241792767,
               "trait": 1,
               "trait_id": "facet_anxiety"
              },
              {
               "confidence": 97.35379587557274,
               "name": "Anger",
               "percentile": 43.10715970898357,
               "raw_score": 43.10016018496971,
               "trait": 2,
               "trait_id": "facet_anger"
              },
              {
               "confidence": 97.34832988876431,
               "name": "Depression",
               "percentile": 39.82557707207225,
               "raw_score": 39.796778619709286,
               "trait": 3,
               "trait_id": "facet_depression"
              },
              {
               "confidence": 97.73290643456784,
               "name": "Self-Consciousness",
               "percentile": 46.46948755564857,
               "raw_score": 46.506331753777935,
               "trait": 4,
               "trait_id": "facet_self_consciousness"
              },
              {
               "confidence": 97.34377472142742,
               "name": "Immoderation",
               "percentile": 41.433944724250146,
               "raw_score": 41.46875108628947,
               "trait": 5,
               "trait_id": "facet_immoderation"
              },
              {
               "confidence": 97.49960209871047,
               "name": "Vulnerability",
               "percentile": 44.89418603775064,
               "raw_score": 44.85334786137897,
               "trait": 6,
               "trait_id": "facet_vulnerability"
              }
             ]
            }
           }
          ],
          "warnings": [
           "For a more accurate analysis, it is better for the text to contain more words than 288."
          ]
         },
         "name": "Anna Reed"
        },
        "predict_id": "6e6e7d58-bb3f-45d7-9eb1-69b273d67160",
        "provider": {
         "api": {
          "description": "Multiple Psycholinguistic Features",
          "name": "Ada",
          "version": "v2.0.0"
         },
         "date": "2025-01-01 20:36:21 UTC",
         "model": {
          "name": "Claudia",
          "theory": "Big 5 Personality Traits",
          "version": "v2.0.0"
         },
         "name": "NeuroQuest AI",
         "product": "Persona-Predict"
        }
       },
       "status": "success"
      },
      "text/plain": [
       "<IPython.core.display.JSON object>"
      ]
     },
     "execution_count": 5,
     "metadata": {
      "application/json": {
       "expanded": true,
       "root": "root"
      }
     },
     "output_type": "execute_result"
    }
   ],
   "source": [
    "JSON(analysis, expanded=True)"
   ]
  },
  {
   "cell_type": "markdown",
   "id": "286bbeea",
   "metadata": {},
   "source": [
    "## 0. Sunburst 🔮"
   ]
  },
  {
   "cell_type": "code",
   "execution_count": 6,
   "id": "65e5aef3",
   "metadata": {},
   "outputs": [
    {
     "data": {
      "text/html": [
       "<center><img src='plots/big5_plot_sunburst.png'/></center>"
      ],
      "text/plain": [
       "<IPython.core.display.HTML object>"
      ]
     },
     "metadata": {},
     "output_type": "display_data"
    }
   ],
   "source": [
    "display(HTML(U.plot_sunburst(data=analysis)))"
   ]
  },
  {
   "cell_type": "markdown",
   "id": "d9b59936-e191-4b76-bd6b-7035446d27e0",
   "metadata": {},
   "source": [
    "## 1. Big-Five Scores 🎭"
   ]
  },
  {
   "cell_type": "code",
   "execution_count": 7,
   "id": "1722938c-9193-4224-bcab-172da3177b4c",
   "metadata": {},
   "outputs": [
    {
     "data": {
      "text/html": [
       "<div>\n",
       "<style scoped>\n",
       "    .dataframe tbody tr th:only-of-type {\n",
       "        vertical-align: middle;\n",
       "    }\n",
       "\n",
       "    .dataframe tbody tr th {\n",
       "        vertical-align: top;\n",
       "    }\n",
       "\n",
       "    .dataframe thead th {\n",
       "        text-align: right;\n",
       "    }\n",
       "</style>\n",
       "<table border=\"1\" class=\"dataframe\">\n",
       "  <thead>\n",
       "    <tr style=\"text-align: right;\">\n",
       "      <th></th>\n",
       "      <th>O</th>\n",
       "      <th>C</th>\n",
       "      <th>E</th>\n",
       "      <th>A</th>\n",
       "      <th>N</th>\n",
       "    </tr>\n",
       "  </thead>\n",
       "  <tbody>\n",
       "    <tr>\n",
       "      <th>0</th>\n",
       "      <td>80.557806</td>\n",
       "      <td>58.623061</td>\n",
       "      <td>85.94919</td>\n",
       "      <td>50.850456</td>\n",
       "      <td>43.894986</td>\n",
       "    </tr>\n",
       "  </tbody>\n",
       "</table>\n",
       "</div>"
      ],
      "text/plain": [
       "           O          C         E          A          N\n",
       "0  80.557806  58.623061  85.94919  50.850456  43.894986"
      ]
     },
     "execution_count": 7,
     "metadata": {},
     "output_type": "execute_result"
    }
   ],
   "source": [
    "score_big_five = list(\n",
    "    map(\n",
    "        U.get_big5,\n",
    "        analysis.get(\"data\").get(\"person\").get(\"analysis\").get(\"personalities\"),\n",
    "    )\n",
    ")\n",
    "pd.concat([pd.DataFrame([x]) for x in score_big_five], axis=0).ffill().bfill().head(1)"
   ]
  },
  {
   "cell_type": "code",
   "execution_count": 8,
   "id": "8f56fc31-72ab-4be5-b4c0-2beb279de449",
   "metadata": {},
   "outputs": [
    {
     "data": {
      "text/html": [
       "<center><img src='plots/big5_plot_bar.png'/></center>"
      ],
      "text/plain": [
       "<IPython.core.display.HTML object>"
      ]
     },
     "metadata": {},
     "output_type": "display_data"
    }
   ],
   "source": [
    "display(HTML(U.plot_big5_bar(score_big_five=score_big_five)))"
   ]
  },
  {
   "cell_type": "markdown",
   "id": "6dbab8a7-b01b-4468-818e-75d5455cf6e3",
   "metadata": {},
   "source": [
    "## 2. Big-Five Openness & Facets 🧑‍🎨"
   ]
  },
  {
   "cell_type": "code",
   "execution_count": 9,
   "id": "b40366b6-5fa3-4999-b800-5a2422a32f5f",
   "metadata": {},
   "outputs": [
    {
     "data": {
      "text/html": [
       "<div>\n",
       "<style scoped>\n",
       "    .dataframe tbody tr th:only-of-type {\n",
       "        vertical-align: middle;\n",
       "    }\n",
       "\n",
       "    .dataframe tbody tr th {\n",
       "        vertical-align: top;\n",
       "    }\n",
       "\n",
       "    .dataframe thead th {\n",
       "        text-align: right;\n",
       "    }\n",
       "</style>\n",
       "<table border=\"1\" class=\"dataframe\">\n",
       "  <thead>\n",
       "    <tr style=\"text-align: right;\">\n",
       "      <th></th>\n",
       "      <th>name</th>\n",
       "      <th>percentile</th>\n",
       "      <th>confidence</th>\n",
       "    </tr>\n",
       "  </thead>\n",
       "  <tbody>\n",
       "    <tr>\n",
       "      <th>0</th>\n",
       "      <td>Imagination</td>\n",
       "      <td>78.678252</td>\n",
       "      <td>98.217488</td>\n",
       "    </tr>\n",
       "    <tr>\n",
       "      <th>1</th>\n",
       "      <td>Artistic Interests</td>\n",
       "      <td>83.538520</td>\n",
       "      <td>98.314118</td>\n",
       "    </tr>\n",
       "    <tr>\n",
       "      <th>2</th>\n",
       "      <td>Emotionality</td>\n",
       "      <td>77.568390</td>\n",
       "      <td>98.208160</td>\n",
       "    </tr>\n",
       "    <tr>\n",
       "      <th>3</th>\n",
       "      <td>Adventurousness</td>\n",
       "      <td>81.416272</td>\n",
       "      <td>98.305692</td>\n",
       "    </tr>\n",
       "    <tr>\n",
       "      <th>4</th>\n",
       "      <td>Intellect</td>\n",
       "      <td>77.988219</td>\n",
       "      <td>98.236006</td>\n",
       "    </tr>\n",
       "    <tr>\n",
       "      <th>5</th>\n",
       "      <td>Liberalism</td>\n",
       "      <td>84.157184</td>\n",
       "      <td>98.354267</td>\n",
       "    </tr>\n",
       "  </tbody>\n",
       "</table>\n",
       "</div>"
      ],
      "text/plain": [
       "                 name  percentile  confidence\n",
       "0         Imagination   78.678252   98.217488\n",
       "1  Artistic Interests   83.538520   98.314118\n",
       "2        Emotionality   77.568390   98.208160\n",
       "3     Adventurousness   81.416272   98.305692\n",
       "4           Intellect   77.988219   98.236006\n",
       "5          Liberalism   84.157184   98.354267"
      ]
     },
     "execution_count": 9,
     "metadata": {},
     "output_type": "execute_result"
    }
   ],
   "source": [
    "score_openness_facets = (\n",
    "    analysis.get(\"data\")\n",
    "    .get(\"person\")\n",
    "    .get(\"analysis\")\n",
    "    .get(\"personalities\")[0]\n",
    "    .get(\"openness\")\n",
    "    .get(\"traits\")\n",
    ")\n",
    "pd.DataFrame(score_openness_facets, columns=[\"name\", \"percentile\", \"confidence\"])"
   ]
  },
  {
   "cell_type": "code",
   "execution_count": 10,
   "id": "ea493798-cc05-43c8-8614-9d1a38719597",
   "metadata": {},
   "outputs": [
    {
     "data": {
      "text/html": [
       "<center><img src='plots/big5_openness_facets_plot_bar.png'/></center>"
      ],
      "text/plain": [
       "<IPython.core.display.HTML object>"
      ]
     },
     "metadata": {},
     "output_type": "display_data"
    }
   ],
   "source": [
    "display(\n",
    "    HTML(\n",
    "        U.plot_big5_openness_facets_bar(score_openness_facets=score_openness_facets)\n",
    "    )\n",
    ")"
   ]
  },
  {
   "cell_type": "markdown",
   "id": "056b9001-d1ae-41e9-98ce-fcee62674f2e",
   "metadata": {},
   "source": [
    "## 2. Big-Five Conscientiousness & Facets 🧑‍🔬 "
   ]
  },
  {
   "cell_type": "code",
   "execution_count": 11,
   "id": "25f0f372-13ad-45cd-b518-ceb800fe5fa2",
   "metadata": {},
   "outputs": [
    {
     "data": {
      "text/html": [
       "<div>\n",
       "<style scoped>\n",
       "    .dataframe tbody tr th:only-of-type {\n",
       "        vertical-align: middle;\n",
       "    }\n",
       "\n",
       "    .dataframe tbody tr th {\n",
       "        vertical-align: top;\n",
       "    }\n",
       "\n",
       "    .dataframe thead th {\n",
       "        text-align: right;\n",
       "    }\n",
       "</style>\n",
       "<table border=\"1\" class=\"dataframe\">\n",
       "  <thead>\n",
       "    <tr style=\"text-align: right;\">\n",
       "      <th></th>\n",
       "      <th>name</th>\n",
       "      <th>percentile</th>\n",
       "      <th>confidence</th>\n",
       "    </tr>\n",
       "  </thead>\n",
       "  <tbody>\n",
       "    <tr>\n",
       "      <th>0</th>\n",
       "      <td>Self-Efficacy</td>\n",
       "      <td>58.616316</td>\n",
       "      <td>97.687713</td>\n",
       "    </tr>\n",
       "    <tr>\n",
       "      <th>1</th>\n",
       "      <td>Orderliness</td>\n",
       "      <td>60.518321</td>\n",
       "      <td>97.730679</td>\n",
       "    </tr>\n",
       "    <tr>\n",
       "      <th>2</th>\n",
       "      <td>Dutifulness</td>\n",
       "      <td>57.720113</td>\n",
       "      <td>97.416429</td>\n",
       "    </tr>\n",
       "    <tr>\n",
       "      <th>3</th>\n",
       "      <td>Achievement-Striving</td>\n",
       "      <td>57.663481</td>\n",
       "      <td>97.600015</td>\n",
       "    </tr>\n",
       "    <tr>\n",
       "      <th>4</th>\n",
       "      <td>Self-Discipline</td>\n",
       "      <td>58.506988</td>\n",
       "      <td>97.371201</td>\n",
       "    </tr>\n",
       "    <tr>\n",
       "      <th>5</th>\n",
       "      <td>Cautiousness</td>\n",
       "      <td>58.713145</td>\n",
       "      <td>97.518729</td>\n",
       "    </tr>\n",
       "  </tbody>\n",
       "</table>\n",
       "</div>"
      ],
      "text/plain": [
       "                   name  percentile  confidence\n",
       "0         Self-Efficacy   58.616316   97.687713\n",
       "1           Orderliness   60.518321   97.730679\n",
       "2           Dutifulness   57.720113   97.416429\n",
       "3  Achievement-Striving   57.663481   97.600015\n",
       "4       Self-Discipline   58.506988   97.371201\n",
       "5          Cautiousness   58.713145   97.518729"
      ]
     },
     "execution_count": 11,
     "metadata": {},
     "output_type": "execute_result"
    }
   ],
   "source": [
    "score_conscientiousness_facets = (\n",
    "    analysis.get(\"data\")\n",
    "    .get(\"person\")\n",
    "    .get(\"analysis\")\n",
    "    .get(\"personalities\")[1]\n",
    "    .get(\"conscientiousness\")\n",
    "    .get(\"traits\")\n",
    ")\n",
    "pd.DataFrame(score_conscientiousness_facets, columns=[\"name\", \"percentile\", \"confidence\"])"
   ]
  },
  {
   "cell_type": "code",
   "execution_count": 12,
   "id": "857bc9d1-74d2-406a-b6c5-5272c0f6ad9b",
   "metadata": {},
   "outputs": [
    {
     "data": {
      "text/html": [
       "<center><img src='plots/big5_conscientiousness_facets_plot_bar.png'/></center>"
      ],
      "text/plain": [
       "<IPython.core.display.HTML object>"
      ]
     },
     "metadata": {},
     "output_type": "display_data"
    }
   ],
   "source": [
    "display(\n",
    "    HTML(\n",
    "        U.plot_big5_conscientiousness_facets_bar(\n",
    "            score_conscientiousness_facets=score_conscientiousness_facets\n",
    "        )\n",
    "    )\n",
    ")"
   ]
  },
  {
   "cell_type": "markdown",
   "id": "ed6aa80a-aba1-4f2d-b3b7-973e32d1027f",
   "metadata": {},
   "source": [
    "## 3. Big-Five Extraversion & Facets 🕺💃"
   ]
  },
  {
   "cell_type": "code",
   "execution_count": 13,
   "id": "67459c82-7643-42e9-a18e-7aeb4c7d1a62",
   "metadata": {},
   "outputs": [
    {
     "data": {
      "text/html": [
       "<div>\n",
       "<style scoped>\n",
       "    .dataframe tbody tr th:only-of-type {\n",
       "        vertical-align: middle;\n",
       "    }\n",
       "\n",
       "    .dataframe tbody tr th {\n",
       "        vertical-align: top;\n",
       "    }\n",
       "\n",
       "    .dataframe thead th {\n",
       "        text-align: right;\n",
       "    }\n",
       "</style>\n",
       "<table border=\"1\" class=\"dataframe\">\n",
       "  <thead>\n",
       "    <tr style=\"text-align: right;\">\n",
       "      <th></th>\n",
       "      <th>name</th>\n",
       "      <th>percentile</th>\n",
       "      <th>confidence</th>\n",
       "    </tr>\n",
       "  </thead>\n",
       "  <tbody>\n",
       "    <tr>\n",
       "      <th>0</th>\n",
       "      <td>Friendliness</td>\n",
       "      <td>85.648885</td>\n",
       "      <td>98.735947</td>\n",
       "    </tr>\n",
       "    <tr>\n",
       "      <th>1</th>\n",
       "      <td>Gregariousness</td>\n",
       "      <td>86.413292</td>\n",
       "      <td>98.770503</td>\n",
       "    </tr>\n",
       "    <tr>\n",
       "      <th>2</th>\n",
       "      <td>Assertiveness</td>\n",
       "      <td>83.256367</td>\n",
       "      <td>98.679913</td>\n",
       "    </tr>\n",
       "    <tr>\n",
       "      <th>3</th>\n",
       "      <td>Activity Level</td>\n",
       "      <td>86.136486</td>\n",
       "      <td>98.704258</td>\n",
       "    </tr>\n",
       "    <tr>\n",
       "      <th>4</th>\n",
       "      <td>Excitement Seeking</td>\n",
       "      <td>87.043552</td>\n",
       "      <td>98.772461</td>\n",
       "    </tr>\n",
       "    <tr>\n",
       "      <th>5</th>\n",
       "      <td>Cheerfulness</td>\n",
       "      <td>87.196557</td>\n",
       "      <td>98.773068</td>\n",
       "    </tr>\n",
       "  </tbody>\n",
       "</table>\n",
       "</div>"
      ],
      "text/plain": [
       "                 name  percentile  confidence\n",
       "0        Friendliness   85.648885   98.735947\n",
       "1      Gregariousness   86.413292   98.770503\n",
       "2       Assertiveness   83.256367   98.679913\n",
       "3      Activity Level   86.136486   98.704258\n",
       "4  Excitement Seeking   87.043552   98.772461\n",
       "5        Cheerfulness   87.196557   98.773068"
      ]
     },
     "execution_count": 13,
     "metadata": {},
     "output_type": "execute_result"
    }
   ],
   "source": [
    "score_extraversion_facets = (\n",
    "    analysis.get(\"data\")\n",
    "    .get(\"person\")\n",
    "    .get(\"analysis\")\n",
    "    .get(\"personalities\")[2]\n",
    "    .get(\"extraversion\")\n",
    "    .get(\"traits\")\n",
    ")\n",
    "pd.DataFrame(score_extraversion_facets, columns=[\"name\", \"percentile\", \"confidence\"])"
   ]
  },
  {
   "cell_type": "code",
   "execution_count": 14,
   "id": "05a5979e-62d5-4dca-9319-a44ee41d7856",
   "metadata": {},
   "outputs": [
    {
     "data": {
      "text/html": [
       "<center><img src='plots/big5_extraversion_facets_plot_bar.png'/></center>"
      ],
      "text/plain": [
       "<IPython.core.display.HTML object>"
      ]
     },
     "metadata": {},
     "output_type": "display_data"
    }
   ],
   "source": [
    "display(\n",
    "    HTML(\n",
    "        U.plot_big5_extraversion_facets_bar(\n",
    "            score_extraversion_facets=score_extraversion_facets\n",
    "        )\n",
    "    )\n",
    ")"
   ]
  },
  {
   "cell_type": "markdown",
   "id": "04257ede-733b-4d5d-9eae-247680087aaf",
   "metadata": {},
   "source": [
    "## 4. Big-Five Agreeableness & Facets 🙋🧡"
   ]
  },
  {
   "cell_type": "code",
   "execution_count": 15,
   "id": "4ce8b7db-11bc-4273-85aa-311639472770",
   "metadata": {},
   "outputs": [
    {
     "data": {
      "text/html": [
       "<div>\n",
       "<style scoped>\n",
       "    .dataframe tbody tr th:only-of-type {\n",
       "        vertical-align: middle;\n",
       "    }\n",
       "\n",
       "    .dataframe tbody tr th {\n",
       "        vertical-align: top;\n",
       "    }\n",
       "\n",
       "    .dataframe thead th {\n",
       "        text-align: right;\n",
       "    }\n",
       "</style>\n",
       "<table border=\"1\" class=\"dataframe\">\n",
       "  <thead>\n",
       "    <tr style=\"text-align: right;\">\n",
       "      <th></th>\n",
       "      <th>name</th>\n",
       "      <th>percentile</th>\n",
       "      <th>confidence</th>\n",
       "    </tr>\n",
       "  </thead>\n",
       "  <tbody>\n",
       "    <tr>\n",
       "      <th>0</th>\n",
       "      <td>Trust</td>\n",
       "      <td>56.555699</td>\n",
       "      <td>97.473701</td>\n",
       "    </tr>\n",
       "    <tr>\n",
       "      <th>1</th>\n",
       "      <td>Morality</td>\n",
       "      <td>48.073437</td>\n",
       "      <td>94.666951</td>\n",
       "    </tr>\n",
       "    <tr>\n",
       "      <th>2</th>\n",
       "      <td>Altruism</td>\n",
       "      <td>47.716771</td>\n",
       "      <td>94.552284</td>\n",
       "    </tr>\n",
       "    <tr>\n",
       "      <th>3</th>\n",
       "      <td>Cooperation</td>\n",
       "      <td>50.907906</td>\n",
       "      <td>96.795675</td>\n",
       "    </tr>\n",
       "    <tr>\n",
       "      <th>4</th>\n",
       "      <td>Modesty</td>\n",
       "      <td>52.091263</td>\n",
       "      <td>96.610010</td>\n",
       "    </tr>\n",
       "    <tr>\n",
       "      <th>5</th>\n",
       "      <td>Sympathy</td>\n",
       "      <td>49.757660</td>\n",
       "      <td>96.777441</td>\n",
       "    </tr>\n",
       "  </tbody>\n",
       "</table>\n",
       "</div>"
      ],
      "text/plain": [
       "          name  percentile  confidence\n",
       "0        Trust   56.555699   97.473701\n",
       "1     Morality   48.073437   94.666951\n",
       "2     Altruism   47.716771   94.552284\n",
       "3  Cooperation   50.907906   96.795675\n",
       "4      Modesty   52.091263   96.610010\n",
       "5     Sympathy   49.757660   96.777441"
      ]
     },
     "execution_count": 15,
     "metadata": {},
     "output_type": "execute_result"
    }
   ],
   "source": [
    "score_agreeableness_facets = (\n",
    "    analysis.get(\"data\")\n",
    "    .get(\"person\")\n",
    "    .get(\"analysis\")\n",
    "    .get(\"personalities\")[3]\n",
    "    .get(\"agreeableness\")\n",
    "    .get(\"traits\")\n",
    ")\n",
    "pd.DataFrame(score_agreeableness_facets, columns=[\"name\", \"percentile\", \"confidence\"])"
   ]
  },
  {
   "cell_type": "code",
   "execution_count": 16,
   "id": "303bb1b4-5a39-49b3-826d-d14010e57dc4",
   "metadata": {},
   "outputs": [
    {
     "data": {
      "text/html": [
       "<center><img src='plots/big5_agreeableness_facets_plot_bar.png'/></center>"
      ],
      "text/plain": [
       "<IPython.core.display.HTML object>"
      ]
     },
     "metadata": {},
     "output_type": "display_data"
    }
   ],
   "source": [
    "display(\n",
    "    HTML(\n",
    "        U.plot_big5_agreeableness_facets_bar(\n",
    "            score_agreeableness_facets=score_agreeableness_facets\n",
    "        )\n",
    "    )\n",
    ")"
   ]
  },
  {
   "cell_type": "markdown",
   "id": "7e991860-96ab-47f5-b61a-abea14fa60dd",
   "metadata": {},
   "source": [
    "## 5. Big-Five Neuroticism & Facets 🙅💢"
   ]
  },
  {
   "cell_type": "code",
   "execution_count": 17,
   "id": "dba0e2f2-cac5-4b0b-872b-dc182268175a",
   "metadata": {},
   "outputs": [
    {
     "data": {
      "text/html": [
       "<div>\n",
       "<style scoped>\n",
       "    .dataframe tbody tr th:only-of-type {\n",
       "        vertical-align: middle;\n",
       "    }\n",
       "\n",
       "    .dataframe tbody tr th {\n",
       "        vertical-align: top;\n",
       "    }\n",
       "\n",
       "    .dataframe thead th {\n",
       "        text-align: right;\n",
       "    }\n",
       "</style>\n",
       "<table border=\"1\" class=\"dataframe\">\n",
       "  <thead>\n",
       "    <tr style=\"text-align: right;\">\n",
       "      <th></th>\n",
       "      <th>name</th>\n",
       "      <th>percentile</th>\n",
       "      <th>confidence</th>\n",
       "    </tr>\n",
       "  </thead>\n",
       "  <tbody>\n",
       "    <tr>\n",
       "      <th>0</th>\n",
       "      <td>Anxiety</td>\n",
       "      <td>47.639561</td>\n",
       "      <td>97.818722</td>\n",
       "    </tr>\n",
       "    <tr>\n",
       "      <th>1</th>\n",
       "      <td>Anger</td>\n",
       "      <td>43.107160</td>\n",
       "      <td>97.353796</td>\n",
       "    </tr>\n",
       "    <tr>\n",
       "      <th>2</th>\n",
       "      <td>Depression</td>\n",
       "      <td>39.825577</td>\n",
       "      <td>97.348330</td>\n",
       "    </tr>\n",
       "    <tr>\n",
       "      <th>3</th>\n",
       "      <td>Self-Consciousness</td>\n",
       "      <td>46.469488</td>\n",
       "      <td>97.732906</td>\n",
       "    </tr>\n",
       "    <tr>\n",
       "      <th>4</th>\n",
       "      <td>Immoderation</td>\n",
       "      <td>41.433945</td>\n",
       "      <td>97.343775</td>\n",
       "    </tr>\n",
       "    <tr>\n",
       "      <th>5</th>\n",
       "      <td>Vulnerability</td>\n",
       "      <td>44.894186</td>\n",
       "      <td>97.499602</td>\n",
       "    </tr>\n",
       "  </tbody>\n",
       "</table>\n",
       "</div>"
      ],
      "text/plain": [
       "                 name  percentile  confidence\n",
       "0             Anxiety   47.639561   97.818722\n",
       "1               Anger   43.107160   97.353796\n",
       "2          Depression   39.825577   97.348330\n",
       "3  Self-Consciousness   46.469488   97.732906\n",
       "4        Immoderation   41.433945   97.343775\n",
       "5       Vulnerability   44.894186   97.499602"
      ]
     },
     "execution_count": 17,
     "metadata": {},
     "output_type": "execute_result"
    }
   ],
   "source": [
    "score_neuroticism_facets = (\n",
    "    analysis.get(\"data\")\n",
    "    .get(\"person\")\n",
    "    .get(\"analysis\")\n",
    "    .get(\"personalities\")[4]\n",
    "    .get(\"neuroticism\")\n",
    "    .get(\"traits\")\n",
    ")\n",
    "pd.DataFrame(score_neuroticism_facets, columns=[\"name\", \"percentile\", \"confidence\"])"
   ]
  },
  {
   "cell_type": "code",
   "execution_count": 18,
   "id": "b6e9279a-ffc2-4df0-a7ad-c29908db2f9f",
   "metadata": {},
   "outputs": [
    {
     "data": {
      "text/html": [
       "<center><img src='plots/big5_neuroticism_facets_plot_bar.png'/></center>"
      ],
      "text/plain": [
       "<IPython.core.display.HTML object>"
      ]
     },
     "metadata": {},
     "output_type": "display_data"
    }
   ],
   "source": [
    "display(\n",
    "    HTML(\n",
    "        U.plot_big5_neuroticism_facets_bar(\n",
    "            score_neuroticism_facets=score_neuroticism_facets\n",
    "        )\n",
    "    )\n",
    ")"
   ]
  }
 ],
 "metadata": {
  "kernelspec": {
   "display_name": "Python 3 (ipykernel)",
   "language": "python",
   "name": "python3"
  },
  "language_info": {
   "codemirror_mode": {
    "name": "ipython",
    "version": 3
   },
   "file_extension": ".py",
   "mimetype": "text/x-python",
   "name": "python",
   "nbconvert_exporter": "python",
   "pygments_lexer": "ipython3",
   "version": "3.12.3"
  }
 },
 "nbformat": 4,
 "nbformat_minor": 5
}
