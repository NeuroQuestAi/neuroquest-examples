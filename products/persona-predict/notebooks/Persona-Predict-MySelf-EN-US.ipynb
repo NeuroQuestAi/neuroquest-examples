{
 "cells": [
  {
   "cell_type": "markdown",
   "id": "05be025f-1d6d-41eb-aa04-14081277fa0f",
   "metadata": {},
   "source": [
    "# Analyzing Personality MySelf 🌊\n",
    "\n",
    "Using the **Persona-Predict V2** 🧠 service to create an analysis based on the author's text ✍️ and analyze the 🗣 personality traits generated. For more information about the service visit: [docs.neuroquest.ai/persona-predict](https://docs.neuroquest.ai/persona-predict/)\n",
    "\n",
    "The scores for the traits follow the [IPIP](https://ipip.ori.org/) standard. Where:\n",
    "\n",
    "- If the score is below 45: It is classified as a 'low' score.\n",
    "- If the score is between 45 and 55: It is classified as an 'average' score.\n",
    "- If the score is above 55: It is classified as a 'high' score.\n",
    "\n",
    "If you have any doubts about interpreting the results, please consult a psychologist specializing in personality theory.\n",
    "\n",
    "If the graphics are not rendered 🚫, use the address:\n",
    "\n",
    "  - [View in NBViewer](https://nbviewer.org/github/NeuroQuestAi/neuroquest-examples/blob/main/products/persona-predict/notebooks/Persona-Predict-MySelf.ipynb?flush_cache=true)"
   ]
  },
  {
   "cell_type": "code",
   "execution_count": null,
   "id": "50578723-bc28-4121-a8d9-dd7f8a153ad0",
   "metadata": {},
   "outputs": [],
   "source": [
    "import os\n",
    "\n",
    "import pandas as pd\n",
    "import utility as U\n",
    "\n",
    "from faker import Faker\n",
    "from IPython.display import JSON, HTML, display\n",
    "\n",
    "from dotenv import load_dotenv\n",
    "\n",
    "load_dotenv()"
   ]
  },
  {
   "cell_type": "code",
   "execution_count": null,
   "id": "d55dac21-035c-4db4-a7c6-4585abda5e50",
   "metadata": {},
   "outputs": [],
   "source": [
    "NQ_USER = os.getenv(\"NQ_USER\")\n",
    "NQ_PASSWORD = os.getenv(\"NQ_PASSWORD\")"
   ]
  },
  {
   "cell_type": "code",
   "execution_count": null,
   "id": "bf02dd4a",
   "metadata": {},
   "outputs": [],
   "source": [
    "assert NQ_USER is not None, \"set the user\"\n",
    "assert NQ_PASSWORD is not None, \"set the password\""
   ]
  },
  {
   "cell_type": "markdown",
   "id": "73c5b1e8-c15e-4770-9517-11b0e660598a",
   "metadata": {},
   "source": [
    "## Create the Personality Analysis 📊\n",
    "\n",
    "- Sends the text to the **Persona-Predict** Service, if the analysis already exists it is read from the file."
   ]
  },
  {
   "cell_type": "code",
   "execution_count": null,
   "id": "c4e537c0-f06d-47fe-b6da-269b3f0d8eee",
   "metadata": {},
   "outputs": [],
   "source": [
    "if not os.path.exists(\"results/persona-predict-v2.json\"):\n",
    "    print(\"Sending the text for analysis...\")\n",
    "    analysis = U.api_predict_create(\n",
    "        token=U.api_login(user=NQ_USER, password=NQ_PASSWORD).get(\"data\").get(\"token\"),\n",
    "        data={\n",
    "            \"name\": Faker().name(),\n",
    "            \"essay\": U.get_my_txt_essay(lang=\"en\"),\n",
    "            \"task\": False,\n",
    "        },\n",
    "        save_result=True,\n",
    "    )\n",
    "else:\n",
    "    print(\"Reading the saved analysis...\")\n",
    "    analysis = U.get_api_predict_result_in_file()"
   ]
  },
  {
   "cell_type": "code",
   "execution_count": null,
   "id": "8edee6a6-9eeb-449b-a7dd-093d0f9067ef",
   "metadata": {},
   "outputs": [],
   "source": [
    "JSON(analysis, expanded=True)"
   ]
  },
  {
   "cell_type": "markdown",
   "id": "286bbeea",
   "metadata": {},
   "source": [
    "## 0. Sunburst 🔮"
   ]
  },
  {
   "cell_type": "code",
   "execution_count": null,
   "id": "65e5aef3",
   "metadata": {},
   "outputs": [],
   "source": [
    "display(HTML(U.plot_sunburst(data=analysis)))"
   ]
  },
  {
   "cell_type": "markdown",
   "id": "d9b59936-e191-4b76-bd6b-7035446d27e0",
   "metadata": {},
   "source": [
    "## 1. Big-Five Scores 🎭"
   ]
  },
  {
   "cell_type": "code",
   "execution_count": null,
   "id": "1722938c-9193-4224-bcab-172da3177b4c",
   "metadata": {},
   "outputs": [],
   "source": [
    "score_big_five = list(\n",
    "    map(\n",
    "        U.get_big5,\n",
    "        analysis.get(\"data\").get(\"person\").get(\"analysis\").get(\"personalities\"),\n",
    "    )\n",
    ")\n",
    "pd.concat([pd.DataFrame([x]) for x in score_big_five], axis=0).ffill().bfill().head(1)"
   ]
  },
  {
   "cell_type": "code",
   "execution_count": null,
   "id": "8f56fc31-72ab-4be5-b4c0-2beb279de449",
   "metadata": {},
   "outputs": [],
   "source": [
    "display(HTML(U.plot_big5_bar(score_big_five=score_big_five)))"
   ]
  },
  {
   "cell_type": "markdown",
   "id": "6dbab8a7-b01b-4468-818e-75d5455cf6e3",
   "metadata": {},
   "source": [
    "## 2. Big-Five Openness & Facets 🧑‍🎨"
   ]
  },
  {
   "cell_type": "code",
   "execution_count": null,
   "id": "b40366b6-5fa3-4999-b800-5a2422a32f5f",
   "metadata": {},
   "outputs": [],
   "source": [
    "score_openness_facets = (\n",
    "    analysis.get(\"data\")\n",
    "    .get(\"person\")\n",
    "    .get(\"analysis\")\n",
    "    .get(\"personalities\")[0]\n",
    "    .get(\"openness\")\n",
    "    .get(\"traits\")\n",
    ")\n",
    "pd.DataFrame(score_openness_facets, columns=[\"name\", \"result\", \"confidence\"])"
   ]
  },
  {
   "cell_type": "code",
   "execution_count": null,
   "id": "ea493798-cc05-43c8-8614-9d1a38719597",
   "metadata": {},
   "outputs": [],
   "source": [
    "display(\n",
    "    HTML(\n",
    "        U.plot_big5_openness_facets_bar(score_openness_facets=score_openness_facets)\n",
    "    )\n",
    ")"
   ]
  },
  {
   "cell_type": "markdown",
   "id": "056b9001-d1ae-41e9-98ce-fcee62674f2e",
   "metadata": {},
   "source": [
    "## 2. Big-Five Conscientiousness & Facets 🧑‍🔬 "
   ]
  },
  {
   "cell_type": "code",
   "execution_count": null,
   "id": "25f0f372-13ad-45cd-b518-ceb800fe5fa2",
   "metadata": {},
   "outputs": [],
   "source": [
    "score_conscientiousness_facets = (\n",
    "    analysis.get(\"data\")\n",
    "    .get(\"person\")\n",
    "    .get(\"analysis\")\n",
    "    .get(\"personalities\")[1]\n",
    "    .get(\"conscientiousness\")\n",
    "    .get(\"traits\")\n",
    ")\n",
    "pd.DataFrame(score_conscientiousness_facets, columns=[\"name\", \"result\", \"confidence\"])"
   ]
  },
  {
   "cell_type": "code",
   "execution_count": null,
   "id": "857bc9d1-74d2-406a-b6c5-5272c0f6ad9b",
   "metadata": {},
   "outputs": [],
   "source": [
    "display(\n",
    "    HTML(\n",
    "        U.plot_big5_conscientiousness_facets_bar(\n",
    "            score_conscientiousness_facets=score_conscientiousness_facets\n",
    "        )\n",
    "    )\n",
    ")"
   ]
  },
  {
   "cell_type": "markdown",
   "id": "ed6aa80a-aba1-4f2d-b3b7-973e32d1027f",
   "metadata": {},
   "source": [
    "## 3. Big-Five Extraversion & Facets 🕺💃"
   ]
  },
  {
   "cell_type": "code",
   "execution_count": null,
   "id": "67459c82-7643-42e9-a18e-7aeb4c7d1a62",
   "metadata": {},
   "outputs": [],
   "source": [
    "score_extraversion_facets = (\n",
    "    analysis.get(\"data\")\n",
    "    .get(\"person\")\n",
    "    .get(\"analysis\")\n",
    "    .get(\"personalities\")[2]\n",
    "    .get(\"extraversion\")\n",
    "    .get(\"traits\")\n",
    ")\n",
    "pd.DataFrame(score_extraversion_facets, columns=[\"name\", \"result\", \"confidence\"])"
   ]
  },
  {
   "cell_type": "code",
   "execution_count": null,
   "id": "05a5979e-62d5-4dca-9319-a44ee41d7856",
   "metadata": {},
   "outputs": [],
   "source": [
    "display(\n",
    "    HTML(\n",
    "        U.plot_big5_extraversion_facets_bar(\n",
    "            score_extraversion_facets=score_extraversion_facets\n",
    "        )\n",
    "    )\n",
    ")"
   ]
  },
  {
   "cell_type": "markdown",
   "id": "04257ede-733b-4d5d-9eae-247680087aaf",
   "metadata": {},
   "source": [
    "## 4. Big-Five Agreeableness & Facets 🙋🧡"
   ]
  },
  {
   "cell_type": "code",
   "execution_count": null,
   "id": "4ce8b7db-11bc-4273-85aa-311639472770",
   "metadata": {},
   "outputs": [],
   "source": [
    "score_agreeableness_facets = (\n",
    "    analysis.get(\"data\")\n",
    "    .get(\"person\")\n",
    "    .get(\"analysis\")\n",
    "    .get(\"personalities\")[3]\n",
    "    .get(\"agreeableness\")\n",
    "    .get(\"traits\")\n",
    ")\n",
    "pd.DataFrame(score_agreeableness_facets, columns=[\"name\", \"result\", \"confidence\"])"
   ]
  },
  {
   "cell_type": "code",
   "execution_count": null,
   "id": "303bb1b4-5a39-49b3-826d-d14010e57dc4",
   "metadata": {},
   "outputs": [],
   "source": [
    "display(\n",
    "    HTML(\n",
    "        U.plot_big5_agreeableness_facets_bar(\n",
    "            score_agreeableness_facets=score_agreeableness_facets\n",
    "        )\n",
    "    )\n",
    ")"
   ]
  },
  {
   "cell_type": "markdown",
   "id": "7e991860-96ab-47f5-b61a-abea14fa60dd",
   "metadata": {},
   "source": [
    "## 5. Big-Five Neuroticism & Facets 🙅💢"
   ]
  },
  {
   "cell_type": "code",
   "execution_count": null,
   "id": "dba0e2f2-cac5-4b0b-872b-dc182268175a",
   "metadata": {},
   "outputs": [],
   "source": [
    "score_neuroticism_facets = (\n",
    "    analysis.get(\"data\")\n",
    "    .get(\"person\")\n",
    "    .get(\"analysis\")\n",
    "    .get(\"personalities\")[4]\n",
    "    .get(\"neuroticism\")\n",
    "    .get(\"traits\")\n",
    ")\n",
    "pd.DataFrame(score_neuroticism_facets, columns=[\"name\", \"result\", \"confidence\"])"
   ]
  },
  {
   "cell_type": "code",
   "execution_count": null,
   "id": "b6e9279a-ffc2-4df0-a7ad-c29908db2f9f",
   "metadata": {},
   "outputs": [],
   "source": [
    "display(\n",
    "    HTML(\n",
    "        U.plot_big5_neuroticism_facets_bar(\n",
    "            score_neuroticism_facets=score_neuroticism_facets\n",
    "        )\n",
    "    )\n",
    ")"
   ]
  }
 ],
 "metadata": {
  "kernelspec": {
   "display_name": "predict-notebooks-v2-n-vR_y6G-py3.12",
   "language": "python",
   "name": "python3"
  },
  "language_info": {
   "codemirror_mode": {
    "name": "ipython",
    "version": 3
   },
   "file_extension": ".py",
   "mimetype": "text/x-python",
   "name": "python",
   "nbconvert_exporter": "python",
   "pygments_lexer": "ipython3",
   "version": "3.12.3"
  }
 },
 "nbformat": 4,
 "nbformat_minor": 5
}
